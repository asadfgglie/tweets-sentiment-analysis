{
 "cells": [
  {
   "cell_type": "code",
   "execution_count": 1,
   "id": "4a3d8f43-08c0-4a85-9164-7a5ba91a5128",
   "metadata": {},
   "outputs": [],
   "source": [
    "import pandas as pd\n",
    "import numpy as np\n",
    "from sklearn.model_selection import train_test_split\n",
    "from sklearn.naive_bayes import MultinomialNB, GaussianNB\n",
    "from sklearn.linear_model import LogisticRegression\n",
    "from sklearn.ensemble import RandomForestClassifier, ExtraTreesClassifier\n",
    "from sklearn.tree import DecisionTreeClassifier\n",
    "from sklearn.svm import SVC\n",
    "import xgboost as xgb\n",
    "from xgboost import XGBClassifier\n",
    "from gensim.models import Word2Vec\n",
    "from sklearn.metrics import accuracy_score\n",
    "import time"
   ]
  },
  {
   "cell_type": "code",
   "execution_count": 5,
   "id": "1ff78112-60ef-421e-b949-8965d0cb5e75",
   "metadata": {},
   "outputs": [],
   "source": [
    "dh = pd.read_csv(\"./dataset/clear_lemmatize_expand_texts.csv\")\n",
    "dh['text'] = dh['text'].astype(str)\n",
    "dh['len'] = dh['text'].apply(lambda x: len(x))\n",
    "index = dh[dh['len'] == dh['len'].max()].index[0]\n",
    "\n",
    "# Split the text into words\n",
    "dh['text'] = dh['text'].apply(lambda x: x.split())\n",
    "\n",
    "# Create a Word2Vec model\n",
    "w2v_model = Word2Vec(dh['text'], vector_size=500, window=3, min_count=1, workers=6)\n",
    "\n",
    "# Create a function to convert a list of words into a Word2Vec vector\n",
    "def w2v_vectorizer(text):\n",
    "    return np.mean([w2v_model.wv[word] for word in text if word in w2v_model.wv], axis=0)\n",
    "\n",
    "# Apply the vectorizer to the text data\n",
    "X_train, X_test, y_train, y_test = train_test_split(dh['text'], dh['target'], test_size=0.991, random_state=42)\n",
    "\n",
    "X_train_w2v = np.array([w2v_vectorizer(text) for text in X_train])\n",
    "X_test_w2v = np.array([w2v_vectorizer(text) for text in X_test])\n",
    "\n",
    "classifiers = {\n",
    "    'SVM' : SVC(random_state=2024),\n",
    "    'Logistic Regression': LogisticRegression(random_state=2024),\n",
    "    'Random Forest': RandomForestClassifier(random_state=2024),\n",
    "    'Decision Tree': DecisionTreeClassifier(random_state=2024),\n",
    "    'Extra Trees': ExtraTreesClassifier(random_state=2024),\n",
    "    'XGBoost': XGBClassifier(random_state=2024)\n",
    "}"
   ]
  },
  {
   "cell_type": "code",
   "execution_count": 19,
   "id": "73f2c595-7ea9-4088-a86c-61a1cd744a23",
   "metadata": {},
   "outputs": [],
   "source": [
    "results = pd.DataFrame(columns=['Model', 'Test Accuracy', 'Std'])\n",
    "\n",
    "for clf_name, classifier in classifiers.items():\n",
    "    t1 = time.time()\n",
    "    classifier.fit(X_train_w2v, y_train // 4)\n",
    "#     train_accuracy = classifier.score(X_train_w2v, y_train)\n",
    "#     print(f\"Training accuracy for {clf_name} : {train_accuracy}, time: {time.time() - t1}\")\n",
    "\n",
    "#     t1 = time.time()\n",
    "#     test_accuracy = accuracy_score(y_test, classifier.predict(X_test_w2v))\n",
    "#     print(f\"test eval time: {time.time() - t1}\")\n",
    "#     result_dict = {'Model': clf_name, 'Test Accuracy': test_accuracy, 'Std': 0}\n",
    "#     results = pd.concat([results, pd.DataFrame([result_dict])], ignore_index=True)\n",
    "\n",
    "# print(results)"
   ]
  },
  {
   "cell_type": "code",
   "execution_count": 11,
   "id": "c71d3d8c",
   "metadata": {},
   "outputs": [],
   "source": [
    "def inference_test(cls, x=dh['text'][index], times=10000):\n",
    "    print(cls.__class__.__name__, w2v_vectorizer.__name__)\n",
    "    a = []\n",
    "    for _ in range(times):\n",
    "        t1 = time.time()\n",
    "        cls.predict([w2v_vectorizer(x)])\n",
    "        a.append(time.time() - t1)\n",
    "    print(np.mean(a))\n",
    "    return np.mean(a)"
   ]
  },
  {
   "cell_type": "code",
   "execution_count": 20,
   "id": "19d31e00",
   "metadata": {},
   "outputs": [
    {
     "name": "stdout",
     "output_type": "stream",
     "text": [
      "SVC w2v_vectorizer\n",
      "0.003599748396873474\n"
     ]
    }
   ],
   "source": [
    "for c in classifiers.values():\n",
    "    inference_test(c)"
   ]
  }
 ],
 "metadata": {
  "kernelspec": {
   "display_name": "Python 3 (ipykernel)",
   "language": "python",
   "name": "python3"
  },
  "language_info": {
   "codemirror_mode": {
    "name": "ipython",
    "version": 3
   },
   "file_extension": ".py",
   "mimetype": "text/x-python",
   "name": "python",
   "nbconvert_exporter": "python",
   "pygments_lexer": "ipython3",
   "version": "3.9.13"
  }
 },
 "nbformat": 4,
 "nbformat_minor": 5
}
