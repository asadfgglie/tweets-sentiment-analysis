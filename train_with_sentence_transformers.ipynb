{
 "cells": [
  {
   "cell_type": "code",
   "execution_count": 2,
   "metadata": {},
   "outputs": [
    {
     "name": "stderr",
     "output_type": "stream",
     "text": [
      "Intel(R) Extension for Scikit-learn* enabled (https://github.com/intel/scikit-learn-intelex)\n"
     ]
    }
   ],
   "source": [
    "from sklearnex import patch_sklearn # intel device sklearn boosting\n",
    "patch_sklearn()\n",
    "import util\n",
    "from sentence_transformers import SentenceTransformer\n",
    "from sklearn.feature_extraction.text import CountVectorizer, TfidfVectorizer\n",
    "from torch.cuda import is_available\n",
    "import numpy as np\n",
    "import pandas as pd\n",
    "from sklearn.base import BaseEstimator\n",
    "from sklearn.ensemble import RandomForestClassifier, ExtraTreesClassifier\n",
    "from sklearn.tree import DecisionTreeClassifier\n",
    "from sklearn.linear_model import LogisticRegression\n",
    "from sklearn.neighbors import KNeighborsClassifier # it take too much time to evaluation\n",
    "from sklearn.svm import LinearSVC # if training dataset is too large, we will not train in default SVC\n",
    "from sklearn.svm import SVC # only train in small training dataset\n",
    "from sklearn.naive_bayes import GaussianNB\n",
    "from sklearn.naive_bayes import MultinomialNB\n",
    "from xgboost import XGBClassifier\n",
    "from sklearn.model_selection import train_test_split\n",
    "from pycontractions import Contractions\n",
    "from nltk.corpus import stopwords\n",
    "import time\n",
    "import seaborn as sns\n",
    "import matplotlib.pyplot as plt\n",
    "import optuna\n",
    "from optuna.visualization import plot_param_importances\n",
    "from optuna.importance import MeanDecreaseImpurityImportanceEvaluator\n",
    "from optuna.visualization import plot_optimization_history"
   ]
  },
  {
   "cell_type": "code",
   "execution_count": 5,
   "metadata": {},
   "outputs": [],
   "source": [
    "dataset = pd.read_csv('./dataset/clear_lemmatize_expand_texts.csv')\n",
    "dataset['text'] = dataset['text'].astype(str)"
   ]
  },
  {
   "cell_type": "code",
   "execution_count": null,
   "metadata": {},
   "outputs": [],
   "source": [
    "model = SentenceTransformer(\"all-MiniLM-L6-v2\", device='cuda' if is_available() else 'cpu')\n",
    "model.device"
   ]
  },
  {
   "cell_type": "code",
   "execution_count": 48,
   "metadata": {},
   "outputs": [],
   "source": [
    "dataset['len'] = dataset['text'].apply(lambda x: len(x))\n",
    "index = dataset[dataset['len'] == dataset['len'].max()].index[0]"
   ]
  },
  {
   "cell_type": "code",
   "execution_count": 53,
   "metadata": {},
   "outputs": [],
   "source": [
    "def inference_test(cls, x=dataset['text'][index], times=10000, encoder=model):\n",
    "    print(cls.__class__.__name__, encoder.__class__.__name__)\n",
    "    a = []\n",
    "    for _ in range(times):\n",
    "        t1 = time.time()\n",
    "        cls.predict([encoder.encode(x)])\n",
    "        a.append(time.time() - t1)\n",
    "    print(np.mean(a))\n",
    "    return np.mean(a)"
   ]
  },
  {
   "cell_type": "code",
   "execution_count": 15,
   "metadata": {},
   "outputs": [
    {
     "name": "stderr",
     "output_type": "stream",
     "text": [
      "Batches: 100%|██████████| 3125/3125 [14:07<00:00,  3.69it/s] \n"
     ]
    }
   ],
   "source": [
    "embedding = model.encode(dataset['text'], show_progress_bar=True, batch_size=512)\n",
    "np.save('./dataset/clear_lemmatize_expand_texts_embedding.npy', embedding)"
   ]
  },
  {
   "cell_type": "code",
   "execution_count": 27,
   "metadata": {},
   "outputs": [],
   "source": [
    "embedding = np.load(r'.\\dataset\\clear_lemmatize_expand_texts_embedding.npy')"
   ]
  },
  {
   "cell_type": "code",
   "execution_count": 28,
   "metadata": {},
   "outputs": [],
   "source": [
    "X, Y = embedding, dataset['target'].to_numpy() // 4"
   ]
  },
  {
   "cell_type": "code",
   "execution_count": 29,
   "metadata": {},
   "outputs": [],
   "source": [
    "def train(model: BaseEstimator, x=X, y=Y, batch=None, test_ratio=0.2, verbose=False):\n",
    "    if verbose:\n",
    "        print(model.__class__.__name__)\n",
    "    x_train, x_test, y_train, y_test = train_test_split(x, y, test_size=test_ratio)\n",
    "    t1 = time.time()\n",
    "    model.fit(x_train[:batch], y_train[:batch])\n",
    "    t2 = time.time()\n",
    "    train_sc = model.score(x_train[:batch], y_train[:batch])\n",
    "    test_sc = model.score(x_test[:batch], y_test[:batch])\n",
    "    if verbose:\n",
    "        print('training time:', t2 - t1)\n",
    "        print('train acc:', train_sc)\n",
    "        print('test acc:', test_sc)\n",
    "        print('eval time:', time.time() - t2)\n",
    "    return train_sc, test_sc"
   ]
  },
  {
   "cell_type": "code",
   "execution_count": 57,
   "metadata": {},
   "outputs": [],
   "source": [
    "def test_ratio(model, ratio_ragne=np.arange(0.991, 0.999, 0.001)):\n",
    "    a = []\n",
    "    for r in ratio_ragne:\n",
    "        a.append(train(model=model, test_ratio=r))\n",
    "\n",
    "    axes = plt.subplot()\n",
    "\n",
    "    a = np.array(a)\n",
    "\n",
    "    axes.set_xlabel('test ratio')\n",
    "    axes.set_ylabel('acc')\n",
    "    axes.set_title(model.__class__.__name__)\n",
    "\n",
    "    sns.lineplot(x=ratio_ragne, y=a[:, 0], label='train_acc', ax=axes)\n",
    "    sns.lineplot(x=ratio_ragne, y=a[:, 1], label='test_acc', ax=axes)\n",
    "    plt.tight_layout()\n",
    "    plt.show()\n",
    "    return a"
   ]
  },
  {
   "cell_type": "code",
   "execution_count": 41,
   "metadata": {},
   "outputs": [
    {
     "name": "stdout",
     "output_type": "stream",
     "text": [
      "RandomForestClassifier\n",
      "training time: 0.9209997653961182\n",
      "train acc: 0.9989583333333333\n",
      "test acc: 0.7340848890010091\n",
      "eval time: 6.432000398635864\n"
     ]
    },
    {
     "data": {
      "text/plain": [
       "(0.9989583333333333, 0.7340848890010091)"
      ]
     },
     "execution_count": 41,
     "metadata": {},
     "output_type": "execute_result"
    }
   ],
   "source": [
    "rfc = RandomForestClassifier(random_state=2024)\n",
    "train(rfc, verbose=True, test_ratio=0.991)"
   ]
  },
  {
   "cell_type": "code",
   "execution_count": 41,
   "metadata": {},
   "outputs": [
    {
     "data": {
      "image/png": "[encoded data removed]",
      "text/plain": [
       "<Figure size 640x480 with 1 Axes>"
      ]
     },
     "metadata": {},
     "output_type": "display_data"
    }
   ],
   "source": [
    "test_ratio(rfc)"
   ]
  },
  {
   "cell_type": "code",
   "execution_count": 42,
   "metadata": {},
   "outputs": [
    {
     "name": "stdout",
     "output_type": "stream",
     "text": [
      "XGBClassifier\n",
      "training time: 3.5587353706359863\n",
      "train acc: 0.9984722222222222\n",
      "test acc: 0.7381224772956609\n",
      "eval time: 1.193023920059204\n"
     ]
    },
    {
     "data": {
      "text/plain": [
       "(0.9984722222222222, 0.7381224772956609)"
      ]
     },
     "execution_count": 42,
     "metadata": {},
     "output_type": "execute_result"
    }
   ],
   "source": [
    "xgb = XGBClassifier(random_state=2024)\n",
    "train(xgb, verbose=True, test_ratio=0.991)"
   ]
  },
  {
   "cell_type": "code",
   "execution_count": 47,
   "metadata": {},
   "outputs": [
    {
     "data": {
      "image/png": "[encoded data removed]",
      "text/plain": [
       "<Figure size 640x480 with 1 Axes>"
      ]
     },
     "metadata": {},
     "output_type": "display_data"
    }
   ],
   "source": [
    "test_ratio(xgb)"
   ]
  },
  {
   "cell_type": "code",
   "execution_count": 43,
   "metadata": {},
   "outputs": [
    {
     "name": "stdout",
     "output_type": "stream",
     "text": [
      "DecisionTreeClassifier\n",
      "training time: 8.511064291000366\n",
      "train acc: 0.9986111111111111\n",
      "test acc: 0.6039820887991927\n",
      "eval time: 0.8330597877502441\n"
     ]
    },
    {
     "data": {
      "text/plain": [
       "(0.9986111111111111, 0.6039820887991927)"
      ]
     },
     "execution_count": 43,
     "metadata": {},
     "output_type": "execute_result"
    }
   ],
   "source": [
    "dtc = DecisionTreeClassifier(random_state=2024)\n",
    "train(dtc, verbose=True, test_ratio=0.991)"
   ]
  },
  {
   "cell_type": "code",
   "execution_count": 49,
   "metadata": {},
   "outputs": [
    {
     "data": {
      "image/png": "[encoded data removed]",
      "text/plain": [
       "<Figure size 640x480 with 1 Axes>"
      ]
     },
     "metadata": {},
     "output_type": "display_data"
    }
   ],
   "source": [
    "test_ratio(dtc)"
   ]
  },
  {
   "cell_type": "code",
   "execution_count": 44,
   "metadata": {},
   "outputs": [
    {
     "name": "stdout",
     "output_type": "stream",
     "text": [
      "LogisticRegression\n",
      "training time: 0.2116858959197998\n",
      "train acc: 0.7809027777777777\n",
      "test acc: 0.7667097628657922\n",
      "eval time: 0.29931020736694336\n"
     ]
    },
    {
     "data": {
      "text/plain": [
       "(0.7809027777777777, 0.7667097628657922)"
      ]
     },
     "execution_count": 44,
     "metadata": {},
     "output_type": "execute_result"
    }
   ],
   "source": [
    "lr = LogisticRegression(random_state=2024)\n",
    "train(lr, verbose=True, test_ratio=0.991)"
   ]
  },
  {
   "cell_type": "code",
   "execution_count": 51,
   "metadata": {},
   "outputs": [
    {
     "data": {
      "image/png": "[encoded data removed]",
      "text/plain": [
       "<Figure size 640x480 with 1 Axes>"
      ]
     },
     "metadata": {},
     "output_type": "display_data"
    }
   ],
   "source": [
    "test_ratio(lr)"
   ]
  },
  {
   "cell_type": "code",
   "execution_count": 46,
   "metadata": {},
   "outputs": [
    {
     "name": "stdout",
     "output_type": "stream",
     "text": [
      "SVC\n",
      "training time: 0.8040015697479248\n",
      "train acc: 0.908125\n",
      "test acc: 0.7774394550958628\n",
      "eval time: 26.899097681045532\n"
     ]
    },
    {
     "data": {
      "text/plain": [
       "(0.908125, 0.7774394550958628)"
      ]
     },
     "execution_count": 46,
     "metadata": {},
     "output_type": "execute_result"
    }
   ],
   "source": [
    "svc = SVC(random_state=2024)\n",
    "train(svc, verbose=True, test_ratio=0.991)"
   ]
  },
  {
   "cell_type": "code",
   "execution_count": 56,
   "metadata": {},
   "outputs": [
    {
     "data": {
      "image/png": "[encoded data removed]",
      "text/plain": [
       "<Figure size 640x480 with 1 Axes>"
      ]
     },
     "metadata": {},
     "output_type": "display_data"
    }
   ],
   "source": [
    "test_ratio(svc)"
   ]
  },
  {
   "cell_type": "code",
   "execution_count": 47,
   "metadata": {},
   "outputs": [
    {
     "name": "stdout",
     "output_type": "stream",
     "text": [
      "ExtraTreesClassifier\n",
      "training time: 0.6750466823577881\n",
      "train acc: 0.9988888888888889\n",
      "test acc: 0.7266839051463169\n",
      "eval time: 5.27486777305603\n"
     ]
    },
    {
     "data": {
      "text/plain": [
       "(0.9988888888888889, 0.7266839051463169)"
      ]
     },
     "execution_count": 47,
     "metadata": {},
     "output_type": "execute_result"
    }
   ],
   "source": [
    "extree = ExtraTreesClassifier(random_state=2024)\n",
    "train(extree, verbose=True, test_ratio=0.991)"
   ]
  },
  {
   "cell_type": "code",
   "execution_count": null,
   "metadata": {},
   "outputs": [
    {
     "data": {
      "image/png": "[encoded data removed]",
      "text/plain": [
       "<Figure size 640x480 with 1 Axes>"
      ]
     },
     "metadata": {},
     "output_type": "display_data"
    }
   ],
   "source": [
    "test_ratio(extree)"
   ]
  },
  {
   "cell_type": "markdown",
   "metadata": {},
   "source": [
    "#### inference test"
   ]
  },
  {
   "cell_type": "code",
   "execution_count": 54,
   "metadata": {},
   "outputs": [
    {
     "name": "stdout",
     "output_type": "stream",
     "text": [
      "LinearSVC SentenceTransformer\n",
      "0.008146489024162292\n",
      "RandomForestClassifier SentenceTransformer\n",
      "0.008942242145538331\n",
      "XGBClassifier SentenceTransformer\n",
      "0.012190344858169555\n",
      "DecisionTreeClassifier SentenceTransformer\n",
      "0.007905494737625121\n",
      "LogisticRegression SentenceTransformer\n",
      "0.008264973139762878\n",
      "GaussianNB SentenceTransformer\n",
      "0.006958610081672668\n",
      "SVC SentenceTransformer\n",
      "0.019476478958129883\n",
      "ExtraTreesClassifier SentenceTransformer\n",
      "0.009934049844741822\n"
     ]
    },
    {
     "data": {
      "text/plain": [
       "0.009934049844741822"
      ]
     },
     "execution_count": 54,
     "metadata": {},
     "output_type": "execute_result"
    }
   ],
   "source": [
    "inference_test(rfc)\n",
    "inference_test(xgb)\n",
    "inference_test(dtc)\n",
    "inference_test(lr)\n",
    "inference_test(svc)\n",
    "inference_test(extree)"
   ]
  },
  {
   "cell_type": "markdown",
   "metadata": {},
   "source": [
    "#### optimize"
   ]
  },
  {
   "cell_type": "code",
   "execution_count": 205,
   "metadata": {},
   "outputs": [],
   "source": [
    "def objective(trial: optuna.trial.Trial):\n",
    "    params = {\n",
    "        'max_depth': trial.suggest_int('max_depth', 9, 13),\n",
    "        \"subsample\": trial.suggest_float(\"subsample\", 0.99, 1.0),\n",
    "        'n_estimators': trial.suggest_int('n_estimators', 225, 275, step=5),\n",
    "        'eta': trial.suggest_float(\"eta\", 0.7, 0.703, log=True),\n",
    "        'alpha': trial.suggest_float('alpha', 5.45e-7, 5.46e-7, log=True),\n",
    "        'lambda': trial.suggest_float('lambda', 1e-8, 1e-7, log=True),\n",
    "        'gamma': trial.suggest_float(\"gamma\", 4.48e-7, 4.485e-7, log=True),\n",
    "        'min_child_weight': trial.suggest_int('min_child_weight', 2, 6),\n",
    "        'grow_policy': trial.suggest_categorical(\"grow_policy\", [\"depthwise\", \"lossguide\"]),\n",
    "        \"colsample_bytree\": trial.suggest_float(\"colsample_bytree\", 0.8, 0.9)\n",
    "    }\n",
    "    xgb_model = XGBClassifier(**params)\n",
    "    return np.array(train(xgb_model, test_ratio=0.991)).mean()"
   ]
  },
  {
   "cell_type": "code",
   "execution_count": null,
   "metadata": {},
   "outputs": [],
   "source": [
    "study = optuna.create_study(direction='maximize')"
   ]
  },
  {
   "cell_type": "code",
   "execution_count": 210,
   "metadata": {},
   "outputs": [
    {
     "name": "stdout",
     "output_type": "stream",
     "text": [
      "Best trial parameters: {'max_depth': 10, 'subsample': 0.9944429956664866, 'n_estimators': 250, 'eta': 0.0450936851981266, 'alpha': 0.0005827763748669013, 'lambda': 8.079327547505147e-08, 'gamma': 1.1347841203453763e-06, 'min_child_weight': 6, 'grow_policy': 'lossguide', 'colsample_bytree': 0.8008542412503581}\n",
      "Best score: 0.8791894761183989\n"
     ]
    }
   ],
   "source": [
    "print('Best trial parameters:', study.best_trial.params)\n",
    "print('Best score:', study.best_value)"
   ]
  },
  {
   "cell_type": "code",
   "execution_count": null,
   "metadata": {},
   "outputs": [],
   "source": [
    "study.optimize(objective, n_trials=100, n_jobs=2)\n",
    "\n",
    "# Showing optimization results\n",
    "print('Number of finished trials:', len(study.trials))\n",
    "print('Best trial parameters:', study.best_trial.params)\n",
    "print('Best score:', study.best_value)"
   ]
  },
  {
   "cell_type": "code",
   "execution_count": 207,
   "metadata": {},
   "outputs": [
    {
     "data": {
      "application/vnd.plotly.v1+json": {
       "config": {
        "plotlyServerURL": "https://plot.ly"
       },
       "data": [
        {
         "cliponaxis": false,
         "hovertemplate": [
          "grow_policy (CategoricalDistribution): 1.0<extra></extra>"
         ],
         "name": "Objective Value",
         "orientation": "h",
         "text": [
          "1.00"
         ],
         "textposition": "outside",
         "type": "bar",
         "x": [
          1
         ],
         "y": [
          "grow_policy"
         ]
        }
       ],
       "layout": {
        "template": {
         "data": {
          "bar": [
           {
            "error_x": {
             "color": "#2a3f5f"
            },
            "error_y": {
             "color": "#2a3f5f"
            },
            "marker": {
             "line": {
              "color": "#E5ECF6",
              "width": 0.5
             },
             "pattern": {
              "fillmode": "overlay",
              "size": 10,
              "solidity": 0.2
             }
            },
            "type": "bar"
           }
          ],
          "barpolar": [
           {
            "marker": {
             "line": {
              "color": "#E5ECF6",
              "width": 0.5
             },
             "pattern": {
              "fillmode": "overlay",
              "size": 10,
              "solidity": 0.2
             }
            },
            "type": "barpolar"
           }
          ],
          "carpet": [
           {
            "aaxis": {
             "endlinecolor": "#2a3f5f",
             "gridcolor": "white",
             "linecolor": "white",
             "minorgridcolor": "white",
             "startlinecolor": "#2a3f5f"
            },
            "baxis": {
             "endlinecolor": "#2a3f5f",
             "gridcolor": "white",
             "linecolor": "white",
             "minorgridcolor": "white",
             "startlinecolor": "#2a3f5f"
            },
            "type": "carpet"
           }
          ],
          "choropleth": [
           {
            "colorbar": {
             "outlinewidth": 0,
             "ticks": ""
            },
            "type": "choropleth"
           }
          ],
          "contour": [
           {
            "colorbar": {
             "outlinewidth": 0,
             "ticks": ""
            },
            "colorscale": [
             [
              0,
              "#0d0887"
             ],
             [
              0.1111111111111111,
              "#46039f"
             ],
             [
              0.2222222222222222,
              "#7201a8"
             ],
             [
              0.3333333333333333,
              "#9c179e"
             ],
             [
              0.4444444444444444,
              "#bd3786"
             ],
             [
              0.5555555555555556,
              "#d8576b"
             ],
             [
              0.6666666666666666,
              "#ed7953"
             ],
             [
              0.7777777777777778,
              "#fb9f3a"
             ],
             [
              0.8888888888888888,
              "#fdca26"
             ],
             [
              1,
              "#f0f921"
             ]
            ],
            "type": "contour"
           }
          ],
          "contourcarpet": [
           {
            "colorbar": {
             "outlinewidth": 0,
             "ticks": ""
            },
            "type": "contourcarpet"
           }
          ],
          "heatmap": [
           {
            "colorbar": {
             "outlinewidth": 0,
             "ticks": ""
            },
            "colorscale": [
             [
              0,
              "#0d0887"
             ],
             [
              0.1111111111111111,
              "#46039f"
             ],
             [
              0.2222222222222222,
              "#7201a8"
             ],
             [
              0.3333333333333333,
              "#9c179e"
             ],
             [
              0.4444444444444444,
              "#bd3786"
             ],
             [
              0.5555555555555556,
              "#d8576b"
             ],
             [
              0.6666666666666666,
              "#ed7953"
             ],
             [
              0.7777777777777778,
              "#fb9f3a"
             ],
             [
              0.8888888888888888,
              "#fdca26"
             ],
             [
              1,
              "#f0f921"
             ]
            ],
            "type": "heatmap"
           }
          ],
          "heatmapgl": [
           {
            "colorbar": {
             "outlinewidth": 0,
             "ticks": ""
            },
            "colorscale": [
             [
              0,
              "#0d0887"
             ],
             [
              0.1111111111111111,
              "#46039f"
             ],
             [
              0.2222222222222222,
              "#7201a8"
             ],
             [
              0.3333333333333333,
              "#9c179e"
             ],
             [
              0.4444444444444444,
              "#bd3786"
             ],
             [
              0.5555555555555556,
              "#d8576b"
             ],
             [
              0.6666666666666666,
              "#ed7953"
             ],
             [
              0.7777777777777778,
              "#fb9f3a"
             ],
             [
              0.8888888888888888,
              "#fdca26"
             ],
             [
              1,
              "#f0f921"
             ]
            ],
            "type": "heatmapgl"
           }
          ],
          "histogram": [
           {
            "marker": {
             "pattern": {
              "fillmode": "overlay",
              "size": 10,
              "solidity": 0.2
             }
            },
            "type": "histogram"
           }
          ],
          "histogram2d": [
           {
            "colorbar": {
             "outlinewidth": 0,
             "ticks": ""
            },
            "colorscale": [
             [
              0,
              "#0d0887"
             ],
             [
              0.1111111111111111,
              "#46039f"
             ],
             [
              0.2222222222222222,
              "#7201a8"
             ],
             [
              0.3333333333333333,
              "#9c179e"
             ],
             [
              0.4444444444444444,
              "#bd3786"
             ],
             [
              0.5555555555555556,
              "#d8576b"
             ],
             [
              0.6666666666666666,
              "#ed7953"
             ],
             [
              0.7777777777777778,
              "#fb9f3a"
             ],
             [
              0.8888888888888888,
              "#fdca26"
             ],
             [
              1,
              "#f0f921"
             ]
            ],
            "type": "histogram2d"
           }
          ],
          "histogram2dcontour": [
           {
            "colorbar": {
             "outlinewidth": 0,
             "ticks": ""
            },
            "colorscale": [
             [
              0,
              "#0d0887"
             ],
             [
              0.1111111111111111,
              "#46039f"
             ],
             [
              0.2222222222222222,
              "#7201a8"
             ],
             [
              0.3333333333333333,
              "#9c179e"
             ],
             [
              0.4444444444444444,
              "#bd3786"
             ],
             [
              0.5555555555555556,
              "#d8576b"
             ],
             [
              0.6666666666666666,
              "#ed7953"
             ],
             [
              0.7777777777777778,
              "#fb9f3a"
             ],
             [
              0.8888888888888888,
              "#fdca26"
             ],
             [
              1,
              "#f0f921"
             ]
            ],
            "type": "histogram2dcontour"
           }
          ],
          "mesh3d": [
           {
            "colorbar": {
             "outlinewidth": 0,
             "ticks": ""
            },
            "type": "mesh3d"
           }
          ],
          "parcoords": [
           {
            "line": {
             "colorbar": {
              "outlinewidth": 0,
              "ticks": ""
             }
            },
            "type": "parcoords"
           }
          ],
          "pie": [
           {
            "automargin": true,
            "type": "pie"
           }
          ],
          "scatter": [
           {
            "fillpattern": {
             "fillmode": "overlay",
             "size": 10,
             "solidity": 0.2
            },
            "type": "scatter"
           }
          ],
          "scatter3d": [
           {
            "line": {
             "colorbar": {
              "outlinewidth": 0,
              "ticks": ""
             }
            },
            "marker": {
             "colorbar": {
              "outlinewidth": 0,
              "ticks": ""
             }
            },
            "type": "scatter3d"
           }
          ],
          "scattercarpet": [
           {
            "marker": {
             "colorbar": {
              "outlinewidth": 0,
              "ticks": ""
             }
            },
            "type": "scattercarpet"
           }
          ],
          "scattergeo": [
           {
            "marker": {
             "colorbar": {
              "outlinewidth": 0,
              "ticks": ""
             }
            },
            "type": "scattergeo"
           }
          ],
          "scattergl": [
           {
            "marker": {
             "colorbar": {
              "outlinewidth": 0,
              "ticks": ""
             }
            },
            "type": "scattergl"
           }
          ],
          "scattermapbox": [
           {
            "marker": {
             "colorbar": {
              "outlinewidth": 0,
              "ticks": ""
             }
            },
            "type": "scattermapbox"
           }
          ],
          "scatterpolar": [
           {
            "marker": {
             "colorbar": {
              "outlinewidth": 0,
              "ticks": ""
             }
            },
            "type": "scatterpolar"
           }
          ],
          "scatterpolargl": [
           {
            "marker": {
             "colorbar": {
              "outlinewidth": 0,
              "ticks": ""
             }
            },
            "type": "scatterpolargl"
           }
          ],
          "scatterternary": [
           {
            "marker": {
             "colorbar": {
              "outlinewidth": 0,
              "ticks": ""
             }
            },
            "type": "scatterternary"
           }
          ],
          "surface": [
           {
            "colorbar": {
             "outlinewidth": 0,
             "ticks": ""
            },
            "colorscale": [
             [
              0,
              "#0d0887"
             ],
             [
              0.1111111111111111,
              "#46039f"
             ],
             [
              0.2222222222222222,
              "#7201a8"
             ],
             [
              0.3333333333333333,
              "#9c179e"
             ],
             [
              0.4444444444444444,
              "#bd3786"
             ],
             [
              0.5555555555555556,
              "#d8576b"
             ],
             [
              0.6666666666666666,
              "#ed7953"
             ],
             [
              0.7777777777777778,
              "#fb9f3a"
             ],
             [
              0.8888888888888888,
              "#fdca26"
             ],
             [
              1,
              "#f0f921"
             ]
            ],
            "type": "surface"
           }
          ],
          "table": [
           {
            "cells": {
             "fill": {
              "color": "#EBF0F8"
             },
             "line": {
              "color": "white"
             }
            },
            "header": {
             "fill": {
              "color": "#C8D4E3"
             },
             "line": {
              "color": "white"
             }
            },
            "type": "table"
           }
          ]
         },
         "layout": {
          "annotationdefaults": {
           "arrowcolor": "#2a3f5f",
           "arrowhead": 0,
           "arrowwidth": 1
          },
          "autotypenumbers": "strict",
          "coloraxis": {
           "colorbar": {
            "outlinewidth": 0,
            "ticks": ""
           }
          },
          "colorscale": {
           "diverging": [
            [
             0,
             "#8e0152"
            ],
            [
             0.1,
             "#c51b7d"
            ],
            [
             0.2,
             "#de77ae"
            ],
            [
             0.3,
             "#f1b6da"
            ],
            [
             0.4,
             "#fde0ef"
            ],
            [
             0.5,
             "#f7f7f7"
            ],
            [
             0.6,
             "#e6f5d0"
            ],
            [
             0.7,
             "#b8e186"
            ],
            [
             0.8,
             "#7fbc41"
            ],
            [
             0.9,
             "#4d9221"
            ],
            [
             1,
             "#276419"
            ]
           ],
           "sequential": [
            [
             0,
             "#0d0887"
            ],
            [
             0.1111111111111111,
             "#46039f"
            ],
            [
             0.2222222222222222,
             "#7201a8"
            ],
            [
             0.3333333333333333,
             "#9c179e"
            ],
            [
             0.4444444444444444,
             "#bd3786"
            ],
            [
             0.5555555555555556,
             "#d8576b"
            ],
            [
             0.6666666666666666,
             "#ed7953"
            ],
            [
             0.7777777777777778,
             "#fb9f3a"
            ],
            [
             0.8888888888888888,
             "#fdca26"
            ],
            [
             1,
             "#f0f921"
            ]
           ],
           "sequentialminus": [
            [
             0,
             "#0d0887"
            ],
            [
             0.1111111111111111,
             "#46039f"
            ],
            [
             0.2222222222222222,
             "#7201a8"
            ],
            [
             0.3333333333333333,
             "#9c179e"
            ],
            [
             0.4444444444444444,
             "#bd3786"
            ],
            [
             0.5555555555555556,
             "#d8576b"
            ],
            [
             0.6666666666666666,
             "#ed7953"
            ],
            [
             0.7777777777777778,
             "#fb9f3a"
            ],
            [
             0.8888888888888888,
             "#fdca26"
            ],
            [
             1,
             "#f0f921"
            ]
           ]
          },
          "colorway": [
           "#636efa",
           "#EF553B",
           "#00cc96",
           "#ab63fa",
           "#FFA15A",
           "#19d3f3",
           "#FF6692",
           "#B6E880",
           "#FF97FF",
           "#FECB52"
          ],
          "font": {
           "color": "#2a3f5f"
          },
          "geo": {
           "bgcolor": "white",
           "lakecolor": "white",
           "landcolor": "#E5ECF6",
           "showlakes": true,
           "showland": true,
           "subunitcolor": "white"
          },
          "hoverlabel": {
           "align": "left"
          },
          "hovermode": "closest",
          "mapbox": {
           "style": "light"
          },
          "paper_bgcolor": "white",
          "plot_bgcolor": "#E5ECF6",
          "polar": {
           "angularaxis": {
            "gridcolor": "white",
            "linecolor": "white",
            "ticks": ""
           },
           "bgcolor": "#E5ECF6",
           "radialaxis": {
            "gridcolor": "white",
            "linecolor": "white",
            "ticks": ""
           }
          },
          "scene": {
           "xaxis": {
            "backgroundcolor": "#E5ECF6",
            "gridcolor": "white",
            "gridwidth": 2,
            "linecolor": "white",
            "showbackground": true,
            "ticks": "",
            "zerolinecolor": "white"
           },
           "yaxis": {
            "backgroundcolor": "#E5ECF6",
            "gridcolor": "white",
            "gridwidth": 2,
            "linecolor": "white",
            "showbackground": true,
            "ticks": "",
            "zerolinecolor": "white"
           },
           "zaxis": {
            "backgroundcolor": "#E5ECF6",
            "gridcolor": "white",
            "gridwidth": 2,
            "linecolor": "white",
            "showbackground": true,
            "ticks": "",
            "zerolinecolor": "white"
           }
          },
          "shapedefaults": {
           "line": {
            "color": "#2a3f5f"
           }
          },
          "ternary": {
           "aaxis": {
            "gridcolor": "white",
            "linecolor": "white",
            "ticks": ""
           },
           "baxis": {
            "gridcolor": "white",
            "linecolor": "white",
            "ticks": ""
           },
           "bgcolor": "#E5ECF6",
           "caxis": {
            "gridcolor": "white",
            "linecolor": "white",
            "ticks": ""
           }
          },
          "title": {
           "x": 0.05
          },
          "xaxis": {
           "automargin": true,
           "gridcolor": "white",
           "linecolor": "white",
           "ticks": "",
           "title": {
            "standoff": 15
           },
           "zerolinecolor": "white",
           "zerolinewidth": 2
          },
          "yaxis": {
           "automargin": true,
           "gridcolor": "white",
           "linecolor": "white",
           "ticks": "",
           "title": {
            "standoff": 15
           },
           "zerolinecolor": "white",
           "zerolinewidth": 2
          }
         }
        },
        "title": {
         "text": "Hyperparameter Importances"
        },
        "xaxis": {
         "title": {
          "text": "Hyperparameter Importance"
         }
        },
        "yaxis": {
         "title": {
          "text": "Hyperparameter"
         }
        }
       }
      }
     },
     "metadata": {},
     "output_type": "display_data"
    }
   ],
   "source": [
    "evaluator = MeanDecreaseImpurityImportanceEvaluator()\n",
    "plot_param_importances(study, evaluator=evaluator)"
   ]
  },
  {
   "cell_type": "code",
   "execution_count": 208,
   "metadata": {},
   "outputs": [
    {
     "data": {
      "application/vnd.plotly.v1+json": {
       "config": {
        "plotlyServerURL": "https://plot.ly"
       },
       "data": [
        {
         "mode": "markers",
         "name": "Objective Value",
         "type": "scatter",
         "x": [
          0,
          1,
          2,
          3,
          4,
          5,
          6,
          7,
          8,
          9,
          10,
          11,
          12,
          13,
          14,
          15,
          16,
          17,
          18,
          19,
          23,
          24,
          25,
          26,
          27,
          28,
          29,
          32,
          33,
          34,
          35,
          36,
          37,
          38,
          39,
          40,
          41,
          42,
          43,
          44,
          45,
          46,
          47,
          48,
          49,
          50,
          51,
          52,
          53,
          54,
          55,
          56,
          57,
          58,
          59,
          60,
          61,
          62,
          63,
          64,
          65,
          66,
          67,
          68,
          69,
          70,
          71,
          72,
          73,
          74,
          75,
          76,
          77,
          78,
          79,
          80,
          81,
          82,
          83,
          84,
          85,
          86,
          87,
          88,
          89,
          90,
          91,
          92,
          93,
          94,
          95,
          96,
          97,
          98,
          99,
          100,
          101,
          102,
          103,
          104,
          105,
          106,
          107,
          108,
          109,
          110,
          111,
          112,
          113,
          114,
          115,
          116,
          117,
          118,
          119,
          120,
          121,
          122,
          123,
          124,
          125,
          126,
          127,
          128,
          129,
          130,
          131,
          132,
          133,
          134,
          135,
          136,
          137,
          138,
          139,
          140,
          141,
          142,
          143,
          144,
          145,
          146,
          147,
          148,
          149,
          150,
          151,
          152,
          153,
          154,
          155,
          156,
          157,
          158,
          159,
          160,
          161,
          162,
          163,
          164,
          165,
          166,
          167,
          168,
          169,
          170,
          171,
          172,
          173,
          174,
          175,
          176,
          177,
          178,
          179,
          180,
          181,
          182,
          183,
          184,
          185,
          186,
          187,
          188,
          189,
          190,
          191,
          192,
          193,
          194,
          195,
          196,
          197,
          198,
          199,
          200,
          201,
          202,
          203,
          204,
          205,
          206,
          207,
          208,
          209,
          210,
          211,
          212,
          213,
          214,
          215,
          216,
          217,
          218,
          219,
          220,
          221,
          222,
          223,
          224,
          225,
          226,
          227,
          228,
          229,
          230,
          231,
          232,
          233,
          234,
          235,
          236,
          237,
          238,
          239,
          240,
          241,
          242,
          243,
          244,
          245,
          246,
          247,
          248,
          249,
          250,
          251,
          252,
          253,
          254,
          255,
          256,
          257,
          258,
          259,
          260,
          261,
          262,
          263,
          264,
          265,
          266,
          267,
          268,
          269,
          270,
          271,
          272,
          273,
          274,
          275,
          276,
          277,
          278,
          279,
          280,
          281,
          282,
          283,
          284,
          285,
          286,
          287,
          288,
          289,
          290,
          291,
          292,
          293,
          294,
          295,
          296,
          297,
          298,
          299,
          300,
          301,
          302,
          303,
          304,
          305,
          306,
          307,
          308,
          309,
          310,
          311,
          312,
          313,
          314,
          315,
          316,
          317,
          318,
          319,
          320,
          321,
          322,
          323,
          324,
          325,
          326,
          327,
          328,
          329,
          330,
          331,
          332,
          333,
          334,
          335,
          336,
          337,
          338,
          339,
          340,
          341,
          342,
          343,
          344,
          345,
          346,
          347,
          348,
          349,
          350,
          351,
          352,
          353,
          354,
          355,
          356,
          357,
          358,
          359,
          360,
          361,
          362,
          363,
          364,
          365,
          366,
          367,
          368,
          369,
          370,
          371,
          372,
          373,
          374,
          375,
          376,
          377,
          378,
          379,
          380,
          381,
          382,
          383,
          384,
          385,
          386,
          387,
          388,
          389,
          390,
          391,
          392,
          393,
          394,
          395,
          396,
          397,
          398,
          399,
          400,
          401,
          402,
          403,
          404,
          405,
          406,
          407,
          408,
          409,
          410,
          411,
          412,
          413,
          414,
          415,
          416,
          417,
          418,
          419,
          420,
          421,
          422,
          423,
          424,
          425,
          426,
          427,
          428,
          429,
          430,
          431
         ],
         "y": [
          0.8755002312478977,
          0.5023396681242291,
          0.8590392000224241,
          0.5002408481892588,
          0.5002408481892588,
          0.8767761590424936,
          0.5030278058078259,
          0.5007913583361363,
          0.5011354271779348,
          0.8776286579212916,
          0.8441643541876892,
          0.8288194444444444,
          0.8589875196210337,
          0.8406977379751093,
          0.8745294105280861,
          0.8725163275030834,
          0.8734593284000448,
          0.5049889982060769,
          0.8737582338266622,
          0.8241494281870165,
          0.8751717541204171,
          0.8760422623051911,
          0.8749140178271106,
          0.8742718143850208,
          0.8744644859289158,
          0.875171088406772,
          0.8749280678887768,
          0.8766876541652652,
          0.8759276894831259,
          0.876762844769593,
          0.8762633493104608,
          0.8759629723063124,
          0.8753675440071758,
          0.8755430471465411,
          0.8768208319318309,
          0.8760007778338379,
          0.8754917521583137,
          0.8775433764996076,
          0.8753362204282991,
          0.8773197317524386,
          0.8766301925664313,
          0.8769595105953583,
          0.8759990259558247,
          0.8778251485592555,
          0.8768963729117614,
          0.8764514659715215,
          0.8765962411705348,
          0.8745030622827672,
          0.877664326157641,
          0.8775264183204395,
          0.8761436960421571,
          0.8777098049108645,
          0.8763145391860074,
          0.8763786228837314,
          0.8775309381657137,
          0.8785871454198901,
          0.8774302402175131,
          0.8765150241058415,
          0.8775359134992713,
          0.8759015164256083,
          0.8763509782486826,
          0.8770573354636171,
          0.8779443113017155,
          0.8774573943267183,
          0.8765581903800874,
          0.8760310502859066,
          0.8778620781477744,
          0.87654263370333,
          0.8769854033523938,
          0.8753780202376948,
          0.87739141860074,
          0.8782733139926,
          0.8779606388047987,
          0.8778152679672608,
          0.8768263328287924,
          0.8764839107523266,
          0.8777579815562283,
          0.8777302668460589,
          0.8772766705908734,
          0.8776764491534925,
          0.8782545688978585,
          0.8785689959636731,
          0.8763062352842247,
          0.8783184073326606,
          0.8763104397914565,
          0.8763800594237021,
          0.8771027791792801,
          0.8774283131516987,
          0.8769859639533579,
          0.8763509782486826,
          0.8763002088238592,
          0.8776923912434129,
          0.8767511422244647,
          0.8779955712523826,
          0.8776554966924544,
          0.8770768163471241,
          0.876614670927234,
          0.8761726370669358,
          0.8763228430877901,
          0.8755254582912882,
          0.8763074265612737,
          0.8781213210561722,
          0.8775656603879358,
          0.8774317117950443,
          0.877012312198677,
          0.8779176126807937,
          0.8740136226034309,
          0.8775601594909743,
          0.8775954423141608,
          0.8770943701648166,
          0.8770995206861756,
          0.8774112498598498,
          0.8771307741899317,
          0.8772149344096871,
          0.8777005900325149,
          0.8767192230070635,
          0.8770079675412041,
          0.878417773853571,
          0.8770123472362372,
          0.8771537588294652,
          0.8774341293867025,
          0.8776055681690773,
          0.8773354285794372,
          0.8758789522367978,
          0.8767317664536383,
          0.87487155230407,
          0.8768162420114363,
          0.8784375700751206,
          0.8741929097993049,
          0.8778820145195649,
          0.877555744758381,
          0.8766000252270434,
          0.8769787462159435,
          0.8757083193183093,
          0.876061568000897,
          0.8772747435250589,
          0.8772036873528422,
          0.8767636856710394,
          0.873773440127817,
          0.876486223231304,
          0.8778229061553986,
          0.8769217050678327,
          0.8779089934409687,
          0.8762622631460926,
          0.8766203119744366,
          0.8767795576858393,
          0.874090039522368,
          0.8772883380984415,
          0.8764441431214262,
          0.8771305289270097,
          0.8776366464850319,
          0.875679693631573,
          0.8767085365511829,
          0.8746352940352058,
          0.8772603781253504,
          0.877509004652988,
          0.8766064371005717,
          0.877042094124902,
          0.875140500616661,
          0.8767995641327503,
          0.8787934115371678,
          0.875248661565198,
          0.877152147101693,
          0.8765981331987891,
          0.8774267014239264,
          0.8734493426953694,
          0.8762794315506223,
          0.8769281870164817,
          0.877148187857383,
          0.8774491605000561,
          0.8757568463392758,
          0.877537595302164,
          0.8764052514295324,
          0.8742361811862316,
          0.8751294287476175,
          0.8774697275479314,
          0.8762346535486041,
          0.877315807545689,
          0.8770440562282767,
          0.874206574447808,
          0.877156912209889,
          0.8755030342527189,
          0.8762922903352395,
          0.8765555275255074,
          0.8771752718914676,
          0.8774018597936988,
          0.8777113115259558,
          0.8740188431999103,
          0.8742855140710841,
          0.877155055219195,
          0.8771598203273909,
          0.8773333263258213,
          0.877056669749972,
          0.8746350137347236,
          0.8770599282430765,
          0.8763251555667675,
          0.8775012613521695,
          0.8771657066375154,
          0.8774945341405986,
          0.8781277329297006,
          0.8771187913443211,
          0.8774755437829354,
          0.8771290573494787,
          0.8756909757259783,
          0.8769780104271779,
          0.8764937212692006,
          0.8766701003475725,
          0.8773052262024891,
          0.8778527231191837,
          0.877077867473932,
          0.875591223791905,
          0.8777465943491423,
          0.8773383717344994,
          0.8753481682363493,
          0.8746603458907949,
          0.8712716532122435,
          0.875675454086781,
          0.8780787153828905,
          0.8766349927121875,
          0.8764663919721942,
          0.8765469433232425,
          0.8764097712748066,
          0.8772101342639309,
          0.8753620781477744,
          0.8779057699854244,
          0.8772766705908734,
          0.8755484078932616,
          0.8791894761183989,
          0.8777276740665994,
          0.876680611615652,
          0.8771788807601749,
          0.8780482327054602,
          0.8771481177822626,
          0.8783782514855926,
          0.8776544105280861,
          0.8777604692230071,
          0.877257014519565,
          0.8776447051238928,
          0.8754174024554322,
          0.8768913625406436,
          0.8773298225697947,
          0.8773978304742684,
          0.876964240665994,
          0.8768172931382442,
          0.8754713953358,
          0.877271975557798,
          0.8772402315281982,
          0.8771455950779236,
          0.8763642224464625,
          0.8774316066823635,
          0.8764819836865119,
          0.8742698873192062,
          0.8760392140374481,
          0.8773934157416751,
          0.876668033131517,
          0.8755155426617334,
          0.8785967106738424,
          0.8783521835407557,
          0.8771070187240722,
          0.8777101903240274,
          0.8774029109205068,
          0.8759717316963784,
          0.8778033201592107,
          0.8769422020405875,
          0.8784807363493665,
          0.8775288359120977,
          0.8776634502186343,
          0.8775645742235676,
          0.8745215621145868,
          0.8774647522143738,
          0.8771519719138916,
          0.8769891523713421,
          0.8768846353290727,
          0.8768099352505887,
          0.877224044175356,
          0.8775066921740106,
          0.8774440099786971,
          0.8740378335575738,
          0.8765287938670254,
          0.8765489755017379,
          0.874348651754681,
          0.8767758787420115,
          0.8746125896961543,
          0.8777024820607692,
          0.8764297777217177,
          0.876587797118511,
          0.8761345162013678,
          0.8774371426168853,
          0.8774085870052697,
          0.8748323452741338,
          0.8766974296445791,
          0.8772895293754905,
          0.8776662181858953,
          0.8768815169862092,
          0.8772172468886646,
          0.8771643752102254,
          0.8779679616548941,
          0.8776803383226819,
          0.8773873542437494,
          0.877215565085772,
          0.8777911270882386,
          0.8781170464738199,
          0.877556270321785,
          0.8775250168180289,
          0.877773713420787,
          0.8786246706469335,
          0.8783012038905706,
          0.8774757540082969,
          0.8771271302836641,
          0.8773934507792354,
          0.8773442930821842,
          0.877530727940352,
          0.8771061427850656,
          0.8772783173562059,
          0.8780169792017042,
          0.8764098763874875,
          0.8777073522816459,
          0.8761208515528647,
          0.8767781912209889,
          0.8772855701311806,
          0.87737022087678,
          0.8773350782038345,
          0.8789179350263483,
          0.8775539228052472,
          0.8775532921291624,
          0.8775659056508578,
          0.8780545044287476,
          0.8787085856037673,
          0.876156379638973,
          0.8771247126920059,
          0.87767213953358,
          0.8772787027693688,
          0.8776732256979483,
          0.8779358322121315,
          0.8750671670030272,
          0.8757380662069738,
          0.8778879008296894,
          0.8782722979033524,
          0.8771896022536159,
          0.8762367207646597,
          0.8780872295100348,
          0.8770196700863325,
          0.8762411004596928,
          0.8775400128938222,
          0.8777318084987107,
          0.8774274021751317,
          0.877722593620361,
          0.8778439637291175,
          0.8775240357663415,
          0.8777832786747393,
          0.8777845049893487,
          0.8774115651978922,
          0.8776305849871062,
          0.8769925860522481,
          0.8750003503756026,
          0.874865210505662,
          0.8773104467989685,
          0.8779052093844602,
          0.8773775437268752,
          0.8770222979033524,
          0.8773706413275031,
          0.8783750981051688,
          0.877898447135329,
          0.8775896961542774,
          0.877455642448705,
          0.8776801981724409,
          0.8770322485704676,
          0.87783765696827,
          0.877823361643682,
          0.8782005409799305,
          0.8785326620136786,
          0.8773092905594797,
          0.8779960617782263,
          0.8768441319094069,
          0.878288940744478,
          0.8777835589752214,
          0.8769847026011885,
          0.8778951536046642,
          0.877526873808723,
          0.8786997561385805,
          0.8774973371454199,
          0.8777394817244085,
          0.876711059255522,
          0.8764827194752776,
          0.8774423632133648,
          0.8783209650745599,
          0.8789040601524835,
          0.8755640346451397,
          0.8781527147101693,
          0.8768739839107523,
          0.8787310096423366,
          0.8781579703442091,
          0.8778815590312816,
          0.8773064525170984,
          0.8775317440295998,
          0.8755580782598946,
          0.87762182559704,
          0.8772707142056284,
          0.8774553271106627,
          0.8766608153941025,
          0.8780394382778338,
          0.8780513160107635,
          0.8774934479762305,
          0.8766372000784841,
          0.8775432013118063,
          0.8768916428411258,
          0.8759879891243414,
          0.8759013062002466,
          0.8781762949882274,
          0.8782952475053257,
          0.8760270910415966,
          0.8743104257764323,
          0.8772248150016817,
          0.8761668909070524,
          0.8788949854243749,
          0.877270258717345,
          0.8764148166834846,
          0.8785271961542773,
          0.8767006531001234,
          0.8767045422693127,
          0.8779089584034084,
          0.8777876583697724,
          0.8764629582912882,
          0.8760619534140599,
          0.8755554504428747,
          0.8771792661733377,
          0.8784296866240611
         ]
        },
        {
         "mode": "lines",
         "name": "Best Value",
         "type": "scatter",
         "x": [
          0,
          1,
          2,
          3,
          4,
          5,
          6,
          7,
          8,
          9,
          10,
          11,
          12,
          13,
          14,
          15,
          16,
          17,
          18,
          19,
          20,
          21,
          22,
          23,
          24,
          25,
          26,
          27,
          28,
          29,
          30,
          31,
          32,
          33,
          34,
          35,
          36,
          37,
          38,
          39,
          40,
          41,
          42,
          43,
          44,
          45,
          46,
          47,
          48,
          49,
          50,
          51,
          52,
          53,
          54,
          55,
          56,
          57,
          58,
          59,
          60,
          61,
          62,
          63,
          64,
          65,
          66,
          67,
          68,
          69,
          70,
          71,
          72,
          73,
          74,
          75,
          76,
          77,
          78,
          79,
          80,
          81,
          82,
          83,
          84,
          85,
          86,
          87,
          88,
          89,
          90,
          91,
          92,
          93,
          94,
          95,
          96,
          97,
          98,
          99,
          100,
          101,
          102,
          103,
          104,
          105,
          106,
          107,
          108,
          109,
          110,
          111,
          112,
          113,
          114,
          115,
          116,
          117,
          118,
          119,
          120,
          121,
          122,
          123,
          124,
          125,
          126,
          127,
          128,
          129,
          130,
          131,
          132,
          133,
          134,
          135,
          136,
          137,
          138,
          139,
          140,
          141,
          142,
          143,
          144,
          145,
          146,
          147,
          148,
          149,
          150,
          151,
          152,
          153,
          154,
          155,
          156,
          157,
          158,
          159,
          160,
          161,
          162,
          163,
          164,
          165,
          166,
          167,
          168,
          169,
          170,
          171,
          172,
          173,
          174,
          175,
          176,
          177,
          178,
          179,
          180,
          181,
          182,
          183,
          184,
          185,
          186,
          187,
          188,
          189,
          190,
          191,
          192,
          193,
          194,
          195,
          196,
          197,
          198,
          199,
          200,
          201,
          202,
          203,
          204,
          205,
          206,
          207,
          208,
          209,
          210,
          211,
          212,
          213,
          214,
          215,
          216,
          217,
          218,
          219,
          220,
          221,
          222,
          223,
          224,
          225,
          226,
          227,
          228,
          229,
          230,
          231,
          232,
          233,
          234,
          235,
          236,
          237,
          238,
          239,
          240,
          241,
          242,
          243,
          244,
          245,
          246,
          247,
          248,
          249,
          250,
          251,
          252,
          253,
          254,
          255,
          256,
          257,
          258,
          259,
          260,
          261,
          262,
          263,
          264,
          265,
          266,
          267,
          268,
          269,
          270,
          271,
          272,
          273,
          274,
          275,
          276,
          277,
          278,
          279,
          280,
          281,
          282,
          283,
          284,
          285,
          286,
          287,
          288,
          289,
          290,
          291,
          292,
          293,
          294,
          295,
          296,
          297,
          298,
          299,
          300,
          301,
          302,
          303,
          304,
          305,
          306,
          307,
          308,
          309,
          310,
          311,
          312,
          313,
          314,
          315,
          316,
          317,
          318,
          319,
          320,
          321,
          322,
          323,
          324,
          325,
          326,
          327,
          328,
          329,
          330,
          331,
          332,
          333,
          334,
          335,
          336,
          337,
          338,
          339,
          340,
          341,
          342,
          343,
          344,
          345,
          346,
          347,
          348,
          349,
          350,
          351,
          352,
          353,
          354,
          355,
          356,
          357,
          358,
          359,
          360,
          361,
          362,
          363,
          364,
          365,
          366,
          367,
          368,
          369,
          370,
          371,
          372,
          373,
          374,
          375,
          376,
          377,
          378,
          379,
          380,
          381,
          382,
          383,
          384,
          385,
          386,
          387,
          388,
          389,
          390,
          391,
          392,
          393,
          394,
          395,
          396,
          397,
          398,
          399,
          400,
          401,
          402,
          403,
          404,
          405,
          406,
          407,
          408,
          409,
          410,
          411,
          412,
          413,
          414,
          415,
          416,
          417,
          418,
          419,
          420,
          421,
          422,
          423,
          424,
          425,
          426,
          427,
          428,
          429,
          430,
          431
         ],
         "y": [
          0.8755002312478977,
          0.8755002312478977,
          0.8755002312478977,
          0.8755002312478977,
          0.8755002312478977,
          0.8767761590424936,
          0.8767761590424936,
          0.8767761590424936,
          0.8767761590424936,
          0.8776286579212916,
          0.8776286579212916,
          0.8776286579212916,
          0.8776286579212916,
          0.8776286579212916,
          0.8776286579212916,
          0.8776286579212916,
          0.8776286579212916,
          0.8776286579212916,
          0.8776286579212916,
          0.8776286579212916,
          0.8776286579212916,
          0.8776286579212916,
          0.8776286579212916,
          0.8776286579212916,
          0.8776286579212916,
          0.8776286579212916,
          0.8776286579212916,
          0.8776286579212916,
          0.8776286579212916,
          0.8776286579212916,
          0.8776286579212916,
          0.8776286579212916,
          0.8776286579212916,
          0.8776286579212916,
          0.8776286579212916,
          0.8776286579212916,
          0.8776286579212916,
          0.8776286579212916,
          0.8776286579212916,
          0.8776286579212916,
          0.8776286579212916,
          0.8776286579212916,
          0.8776286579212916,
          0.8776286579212916,
          0.8776286579212916,
          0.8776286579212916,
          0.8776286579212916,
          0.8776286579212916,
          0.8778251485592555,
          0.8778251485592555,
          0.8778251485592555,
          0.8778251485592555,
          0.8778251485592555,
          0.8778251485592555,
          0.8778251485592555,
          0.8778251485592555,
          0.8778251485592555,
          0.8778251485592555,
          0.8778251485592555,
          0.8778251485592555,
          0.8785871454198901,
          0.8785871454198901,
          0.8785871454198901,
          0.8785871454198901,
          0.8785871454198901,
          0.8785871454198901,
          0.8785871454198901,
          0.8785871454198901,
          0.8785871454198901,
          0.8785871454198901,
          0.8785871454198901,
          0.8785871454198901,
          0.8785871454198901,
          0.8785871454198901,
          0.8785871454198901,
          0.8785871454198901,
          0.8785871454198901,
          0.8785871454198901,
          0.8785871454198901,
          0.8785871454198901,
          0.8785871454198901,
          0.8785871454198901,
          0.8785871454198901,
          0.8785871454198901,
          0.8785871454198901,
          0.8785871454198901,
          0.8785871454198901,
          0.8785871454198901,
          0.8785871454198901,
          0.8785871454198901,
          0.8785871454198901,
          0.8785871454198901,
          0.8785871454198901,
          0.8785871454198901,
          0.8785871454198901,
          0.8785871454198901,
          0.8785871454198901,
          0.8785871454198901,
          0.8785871454198901,
          0.8785871454198901,
          0.8785871454198901,
          0.8785871454198901,
          0.8785871454198901,
          0.8785871454198901,
          0.8785871454198901,
          0.8785871454198901,
          0.8785871454198901,
          0.8785871454198901,
          0.8785871454198901,
          0.8785871454198901,
          0.8785871454198901,
          0.8785871454198901,
          0.8785871454198901,
          0.8785871454198901,
          0.8785871454198901,
          0.8785871454198901,
          0.8785871454198901,
          0.8785871454198901,
          0.8785871454198901,
          0.8785871454198901,
          0.8785871454198901,
          0.8785871454198901,
          0.8785871454198901,
          0.8785871454198901,
          0.8785871454198901,
          0.8785871454198901,
          0.8785871454198901,
          0.8785871454198901,
          0.8785871454198901,
          0.8785871454198901,
          0.8785871454198901,
          0.8785871454198901,
          0.8785871454198901,
          0.8785871454198901,
          0.8785871454198901,
          0.8785871454198901,
          0.8785871454198901,
          0.8785871454198901,
          0.8785871454198901,
          0.8785871454198901,
          0.8785871454198901,
          0.8785871454198901,
          0.8785871454198901,
          0.8785871454198901,
          0.8785871454198901,
          0.8785871454198901,
          0.8785871454198901,
          0.8785871454198901,
          0.8785871454198901,
          0.8785871454198901,
          0.8785871454198901,
          0.8785871454198901,
          0.8785871454198901,
          0.8785871454198901,
          0.8785871454198901,
          0.8785871454198901,
          0.8785871454198901,
          0.8785871454198901,
          0.8785871454198901,
          0.8785871454198901,
          0.8785871454198901,
          0.8785871454198901,
          0.8785871454198901,
          0.8785871454198901,
          0.8785871454198901,
          0.8787934115371678,
          0.8787934115371678,
          0.8787934115371678,
          0.8787934115371678,
          0.8787934115371678,
          0.8787934115371678,
          0.8787934115371678,
          0.8787934115371678,
          0.8787934115371678,
          0.8787934115371678,
          0.8787934115371678,
          0.8787934115371678,
          0.8787934115371678,
          0.8787934115371678,
          0.8787934115371678,
          0.8787934115371678,
          0.8787934115371678,
          0.8787934115371678,
          0.8787934115371678,
          0.8787934115371678,
          0.8787934115371678,
          0.8787934115371678,
          0.8787934115371678,
          0.8787934115371678,
          0.8787934115371678,
          0.8787934115371678,
          0.8787934115371678,
          0.8787934115371678,
          0.8787934115371678,
          0.8787934115371678,
          0.8787934115371678,
          0.8787934115371678,
          0.8787934115371678,
          0.8787934115371678,
          0.8787934115371678,
          0.8787934115371678,
          0.8787934115371678,
          0.8787934115371678,
          0.8787934115371678,
          0.8787934115371678,
          0.8787934115371678,
          0.8787934115371678,
          0.8787934115371678,
          0.8787934115371678,
          0.8787934115371678,
          0.8787934115371678,
          0.8787934115371678,
          0.8787934115371678,
          0.8787934115371678,
          0.8787934115371678,
          0.8787934115371678,
          0.8787934115371678,
          0.8787934115371678,
          0.8787934115371678,
          0.8787934115371678,
          0.8787934115371678,
          0.8787934115371678,
          0.8787934115371678,
          0.8787934115371678,
          0.8787934115371678,
          0.8787934115371678,
          0.8787934115371678,
          0.8787934115371678,
          0.8787934115371678,
          0.8787934115371678,
          0.8787934115371678,
          0.8787934115371678,
          0.8791894761183989,
          0.8791894761183989,
          0.8791894761183989,
          0.8791894761183989,
          0.8791894761183989,
          0.8791894761183989,
          0.8791894761183989,
          0.8791894761183989,
          0.8791894761183989,
          0.8791894761183989,
          0.8791894761183989,
          0.8791894761183989,
          0.8791894761183989,
          0.8791894761183989,
          0.8791894761183989,
          0.8791894761183989,
          0.8791894761183989,
          0.8791894761183989,
          0.8791894761183989,
          0.8791894761183989,
          0.8791894761183989,
          0.8791894761183989,
          0.8791894761183989,
          0.8791894761183989,
          0.8791894761183989,
          0.8791894761183989,
          0.8791894761183989,
          0.8791894761183989,
          0.8791894761183989,
          0.8791894761183989,
          0.8791894761183989,
          0.8791894761183989,
          0.8791894761183989,
          0.8791894761183989,
          0.8791894761183989,
          0.8791894761183989,
          0.8791894761183989,
          0.8791894761183989,
          0.8791894761183989,
          0.8791894761183989,
          0.8791894761183989,
          0.8791894761183989,
          0.8791894761183989,
          0.8791894761183989,
          0.8791894761183989,
          0.8791894761183989,
          0.8791894761183989,
          0.8791894761183989,
          0.8791894761183989,
          0.8791894761183989,
          0.8791894761183989,
          0.8791894761183989,
          0.8791894761183989,
          0.8791894761183989,
          0.8791894761183989,
          0.8791894761183989,
          0.8791894761183989,
          0.8791894761183989,
          0.8791894761183989,
          0.8791894761183989,
          0.8791894761183989,
          0.8791894761183989,
          0.8791894761183989,
          0.8791894761183989,
          0.8791894761183989,
          0.8791894761183989,
          0.8791894761183989,
          0.8791894761183989,
          0.8791894761183989,
          0.8791894761183989,
          0.8791894761183989,
          0.8791894761183989,
          0.8791894761183989,
          0.8791894761183989,
          0.8791894761183989,
          0.8791894761183989,
          0.8791894761183989,
          0.8791894761183989,
          0.8791894761183989,
          0.8791894761183989,
          0.8791894761183989,
          0.8791894761183989,
          0.8791894761183989,
          0.8791894761183989,
          0.8791894761183989,
          0.8791894761183989,
          0.8791894761183989,
          0.8791894761183989,
          0.8791894761183989,
          0.8791894761183989,
          0.8791894761183989,
          0.8791894761183989,
          0.8791894761183989,
          0.8791894761183989,
          0.8791894761183989,
          0.8791894761183989,
          0.8791894761183989,
          0.8791894761183989,
          0.8791894761183989,
          0.8791894761183989,
          0.8791894761183989,
          0.8791894761183989,
          0.8791894761183989,
          0.8791894761183989,
          0.8791894761183989,
          0.8791894761183989,
          0.8791894761183989,
          0.8791894761183989,
          0.8791894761183989,
          0.8791894761183989,
          0.8791894761183989,
          0.8791894761183989,
          0.8791894761183989,
          0.8791894761183989,
          0.8791894761183989,
          0.8791894761183989,
          0.8791894761183989,
          0.8791894761183989,
          0.8791894761183989,
          0.8791894761183989,
          0.8791894761183989,
          0.8791894761183989,
          0.8791894761183989,
          0.8791894761183989,
          0.8791894761183989,
          0.8791894761183989,
          0.8791894761183989,
          0.8791894761183989,
          0.8791894761183989,
          0.8791894761183989,
          0.8791894761183989,
          0.8791894761183989,
          0.8791894761183989,
          0.8791894761183989,
          0.8791894761183989,
          0.8791894761183989,
          0.8791894761183989,
          0.8791894761183989,
          0.8791894761183989,
          0.8791894761183989,
          0.8791894761183989,
          0.8791894761183989,
          0.8791894761183989,
          0.8791894761183989,
          0.8791894761183989,
          0.8791894761183989,
          0.8791894761183989,
          0.8791894761183989,
          0.8791894761183989,
          0.8791894761183989,
          0.8791894761183989,
          0.8791894761183989,
          0.8791894761183989,
          0.8791894761183989,
          0.8791894761183989,
          0.8791894761183989,
          0.8791894761183989,
          0.8791894761183989,
          0.8791894761183989,
          0.8791894761183989,
          0.8791894761183989,
          0.8791894761183989,
          0.8791894761183989,
          0.8791894761183989,
          0.8791894761183989,
          0.8791894761183989,
          0.8791894761183989,
          0.8791894761183989,
          0.8791894761183989,
          0.8791894761183989,
          0.8791894761183989,
          0.8791894761183989,
          0.8791894761183989,
          0.8791894761183989,
          0.8791894761183989,
          0.8791894761183989,
          0.8791894761183989,
          0.8791894761183989,
          0.8791894761183989,
          0.8791894761183989,
          0.8791894761183989,
          0.8791894761183989,
          0.8791894761183989,
          0.8791894761183989,
          0.8791894761183989,
          0.8791894761183989,
          0.8791894761183989,
          0.8791894761183989,
          0.8791894761183989,
          0.8791894761183989,
          0.8791894761183989,
          0.8791894761183989,
          0.8791894761183989,
          0.8791894761183989,
          0.8791894761183989,
          0.8791894761183989,
          0.8791894761183989,
          0.8791894761183989,
          0.8791894761183989,
          0.8791894761183989
         ]
        },
        {
         "marker": {
          "color": "#cccccc"
         },
         "mode": "markers",
         "name": "Infeasible Trial",
         "showlegend": false,
         "type": "scatter",
         "x": [],
         "y": []
        }
       ],
       "layout": {
        "template": {
         "data": {
          "bar": [
           {
            "error_x": {
             "color": "#2a3f5f"
            },
            "error_y": {
             "color": "#2a3f5f"
            },
            "marker": {
             "line": {
              "color": "#E5ECF6",
              "width": 0.5
             },
             "pattern": {
              "fillmode": "overlay",
              "size": 10,
              "solidity": 0.2
             }
            },
            "type": "bar"
           }
          ],
          "barpolar": [
           {
            "marker": {
             "line": {
              "color": "#E5ECF6",
              "width": 0.5
             },
             "pattern": {
              "fillmode": "overlay",
              "size": 10,
              "solidity": 0.2
             }
            },
            "type": "barpolar"
           }
          ],
          "carpet": [
           {
            "aaxis": {
             "endlinecolor": "#2a3f5f",
             "gridcolor": "white",
             "linecolor": "white",
             "minorgridcolor": "white",
             "startlinecolor": "#2a3f5f"
            },
            "baxis": {
             "endlinecolor": "#2a3f5f",
             "gridcolor": "white",
             "linecolor": "white",
             "minorgridcolor": "white",
             "startlinecolor": "#2a3f5f"
            },
            "type": "carpet"
           }
          ],
          "choropleth": [
           {
            "colorbar": {
             "outlinewidth": 0,
             "ticks": ""
            },
            "type": "choropleth"
           }
          ],
          "contour": [
           {
            "colorbar": {
             "outlinewidth": 0,
             "ticks": ""
            },
            "colorscale": [
             [
              0,
              "#0d0887"
             ],
             [
              0.1111111111111111,
              "#46039f"
             ],
             [
              0.2222222222222222,
              "#7201a8"
             ],
             [
              0.3333333333333333,
              "#9c179e"
             ],
             [
              0.4444444444444444,
              "#bd3786"
             ],
             [
              0.5555555555555556,
              "#d8576b"
             ],
             [
              0.6666666666666666,
              "#ed7953"
             ],
             [
              0.7777777777777778,
              "#fb9f3a"
             ],
             [
              0.8888888888888888,
              "#fdca26"
             ],
             [
              1,
              "#f0f921"
             ]
            ],
            "type": "contour"
           }
          ],
          "contourcarpet": [
           {
            "colorbar": {
             "outlinewidth": 0,
             "ticks": ""
            },
            "type": "contourcarpet"
           }
          ],
          "heatmap": [
           {
            "colorbar": {
             "outlinewidth": 0,
             "ticks": ""
            },
            "colorscale": [
             [
              0,
              "#0d0887"
             ],
             [
              0.1111111111111111,
              "#46039f"
             ],
             [
              0.2222222222222222,
              "#7201a8"
             ],
             [
              0.3333333333333333,
              "#9c179e"
             ],
             [
              0.4444444444444444,
              "#bd3786"
             ],
             [
              0.5555555555555556,
              "#d8576b"
             ],
             [
              0.6666666666666666,
              "#ed7953"
             ],
             [
              0.7777777777777778,
              "#fb9f3a"
             ],
             [
              0.8888888888888888,
              "#fdca26"
             ],
             [
              1,
              "#f0f921"
             ]
            ],
            "type": "heatmap"
           }
          ],
          "heatmapgl": [
           {
            "colorbar": {
             "outlinewidth": 0,
             "ticks": ""
            },
            "colorscale": [
             [
              0,
              "#0d0887"
             ],
             [
              0.1111111111111111,
              "#46039f"
             ],
             [
              0.2222222222222222,
              "#7201a8"
             ],
             [
              0.3333333333333333,
              "#9c179e"
             ],
             [
              0.4444444444444444,
              "#bd3786"
             ],
             [
              0.5555555555555556,
              "#d8576b"
             ],
             [
              0.6666666666666666,
              "#ed7953"
             ],
             [
              0.7777777777777778,
              "#fb9f3a"
             ],
             [
              0.8888888888888888,
              "#fdca26"
             ],
             [
              1,
              "#f0f921"
             ]
            ],
            "type": "heatmapgl"
           }
          ],
          "histogram": [
           {
            "marker": {
             "pattern": {
              "fillmode": "overlay",
              "size": 10,
              "solidity": 0.2
             }
            },
            "type": "histogram"
           }
          ],
          "histogram2d": [
           {
            "colorbar": {
             "outlinewidth": 0,
             "ticks": ""
            },
            "colorscale": [
             [
              0,
              "#0d0887"
             ],
             [
              0.1111111111111111,
              "#46039f"
             ],
             [
              0.2222222222222222,
              "#7201a8"
             ],
             [
              0.3333333333333333,
              "#9c179e"
             ],
             [
              0.4444444444444444,
              "#bd3786"
             ],
             [
              0.5555555555555556,
              "#d8576b"
             ],
             [
              0.6666666666666666,
              "#ed7953"
             ],
             [
              0.7777777777777778,
              "#fb9f3a"
             ],
             [
              0.8888888888888888,
              "#fdca26"
             ],
             [
              1,
              "#f0f921"
             ]
            ],
            "type": "histogram2d"
           }
          ],
          "histogram2dcontour": [
           {
            "colorbar": {
             "outlinewidth": 0,
             "ticks": ""
            },
            "colorscale": [
             [
              0,
              "#0d0887"
             ],
             [
              0.1111111111111111,
              "#46039f"
             ],
             [
              0.2222222222222222,
              "#7201a8"
             ],
             [
              0.3333333333333333,
              "#9c179e"
             ],
             [
              0.4444444444444444,
              "#bd3786"
             ],
             [
              0.5555555555555556,
              "#d8576b"
             ],
             [
              0.6666666666666666,
              "#ed7953"
             ],
             [
              0.7777777777777778,
              "#fb9f3a"
             ],
             [
              0.8888888888888888,
              "#fdca26"
             ],
             [
              1,
              "#f0f921"
             ]
            ],
            "type": "histogram2dcontour"
           }
          ],
          "mesh3d": [
           {
            "colorbar": {
             "outlinewidth": 0,
             "ticks": ""
            },
            "type": "mesh3d"
           }
          ],
          "parcoords": [
           {
            "line": {
             "colorbar": {
              "outlinewidth": 0,
              "ticks": ""
             }
            },
            "type": "parcoords"
           }
          ],
          "pie": [
           {
            "automargin": true,
            "type": "pie"
           }
          ],
          "scatter": [
           {
            "fillpattern": {
             "fillmode": "overlay",
             "size": 10,
             "solidity": 0.2
            },
            "type": "scatter"
           }
          ],
          "scatter3d": [
           {
            "line": {
             "colorbar": {
              "outlinewidth": 0,
              "ticks": ""
             }
            },
            "marker": {
             "colorbar": {
              "outlinewidth": 0,
              "ticks": ""
             }
            },
            "type": "scatter3d"
           }
          ],
          "scattercarpet": [
           {
            "marker": {
             "colorbar": {
              "outlinewidth": 0,
              "ticks": ""
             }
            },
            "type": "scattercarpet"
           }
          ],
          "scattergeo": [
           {
            "marker": {
             "colorbar": {
              "outlinewidth": 0,
              "ticks": ""
             }
            },
            "type": "scattergeo"
           }
          ],
          "scattergl": [
           {
            "marker": {
             "colorbar": {
              "outlinewidth": 0,
              "ticks": ""
             }
            },
            "type": "scattergl"
           }
          ],
          "scattermapbox": [
           {
            "marker": {
             "colorbar": {
              "outlinewidth": 0,
              "ticks": ""
             }
            },
            "type": "scattermapbox"
           }
          ],
          "scatterpolar": [
           {
            "marker": {
             "colorbar": {
              "outlinewidth": 0,
              "ticks": ""
             }
            },
            "type": "scatterpolar"
           }
          ],
          "scatterpolargl": [
           {
            "marker": {
             "colorbar": {
              "outlinewidth": 0,
              "ticks": ""
             }
            },
            "type": "scatterpolargl"
           }
          ],
          "scatterternary": [
           {
            "marker": {
             "colorbar": {
              "outlinewidth": 0,
              "ticks": ""
             }
            },
            "type": "scatterternary"
           }
          ],
          "surface": [
           {
            "colorbar": {
             "outlinewidth": 0,
             "ticks": ""
            },
            "colorscale": [
             [
              0,
              "#0d0887"
             ],
             [
              0.1111111111111111,
              "#46039f"
             ],
             [
              0.2222222222222222,
              "#7201a8"
             ],
             [
              0.3333333333333333,
              "#9c179e"
             ],
             [
              0.4444444444444444,
              "#bd3786"
             ],
             [
              0.5555555555555556,
              "#d8576b"
             ],
             [
              0.6666666666666666,
              "#ed7953"
             ],
             [
              0.7777777777777778,
              "#fb9f3a"
             ],
             [
              0.8888888888888888,
              "#fdca26"
             ],
             [
              1,
              "#f0f921"
             ]
            ],
            "type": "surface"
           }
          ],
          "table": [
           {
            "cells": {
             "fill": {
              "color": "#EBF0F8"
             },
             "line": {
              "color": "white"
             }
            },
            "header": {
             "fill": {
              "color": "#C8D4E3"
             },
             "line": {
              "color": "white"
             }
            },
            "type": "table"
           }
          ]
         },
         "layout": {
          "annotationdefaults": {
           "arrowcolor": "#2a3f5f",
           "arrowhead": 0,
           "arrowwidth": 1
          },
          "autotypenumbers": "strict",
          "coloraxis": {
           "colorbar": {
            "outlinewidth": 0,
            "ticks": ""
           }
          },
          "colorscale": {
           "diverging": [
            [
             0,
             "#8e0152"
            ],
            [
             0.1,
             "#c51b7d"
            ],
            [
             0.2,
             "#de77ae"
            ],
            [
             0.3,
             "#f1b6da"
            ],
            [
             0.4,
             "#fde0ef"
            ],
            [
             0.5,
             "#f7f7f7"
            ],
            [
             0.6,
             "#e6f5d0"
            ],
            [
             0.7,
             "#b8e186"
            ],
            [
             0.8,
             "#7fbc41"
            ],
            [
             0.9,
             "#4d9221"
            ],
            [
             1,
             "#276419"
            ]
           ],
           "sequential": [
            [
             0,
             "#0d0887"
            ],
            [
             0.1111111111111111,
             "#46039f"
            ],
            [
             0.2222222222222222,
             "#7201a8"
            ],
            [
             0.3333333333333333,
             "#9c179e"
            ],
            [
             0.4444444444444444,
             "#bd3786"
            ],
            [
             0.5555555555555556,
             "#d8576b"
            ],
            [
             0.6666666666666666,
             "#ed7953"
            ],
            [
             0.7777777777777778,
             "#fb9f3a"
            ],
            [
             0.8888888888888888,
             "#fdca26"
            ],
            [
             1,
             "#f0f921"
            ]
           ],
           "sequentialminus": [
            [
             0,
             "#0d0887"
            ],
            [
             0.1111111111111111,
             "#46039f"
            ],
            [
             0.2222222222222222,
             "#7201a8"
            ],
            [
             0.3333333333333333,
             "#9c179e"
            ],
            [
             0.4444444444444444,
             "#bd3786"
            ],
            [
             0.5555555555555556,
             "#d8576b"
            ],
            [
             0.6666666666666666,
             "#ed7953"
            ],
            [
             0.7777777777777778,
             "#fb9f3a"
            ],
            [
             0.8888888888888888,
             "#fdca26"
            ],
            [
             1,
             "#f0f921"
            ]
           ]
          },
          "colorway": [
           "#636efa",
           "#EF553B",
           "#00cc96",
           "#ab63fa",
           "#FFA15A",
           "#19d3f3",
           "#FF6692",
           "#B6E880",
           "#FF97FF",
           "#FECB52"
          ],
          "font": {
           "color": "#2a3f5f"
          },
          "geo": {
           "bgcolor": "white",
           "lakecolor": "white",
           "landcolor": "#E5ECF6",
           "showlakes": true,
           "showland": true,
           "subunitcolor": "white"
          },
          "hoverlabel": {
           "align": "left"
          },
          "hovermode": "closest",
          "mapbox": {
           "style": "light"
          },
          "paper_bgcolor": "white",
          "plot_bgcolor": "#E5ECF6",
          "polar": {
           "angularaxis": {
            "gridcolor": "white",
            "linecolor": "white",
            "ticks": ""
           },
           "bgcolor": "#E5ECF6",
           "radialaxis": {
            "gridcolor": "white",
            "linecolor": "white",
            "ticks": ""
           }
          },
          "scene": {
           "xaxis": {
            "backgroundcolor": "#E5ECF6",
            "gridcolor": "white",
            "gridwidth": 2,
            "linecolor": "white",
            "showbackground": true,
            "ticks": "",
            "zerolinecolor": "white"
           },
           "yaxis": {
            "backgroundcolor": "#E5ECF6",
            "gridcolor": "white",
            "gridwidth": 2,
            "linecolor": "white",
            "showbackground": true,
            "ticks": "",
            "zerolinecolor": "white"
           },
           "zaxis": {
            "backgroundcolor": "#E5ECF6",
            "gridcolor": "white",
            "gridwidth": 2,
            "linecolor": "white",
            "showbackground": true,
            "ticks": "",
            "zerolinecolor": "white"
           }
          },
          "shapedefaults": {
           "line": {
            "color": "#2a3f5f"
           }
          },
          "ternary": {
           "aaxis": {
            "gridcolor": "white",
            "linecolor": "white",
            "ticks": ""
           },
           "baxis": {
            "gridcolor": "white",
            "linecolor": "white",
            "ticks": ""
           },
           "bgcolor": "#E5ECF6",
           "caxis": {
            "gridcolor": "white",
            "linecolor": "white",
            "ticks": ""
           }
          },
          "title": {
           "x": 0.05
          },
          "xaxis": {
           "automargin": true,
           "gridcolor": "white",
           "linecolor": "white",
           "ticks": "",
           "title": {
            "standoff": 15
           },
           "zerolinecolor": "white",
           "zerolinewidth": 2
          },
          "yaxis": {
           "automargin": true,
           "gridcolor": "white",
           "linecolor": "white",
           "ticks": "",
           "title": {
            "standoff": 15
           },
           "zerolinecolor": "white",
           "zerolinewidth": 2
          }
         }
        },
        "title": {
         "text": "Optimization History Plot"
        },
        "xaxis": {
         "title": {
          "text": "Trial"
         }
        },
        "yaxis": {
         "title": {
          "text": "Objective Value"
         }
        }
       }
      }
     },
     "metadata": {},
     "output_type": "display_data"
    }
   ],
   "source": [
    "plot_optimization_history(study)"
   ]
  },
  {
   "cell_type": "code",
   "execution_count": 36,
   "metadata": {},
   "outputs": [
    {
     "name": "stdout",
     "output_type": "stream",
     "text": [
      "XGBClassifier\n",
      "training time: 5.033065557479858\n",
      "train acc: 0.99875\n",
      "test acc: 0.737864530776993\n",
      "eval time: 1.2347474098205566\n"
     ]
    },
    {
     "data": {
      "text/plain": [
       "(0.99875, 0.737864530776993)"
      ]
     },
     "execution_count": 36,
     "metadata": {},
     "output_type": "execute_result"
    }
   ],
   "source": [
    "xgb = XGBClassifier(**study.best_params)\n",
    "train(xgb, verbose=True, test_ratio=0.991)"
   ]
  },
  {
   "cell_type": "code",
   "execution_count": 212,
   "metadata": {},
   "outputs": [],
   "source": [
    "import pickle\n",
    "pickle.dump(study, open('xgb_study.pickle', 'wb'))"
   ]
  },
  {
   "cell_type": "code",
   "execution_count": 24,
   "metadata": {},
   "outputs": [],
   "source": [
    "import pickle\n",
    "study = pickle.load(open('xgb_study.pickle', 'rb'))"
   ]
  },
  {
   "cell_type": "code",
   "execution_count": 25,
   "metadata": {},
   "outputs": [
    {
     "data": {
      "text/plain": [
       "{'max_depth': 10,\n",
       " 'subsample': 0.9944429956664866,\n",
       " 'n_estimators': 250,\n",
       " 'eta': 0.0450936851981266,\n",
       " 'alpha': 0.0005827763748669013,\n",
       " 'lambda': 8.079327547505147e-08,\n",
       " 'gamma': 1.1347841203453763e-06,\n",
       " 'min_child_weight': 6,\n",
       " 'grow_policy': 'lossguide',\n",
       " 'colsample_bytree': 0.8008542412503581}"
      ]
     },
     "execution_count": 25,
     "metadata": {},
     "output_type": "execute_result"
    }
   ],
   "source": [
    "study.best_params"
   ]
  },
  {
   "cell_type": "code",
   "execution_count": 27,
   "metadata": {},
   "outputs": [],
   "source": [
    "def objective(trial: optuna.trial.Trial):\n",
    "    params = {\n",
    "        'n_estimators': trial.suggest_int('n_estimators', 50, 200, step=50),\n",
    "        'max_depth': trial.suggest_int('max_depth', 5, 20),\n",
    "        \"min_samples_split\": trial.suggest_float(\"min_samples_split\", 0.000001, 0.1),\n",
    "        'min_samples_leaf': trial.suggest_float(\"min_samples_leaf\", 0.000001, 0.1),\n",
    "        'criterion': trial.suggest_categorical('criterion', ['gini', 'entropy', 'log_loss'])\n",
    "    }\n",
    "    rfc_model = RandomForestClassifier(**params)\n",
    "    return np.array(train(rfc_model, test_ratio=0.991)).mean()"
   ]
  },
  {
   "cell_type": "code",
   "execution_count": 9,
   "metadata": {},
   "outputs": [
    {
     "name": "stderr",
     "output_type": "stream",
     "text": [
      "[I 2024-05-26 15:11:31,430] A new study created in memory with name: no-name-7cb8aa47-2e80-4fe8-ac21-ab1825d008ef\n"
     ]
    }
   ],
   "source": [
    "study = optuna.create_study(direction='maximize')"
   ]
  },
  {
   "cell_type": "code",
   "execution_count": 15,
   "metadata": {},
   "outputs": [
    {
     "name": "stdout",
     "output_type": "stream",
     "text": [
      "Best trial parameters: {'n_estimators': 150, 'max_depth': 48, 'min_samples_split': 0.0054977615395777335, 'min_samples_leaf': 0.0010035190213542712, 'criterion': 'gini'}\n",
      "Best score: 0.8416678229061554\n"
     ]
    }
   ],
   "source": [
    "print('Best trial parameters:', study.best_trial.params)\n",
    "print('Best score:', study.best_value)"
   ]
  },
  {
   "cell_type": "code",
   "execution_count": 28,
   "metadata": {},
   "outputs": [
    {
     "name": "stderr",
     "output_type": "stream",
     "text": [
      "[I 2024-05-26 16:56:57,675] Trial 200 finished with value: 0.811865995347012 and parameters: {'n_estimators': 100, 'max_depth': 15, 'min_samples_split': 0.004342415022964678, 'min_samples_leaf': 0.0026127496856710253, 'criterion': 'entropy'}. Best is trial 179 with value: 0.8696483630451844.\n",
      "[I 2024-05-26 16:57:42,916] Trial 201 finished with value: 0.8682181298351833 and parameters: {'n_estimators': 100, 'max_depth': 15, 'min_samples_split': 0.0015841370743238893, 'min_samples_leaf': 1.5632393853737725e-06, 'criterion': 'entropy'}. Best is trial 179 with value: 0.8696483630451844.\n",
      "[I 2024-05-26 16:58:26,911] Trial 202 finished with value: 0.8635517925215832 and parameters: {'n_estimators': 100, 'max_depth': 15, 'min_samples_split': 0.0020007148245829646, 'min_samples_leaf': 0.00012011504728439348, 'criterion': 'entropy'}. Best is trial 179 with value: 0.8696483630451844.\n",
      "[I 2024-05-26 16:59:02,500] Trial 203 finished with value: 0.8171631138580558 and parameters: {'n_estimators': 100, 'max_depth': 15, 'min_samples_split': 7.95851759665118e-05, 'min_samples_leaf': 0.002292822042630975, 'criterion': 'entropy'}. Best is trial 179 with value: 0.8696483630451844.\n",
      "[I 2024-05-26 16:59:34,482] Trial 204 finished with value: 0.7906013846843817 and parameters: {'n_estimators': 100, 'max_depth': 15, 'min_samples_split': 0.0020387794480666538, 'min_samples_leaf': 0.004070174998541043, 'criterion': 'entropy'}. Best is trial 179 with value: 0.8696483630451844.\n",
      "[I 2024-05-26 17:00:10,728] Trial 205 finished with value: 0.8223259334006054 and parameters: {'n_estimators': 100, 'max_depth': 16, 'min_samples_split': 0.0038904007304278844, 'min_samples_leaf': 0.002057995196407271, 'criterion': 'entropy'}. Best is trial 179 with value: 0.8696483630451844.\n",
      "[I 2024-05-26 17:00:55,949] Trial 206 finished with value: 0.8674124060993385 and parameters: {'n_estimators': 100, 'max_depth': 15, 'min_samples_split': 0.0016229024280109195, 'min_samples_leaf': 4.4841978164281344e-05, 'criterion': 'entropy'}. Best is trial 179 with value: 0.8696483630451844.\n",
      "[I 2024-05-26 17:01:27,155] Trial 207 finished with value: 0.7881534855364951 and parameters: {'n_estimators': 100, 'max_depth': 15, 'min_samples_split': 0.00668278838647985, 'min_samples_leaf': 0.0045136576459794756, 'criterion': 'entropy'}. Best is trial 179 with value: 0.8696483630451844.\n",
      "[I 2024-05-26 17:02:03,370] Trial 208 finished with value: 0.8223038597376388 and parameters: {'n_estimators': 100, 'max_depth': 16, 'min_samples_split': 0.0022439626077733225, 'min_samples_leaf': 0.0021432061917798064, 'criterion': 'entropy'}. Best is trial 179 with value: 0.8696483630451844.\n",
      "[I 2024-05-26 17:02:32,166] Trial 209 finished with value: 0.7738500672721158 and parameters: {'n_estimators': 100, 'max_depth': 15, 'min_samples_split': 0.00439035937005073, 'min_samples_leaf': 0.006988777631690178, 'criterion': 'entropy'}. Best is trial 179 with value: 0.8696483630451844.\n",
      "[I 2024-05-26 17:03:04,844] Trial 210 finished with value: 0.7942732158874313 and parameters: {'n_estimators': 100, 'max_depth': 14, 'min_samples_split': 0.0018150998359384915, 'min_samples_leaf': 0.0036163226938402807, 'criterion': 'entropy'}. Best is trial 179 with value: 0.8696483630451844.\n",
      "[I 2024-05-26 17:03:49,904] Trial 211 finished with value: 0.8679721311245655 and parameters: {'n_estimators': 100, 'max_depth': 15, 'min_samples_split': 0.00013360624343366473, 'min_samples_leaf': 0.00036439594322730556, 'criterion': 'entropy'}. Best is trial 179 with value: 0.8696483630451844.\n",
      "[I 2024-05-26 17:04:34,700] Trial 212 finished with value: 0.8667372323130396 and parameters: {'n_estimators': 100, 'max_depth': 16, 'min_samples_split': 0.0017938310415489768, 'min_samples_leaf': 0.00020804959042410764, 'criterion': 'entropy'}. Best is trial 179 with value: 0.8696483630451844.\n",
      "[I 2024-05-26 17:05:10,325] Trial 213 finished with value: 0.815358188978585 and parameters: {'n_estimators': 100, 'max_depth': 16, 'min_samples_split': 0.005032510888980124, 'min_samples_leaf': 0.0020492078699364843, 'criterion': 'entropy'}. Best is trial 179 with value: 0.8696483630451844.\n",
      "[I 2024-05-26 17:05:47,092] Trial 214 finished with value: 0.8248044904137235 and parameters: {'n_estimators': 100, 'max_depth': 15, 'min_samples_split': 1.7589819498631455e-05, 'min_samples_leaf': 0.0019831773885712225, 'criterion': 'entropy'}. Best is trial 179 with value: 0.8696483630451844.\n",
      "[I 2024-05-26 17:06:30,016] Trial 215 finished with value: 0.8568628069290278 and parameters: {'n_estimators': 100, 'max_depth': 15, 'min_samples_split': 0.0029941102839317934, 'min_samples_leaf': 1.729375179769775e-05, 'criterion': 'entropy'}. Best is trial 179 with value: 0.8696483630451844.\n",
      "[I 2024-05-26 17:07:01,184] Trial 216 finished with value: 0.7832799711290503 and parameters: {'n_estimators': 100, 'max_depth': 15, 'min_samples_split': 3.776348589071027e-05, 'min_samples_leaf': 0.004766321038479136, 'criterion': 'entropy'}. Best is trial 179 with value: 0.8696483630451844.\n",
      "[I 2024-05-26 17:07:36,618] Trial 217 finished with value: 0.8182753812086556 and parameters: {'n_estimators': 100, 'max_depth': 14, 'min_samples_split': 0.003495996970601678, 'min_samples_leaf': 0.0023434181186918574, 'criterion': 'entropy'}. Best is trial 179 with value: 0.8696483630451844.\n",
      "[I 2024-05-26 17:08:14,951] Trial 218 finished with value: 0.8329586767014239 and parameters: {'n_estimators': 100, 'max_depth': 16, 'min_samples_split': 0.006253672451921809, 'min_samples_leaf': 6.689284307216192e-05, 'criterion': 'entropy'}. Best is trial 179 with value: 0.8696483630451844.\n",
      "[I 2024-05-26 17:08:47,284] Trial 219 finished with value: 0.7950676925664313 and parameters: {'n_estimators': 100, 'max_depth': 15, 'min_samples_split': 0.0015106010808517963, 'min_samples_leaf': 0.003740343047090908, 'criterion': 'entropy'}. Best is trial 179 with value: 0.8696483630451844.\n",
      "[I 2024-05-26 17:09:17,239] Trial 220 finished with value: 0.778601160443996 and parameters: {'n_estimators': 100, 'max_depth': 16, 'min_samples_split': 5.224122111092749e-05, 'min_samples_leaf': 0.005673544940822044, 'criterion': 'entropy'}. Best is trial 179 with value: 0.8696483630451844.\n",
      "[I 2024-05-26 17:10:01,610] Trial 221 finished with value: 0.863370368034533 and parameters: {'n_estimators': 100, 'max_depth': 15, 'min_samples_split': 0.002070126986883948, 'min_samples_leaf': 4.6504657955049195e-05, 'criterion': 'entropy'}. Best is trial 179 with value: 0.8696483630451844.\n",
      "[I 2024-05-26 17:10:37,640] Trial 222 finished with value: 0.8216307882049557 and parameters: {'n_estimators': 100, 'max_depth': 15, 'min_samples_split': 0.00464177807646575, 'min_samples_leaf': 0.0019264670014138012, 'criterion': 'entropy'}. Best is trial 179 with value: 0.8696483630451844.\n",
      "[I 2024-05-26 17:11:24,787] Trial 223 finished with value: 0.8688544119295885 and parameters: {'n_estimators': 100, 'max_depth': 15, 'min_samples_split': 0.00023762931583292245, 'min_samples_leaf': 7.218990021701628e-05, 'criterion': 'entropy'}. Best is trial 179 with value: 0.8696483630451844.\n",
      "[I 2024-05-26 17:12:01,099] Trial 224 finished with value: 0.8227829983742572 and parameters: {'n_estimators': 100, 'max_depth': 15, 'min_samples_split': 0.0030018146959255544, 'min_samples_leaf': 0.0020485652979941446, 'criterion': 'entropy'}. Best is trial 179 with value: 0.8696483630451844.\n",
      "[I 2024-05-26 17:12:33,540] Trial 225 finished with value: 0.7938866464850319 and parameters: {'n_estimators': 100, 'max_depth': 14, 'min_samples_split': 0.001805872432443198, 'min_samples_leaf': 0.00375933242780613, 'criterion': 'entropy'}. Best is trial 179 with value: 0.8696483630451844.\n",
      "[I 2024-05-26 17:13:09,809] Trial 226 finished with value: 0.8194329170871174 and parameters: {'n_estimators': 100, 'max_depth': 16, 'min_samples_split': 0.004284051078190053, 'min_samples_leaf': 0.0021145176649267614, 'criterion': 'entropy'}. Best is trial 179 with value: 0.8696483630451844.\n",
      "[I 2024-05-26 17:13:47,219] Trial 227 finished with value: 0.8297172819262248 and parameters: {'n_estimators': 100, 'max_depth': 15, 'min_samples_split': 7.420264121871252e-05, 'min_samples_leaf': 0.0018055521931080987, 'criterion': 'entropy'}. Best is trial 179 with value: 0.8696483630451844.\n",
      "[I 2024-05-26 17:14:31,428] Trial 228 finished with value: 0.8608335085211347 and parameters: {'n_estimators': 100, 'max_depth': 14, 'min_samples_split': 0.0019150701397745446, 'min_samples_leaf': 8.28823001273354e-05, 'criterion': 'entropy'}. Best is trial 179 with value: 0.8696483630451844.\n",
      "[I 2024-05-26 17:15:02,809] Trial 229 finished with value: 0.7863496117838322 and parameters: {'n_estimators': 100, 'max_depth': 16, 'min_samples_split': 0.006978525601321243, 'min_samples_leaf': 0.004558598900861556, 'criterion': 'entropy'}. Best is trial 179 with value: 0.8696483630451844.\n",
      "[I 2024-05-26 17:15:36,136] Trial 230 finished with value: 0.8037246328063684 and parameters: {'n_estimators': 100, 'max_depth': 15, 'min_samples_split': 0.003656542017348016, 'min_samples_leaf': 0.0033016570498748546, 'criterion': 'entropy'}. Best is trial 179 with value: 0.8696483630451844.\n",
      "[I 2024-05-26 17:16:21,729] Trial 231 finished with value: 0.869121678439287 and parameters: {'n_estimators': 100, 'max_depth': 15, 'min_samples_split': 5.766843487588929e-05, 'min_samples_leaf': 0.00032095774218615885, 'criterion': 'entropy'}. Best is trial 179 with value: 0.8696483630451844.\n",
      "[I 2024-05-26 17:17:06,417] Trial 232 finished with value: 0.8672912111783833 and parameters: {'n_estimators': 100, 'max_depth': 15, 'min_samples_split': 0.001594784102529515, 'min_samples_leaf': 0.00013935822631021608, 'criterion': 'entropy'}. Best is trial 179 with value: 0.8696483630451844.\n",
      "[I 2024-05-26 17:17:53,641] Trial 233 finished with value: 0.8683580698508802 and parameters: {'n_estimators': 100, 'max_depth': 15, 'min_samples_split': 1.8859134745393564e-05, 'min_samples_leaf': 0.00012550722266456546, 'criterion': 'entropy'}. Best is trial 179 with value: 0.8696483630451844.\n",
      "[I 2024-05-26 17:18:30,299] Trial 234 finished with value: 0.8237193771723288 and parameters: {'n_estimators': 100, 'max_depth': 15, 'min_samples_split': 1.8562348838355598e-05, 'min_samples_leaf': 0.0020026861832708313, 'criterion': 'entropy'}. Best is trial 179 with value: 0.8696483630451844.\n",
      "[I 2024-05-26 17:19:06,506] Trial 235 finished with value: 0.8203751471577532 and parameters: {'n_estimators': 100, 'max_depth': 15, 'min_samples_split': 0.0036062273321001053, 'min_samples_leaf': 0.00203129369505601, 'criterion': 'entropy'}. Best is trial 179 with value: 0.8696483630451844.\n",
      "[I 2024-05-26 17:19:50,403] Trial 236 finished with value: 0.8642147381993497 and parameters: {'n_estimators': 100, 'max_depth': 14, 'min_samples_split': 0.002002675890435611, 'min_samples_leaf': 4.896232154099938e-05, 'criterion': 'entropy'}. Best is trial 179 with value: 0.8696483630451844.\n",
      "[I 2024-05-26 17:20:22,769] Trial 237 finished with value: 0.7972096787756475 and parameters: {'n_estimators': 100, 'max_depth': 15, 'min_samples_split': 0.005752595109844639, 'min_samples_leaf': 0.003703702237183616, 'criterion': 'entropy'}. Best is trial 179 with value: 0.8696483630451844.\n",
      "[I 2024-05-26 17:20:58,814] Trial 238 finished with value: 0.81964247673506 and parameters: {'n_estimators': 100, 'max_depth': 15, 'min_samples_split': 9.999789287270204e-05, 'min_samples_leaf': 0.002116839635053012, 'criterion': 'entropy'}. Best is trial 179 with value: 0.8696483630451844.\n",
      "[I 2024-05-26 17:21:28,636] Trial 239 finished with value: 0.7776356303957843 and parameters: {'n_estimators': 100, 'max_depth': 16, 'min_samples_split': 0.0026491297457119454, 'min_samples_leaf': 0.005732545141779751, 'criterion': 'entropy'}. Best is trial 179 with value: 0.8696483630451844.\n",
      "[I 2024-05-26 17:22:04,837] Trial 240 finished with value: 0.8215129919273461 and parameters: {'n_estimators': 100, 'max_depth': 14, 'min_samples_split': 0.004905953493123688, 'min_samples_leaf': 0.0018710991705548062, 'criterion': 'entropy'}. Best is trial 179 with value: 0.8696483630451844.\n",
      "[I 2024-05-26 17:22:52,958] Trial 241 finished with value: 0.8691273194864895 and parameters: {'n_estimators': 100, 'max_depth': 16, 'min_samples_split': 1.4413505331172237e-06, 'min_samples_leaf': 7.529278584160088e-05, 'criterion': 'entropy'}. Best is trial 179 with value: 0.8696483630451844.\n",
      "[I 2024-05-26 17:23:38,185] Trial 242 finished with value: 0.8649221115035317 and parameters: {'n_estimators': 100, 'max_depth': 16, 'min_samples_split': 0.0017514102335204269, 'min_samples_leaf': 0.000103492732502966, 'criterion': 'entropy'}. Best is trial 179 with value: 0.8696483630451844.\n",
      "[I 2024-05-26 17:24:23,473] Trial 243 finished with value: 0.8673606205852674 and parameters: {'n_estimators': 100, 'max_depth': 15, 'min_samples_split': 0.0015697045089036199, 'min_samples_leaf': 6.534754084170844e-05, 'criterion': 'entropy'}. Best is trial 179 with value: 0.8696483630451844.\n",
      "[I 2024-05-26 17:24:56,352] Trial 244 finished with value: 0.800784561049445 and parameters: {'n_estimators': 100, 'max_depth': 15, 'min_samples_split': 6.3882151611569784e-06, 'min_samples_leaf': 0.0035050856604333376, 'criterion': 'entropy'}. Best is trial 179 with value: 0.8696483630451844.\n",
      "[I 2024-05-26 17:25:38,100] Trial 245 finished with value: 0.8518522606233883 and parameters: {'n_estimators': 100, 'max_depth': 16, 'min_samples_split': 0.003576981809515277, 'min_samples_leaf': 1.161887145329376e-05, 'criterion': 'entropy'}. Best is trial 179 with value: 0.8696483630451844.\n",
      "[I 2024-05-26 17:26:14,194] Trial 246 finished with value: 0.8197032669021191 and parameters: {'n_estimators': 100, 'max_depth': 15, 'min_samples_split': 4.2894546089045755e-05, 'min_samples_leaf': 0.002152520961901579, 'criterion': 'entropy'}. Best is trial 179 with value: 0.8696483630451844.\n",
      "[I 2024-05-26 17:26:46,355] Trial 247 finished with value: 0.7944989628882162 and parameters: {'n_estimators': 100, 'max_depth': 15, 'min_samples_split': 0.002627896931119006, 'min_samples_leaf': 0.0038792236092282063, 'criterion': 'entropy'}. Best is trial 179 with value: 0.8696483630451844.\n",
      "[I 2024-05-26 17:27:23,411] Trial 248 finished with value: 0.8260925061666106 and parameters: {'n_estimators': 100, 'max_depth': 16, 'min_samples_split': 0.0017942917821529224, 'min_samples_leaf': 0.0019081260535561322, 'criterion': 'entropy'}. Best is trial 179 with value: 0.8696483630451844.\n",
      "[I 2024-05-26 17:28:03,540] Trial 249 finished with value: 0.8395465088574952 and parameters: {'n_estimators': 100, 'max_depth': 15, 'min_samples_split': 0.004752122393076436, 'min_samples_leaf': 4.4491516837242564e-05, 'criterion': 'entropy'}. Best is trial 179 with value: 0.8696483630451844.\n",
      "[I 2024-05-26 17:28:35,685] Trial 250 finished with value: 0.7939800916582577 and parameters: {'n_estimators': 100, 'max_depth': 16, 'min_samples_split': 0.003276040045358703, 'min_samples_leaf': 0.003767166020589345, 'criterion': 'entropy'}. Best is trial 179 with value: 0.8696483630451844.\n",
      "[I 2024-05-26 17:29:14,610] Trial 251 finished with value: 0.8271615722054042 and parameters: {'n_estimators': 100, 'max_depth': 14, 'min_samples_split': 5.003333715242211e-05, 'min_samples_leaf': 0.0019366912097857722, 'criterion': 'entropy'}. Best is trial 179 with value: 0.8696483630451844.\n",
      "[I 2024-05-26 17:29:42,875] Trial 252 finished with value: 0.7760702222782823 and parameters: {'n_estimators': 100, 'max_depth': 15, 'min_samples_split': 0.0018712770919964033, 'min_samples_leaf': 0.006127650823678678, 'criterion': 'entropy'}. Best is trial 179 with value: 0.8696483630451844.\n",
      "[I 2024-05-26 17:30:17,387] Trial 253 finished with value: 0.8190682461598834 and parameters: {'n_estimators': 100, 'max_depth': 15, 'min_samples_split': 0.005279701823840783, 'min_samples_leaf': 0.0017565460861217045, 'criterion': 'entropy'}. Best is trial 179 with value: 0.8696483630451844.\n",
      "[I 2024-05-26 17:30:38,670] Trial 254 finished with value: 0.7413228080502299 and parameters: {'n_estimators': 100, 'max_depth': 16, 'min_samples_split': 0.002463741159762146, 'min_samples_leaf': 0.020029259543229885, 'criterion': 'entropy'}. Best is trial 179 with value: 0.8696483630451844.\n",
      "[I 2024-05-26 17:31:21,662] Trial 255 finished with value: 0.8670013454423142 and parameters: {'n_estimators': 100, 'max_depth': 14, 'min_samples_split': 0.0015694480435993348, 'min_samples_leaf': 5.081926813697935e-05, 'criterion': 'entropy'}. Best is trial 179 with value: 0.8696483630451844.\n",
      "[I 2024-05-26 17:31:51,863] Trial 256 finished with value: 0.7900716167731809 and parameters: {'n_estimators': 100, 'max_depth': 17, 'min_samples_split': 3.9045094724727495e-05, 'min_samples_leaf': 0.004264104665734764, 'criterion': 'entropy'}. Best is trial 179 with value: 0.8696483630451844.\n",
      "[I 2024-05-26 17:32:25,631] Trial 257 finished with value: 0.8121671431774863 and parameters: {'n_estimators': 100, 'max_depth': 15, 'min_samples_split': 0.0035363967672134245, 'min_samples_leaf': 0.002491160843029224, 'criterion': 'entropy'}. Best is trial 179 with value: 0.8696483630451844.\n",
      "[I 2024-05-26 17:33:01,744] Trial 258 finished with value: 0.8239301631348805 and parameters: {'n_estimators': 100, 'max_depth': 16, 'min_samples_split': 0.00722351072528085, 'min_samples_leaf': 5.152498314554751e-05, 'criterion': 'entropy'}. Best is trial 179 with value: 0.8696483630451844.\n",
      "[I 2024-05-26 17:33:33,170] Trial 259 finished with value: 0.7986571504652988 and parameters: {'n_estimators': 100, 'max_depth': 15, 'min_samples_split': 0.003945201897248593, 'min_samples_leaf': 0.003630285029133914, 'criterion': 'entropy'}. Best is trial 179 with value: 0.8696483630451844.\n",
      "[I 2024-05-26 17:34:02,035] Trial 260 finished with value: 0.7778866745150801 and parameters: {'n_estimators': 100, 'max_depth': 15, 'min_samples_split': 0.0016992117702571803, 'min_samples_leaf': 0.005561605242861753, 'criterion': 'entropy'}. Best is trial 179 with value: 0.8696483630451844.\n",
      "[I 2024-05-26 17:34:37,046] Trial 261 finished with value: 0.8207040447359569 and parameters: {'n_estimators': 100, 'max_depth': 16, 'min_samples_split': 3.3128057056973396e-05, 'min_samples_leaf': 0.0019829157273967292, 'criterion': 'entropy'}. Best is trial 179 with value: 0.8696483630451844.\n",
      "[I 2024-05-26 17:35:03,749] Trial 262 finished with value: 0.7659175636282094 and parameters: {'n_estimators': 100, 'max_depth': 14, 'min_samples_split': 0.005347513107449918, 'min_samples_leaf': 0.00807597529317681, 'criterion': 'entropy'}. Best is trial 179 with value: 0.8696483630451844.\n",
      "[I 2024-05-26 17:35:38,626] Trial 263 finished with value: 0.8201135917703779 and parameters: {'n_estimators': 100, 'max_depth': 15, 'min_samples_split': 0.002131631615582811, 'min_samples_leaf': 0.0020968790348815294, 'criterion': 'entropy'}. Best is trial 179 with value: 0.8696483630451844.\n",
      "[I 2024-05-26 17:36:09,089] Trial 264 finished with value: 0.7890188431999103 and parameters: {'n_estimators': 100, 'max_depth': 16, 'min_samples_split': 8.09347793946802e-05, 'min_samples_leaf': 0.004098332175397952, 'criterion': 'entropy'}. Best is trial 179 with value: 0.8696483630451844.\n",
      "[I 2024-05-26 17:36:49,388] Trial 265 finished with value: 0.8518367039466308 and parameters: {'n_estimators': 100, 'max_depth': 15, 'min_samples_split': 0.0033158396286960506, 'min_samples_leaf': 8.048251494666031e-05, 'criterion': 'entropy'}. Best is trial 179 with value: 0.8696483630451844.\n",
      "[I 2024-05-26 17:37:24,655] Trial 266 finished with value: 0.82576536046642 and parameters: {'n_estimators': 100, 'max_depth': 15, 'min_samples_split': 0.002007214837269668, 'min_samples_leaf': 0.0019157835644309788, 'criterion': 'log_loss'}. Best is trial 179 with value: 0.8696483630451844.\n",
      "[I 2024-05-26 17:38:02,905] Trial 267 finished with value: 0.8408720498374257 and parameters: {'n_estimators': 100, 'max_depth': 14, 'min_samples_split': 0.004773930092060089, 'min_samples_leaf': 4.045138659238714e-05, 'criterion': 'entropy'}. Best is trial 179 with value: 0.8696483630451844.\n",
      "[I 2024-05-26 17:38:32,535] Trial 268 finished with value: 0.7838974380535935 and parameters: {'n_estimators': 100, 'max_depth': 16, 'min_samples_split': 0.00011120073577520969, 'min_samples_leaf': 0.004924918844304703, 'criterion': 'entropy'}. Best is trial 179 with value: 0.8696483630451844.\n",
      "[I 2024-05-26 17:39:08,036] Trial 269 finished with value: 0.827868384908622 and parameters: {'n_estimators': 100, 'max_depth': 15, 'min_samples_split': 0.0034160860700784765, 'min_samples_leaf': 0.001898779176236541, 'criterion': 'entropy'}. Best is trial 179 with value: 0.8696483630451844.\n",
      "[I 2024-05-26 17:39:39,978] Trial 270 finished with value: 0.8013683568785739 and parameters: {'n_estimators': 100, 'max_depth': 17, 'min_samples_split': 3.137893968677629e-06, 'min_samples_leaf': 0.003373616130177743, 'criterion': 'entropy'}. Best is trial 179 with value: 0.8696483630451844.\n",
      "[I 2024-05-26 17:40:15,610] Trial 271 finished with value: 0.8259383759390067 and parameters: {'n_estimators': 100, 'max_depth': 15, 'min_samples_split': 0.0020610539181458907, 'min_samples_leaf': 0.0018937919947027552, 'criterion': 'entropy'}. Best is trial 179 with value: 0.8696483630451844.\n",
      "[I 2024-05-26 17:40:44,875] Trial 272 finished with value: 0.7793813768359681 and parameters: {'n_estimators': 100, 'max_depth': 16, 'min_samples_split': 0.007831111637498266, 'min_samples_leaf': 0.005904875928986876, 'criterion': 'entropy'}. Best is trial 179 with value: 0.8696483630451844.\n",
      "[I 2024-05-26 17:41:17,506] Trial 273 finished with value: 0.7989091055611616 and parameters: {'n_estimators': 100, 'max_depth': 14, 'min_samples_split': 0.005325430895776491, 'min_samples_leaf': 0.0034909407150731705, 'criterion': 'entropy'}. Best is trial 179 with value: 0.8696483630451844.\n",
      "[I 2024-05-26 17:41:54,965] Trial 274 finished with value: 0.8333099983181971 and parameters: {'n_estimators': 100, 'max_depth': 15, 'min_samples_split': 0.0019487885243241335, 'min_samples_leaf': 0.0016639961841243853, 'criterion': 'entropy'}. Best is trial 179 with value: 0.8696483630451844.\n",
      "[I 2024-05-26 17:42:42,535] Trial 275 finished with value: 0.8676851384684382 and parameters: {'n_estimators': 100, 'max_depth': 16, 'min_samples_split': 2.6891297270021554e-05, 'min_samples_leaf': 9.569560396722966e-06, 'criterion': 'entropy'}. Best is trial 179 with value: 0.8696483630451844.\n",
      "[I 2024-05-26 17:43:19,249] Trial 276 finished with value: 0.8285361657697051 and parameters: {'n_estimators': 100, 'max_depth': 16, 'min_samples_split': 7.91899009748787e-06, 'min_samples_leaf': 0.0017938878708376694, 'criterion': 'entropy'}. Best is trial 179 with value: 0.8696483630451844.\n",
      "[I 2024-05-26 17:44:00,803] Trial 277 finished with value: 0.8517262655566769 and parameters: {'n_estimators': 100, 'max_depth': 16, 'min_samples_split': 0.0035389051355210277, 'min_samples_leaf': 0.0001242672684684755, 'criterion': 'entropy'}. Best is trial 179 with value: 0.8696483630451844.\n",
      "[I 2024-05-26 17:44:45,461] Trial 278 finished with value: 0.8670132582128041 and parameters: {'n_estimators': 100, 'max_depth': 16, 'min_samples_split': 0.0018120000510261464, 'min_samples_leaf': 8.432691517354761e-06, 'criterion': 'entropy'}. Best is trial 179 with value: 0.8696483630451844.\n",
      "[I 2024-05-26 17:45:04,453] Trial 279 finished with value: 0.7411853206637515 and parameters: {'n_estimators': 100, 'max_depth': 15, 'min_samples_split': 0.0036623830080192783, 'min_samples_leaf': 0.03217249069738834, 'criterion': 'entropy'}. Best is trial 179 with value: 0.8696483630451844.\n",
      "[I 2024-05-26 17:45:31,950] Trial 280 finished with value: 0.7733016593788542 and parameters: {'n_estimators': 100, 'max_depth': 17, 'min_samples_split': 0.006198701461875543, 'min_samples_leaf': 0.007073252909246308, 'criterion': 'entropy'}. Best is trial 179 with value: 0.8696483630451844.\n",
      "[I 2024-05-26 17:46:03,164] Trial 281 finished with value: 0.7937179406323579 and parameters: {'n_estimators': 100, 'max_depth': 15, 'min_samples_split': 0.00172862875990169, 'min_samples_leaf': 0.0036677961293734383, 'criterion': 'entropy'}. Best is trial 179 with value: 0.8696483630451844.\n",
      "[I 2024-05-26 17:46:32,471] Trial 282 finished with value: 0.7814466307882049 and parameters: {'n_estimators': 100, 'max_depth': 16, 'min_samples_split': 0.0034523364684407518, 'min_samples_leaf': 0.00519319809548695, 'criterion': 'entropy'}. Best is trial 179 with value: 0.8696483630451844.\n",
      "[I 2024-05-26 17:47:04,586] Trial 283 finished with value: 0.7992471129050343 and parameters: {'n_estimators': 100, 'max_depth': 15, 'min_samples_split': 5.371057079379217e-05, 'min_samples_leaf': 0.0032177124252898166, 'criterion': 'entropy'}. Best is trial 179 with value: 0.8696483630451844.\n",
      "[I 2024-05-26 17:47:39,976] Trial 284 finished with value: 0.8265480995627312 and parameters: {'n_estimators': 100, 'max_depth': 15, 'min_samples_split': 0.001910809796371521, 'min_samples_leaf': 0.001871353928944383, 'criterion': 'entropy'}. Best is trial 179 with value: 0.8696483630451844.\n",
      "[I 2024-05-26 17:48:17,624] Trial 285 finished with value: 0.8366826788317077 and parameters: {'n_estimators': 100, 'max_depth': 15, 'min_samples_split': 0.005232631872091229, 'min_samples_leaf': 0.00010488072349323804, 'criterion': 'entropy'}. Best is trial 179 with value: 0.8696483630451844.\n",
      "[I 2024-05-26 17:48:49,220] Trial 286 finished with value: 0.7983713140486601 and parameters: {'n_estimators': 100, 'max_depth': 17, 'min_samples_split': 5.1468587431028966e-05, 'min_samples_leaf': 0.003464930144288, 'criterion': 'entropy'}. Best is trial 179 with value: 0.8696483630451844.\n",
      "[I 2024-05-26 17:49:25,084] Trial 287 finished with value: 0.8293302219979819 and parameters: {'n_estimators': 100, 'max_depth': 16, 'min_samples_split': 0.0037249012919769726, 'min_samples_leaf': 0.0017925201250928472, 'criterion': 'entropy'}. Best is trial 179 with value: 0.8696483630451844.\n",
      "[I 2024-05-26 17:50:08,708] Trial 288 finished with value: 0.8676340537055724 and parameters: {'n_estimators': 100, 'max_depth': 16, 'min_samples_split': 0.0017976301685838471, 'min_samples_leaf': 6.616708723977989e-05, 'criterion': 'entropy'}. Best is trial 179 with value: 0.8696483630451844.\n",
      "[I 2024-05-26 17:50:38,471] Trial 289 finished with value: 0.7853527581567441 and parameters: {'n_estimators': 100, 'max_depth': 16, 'min_samples_split': 0.0020291250069805655, 'min_samples_leaf': 0.004791573739307177, 'criterion': 'entropy'}. Best is trial 179 with value: 0.8696483630451844.\n",
      "[I 2024-05-26 17:51:14,226] Trial 290 finished with value: 0.8285028800874538 and parameters: {'n_estimators': 100, 'max_depth': 16, 'min_samples_split': 0.0034368794169257625, 'min_samples_leaf': 0.001771376598647071, 'criterion': 'log_loss'}. Best is trial 179 with value: 0.8696483630451844.\n",
      "[I 2024-05-26 17:51:37,279] Trial 291 finished with value: 0.7461280692902792 and parameters: {'n_estimators': 100, 'max_depth': 16, 'min_samples_split': 0.04344542552523094, 'min_samples_leaf': 0.0033927364473832922, 'criterion': 'entropy'}. Best is trial 179 with value: 0.8696483630451844.\n",
      "[I 2024-05-26 17:52:04,657] Trial 292 finished with value: 0.7724503517771051 and parameters: {'n_estimators': 100, 'max_depth': 16, 'min_samples_split': 0.005788516385522975, 'min_samples_leaf': 0.006958500942355766, 'criterion': 'entropy'}. Best is trial 179 with value: 0.8696483630451844.\n",
      "[I 2024-05-26 17:52:49,070] Trial 293 finished with value: 0.8683122056844939 and parameters: {'n_estimators': 100, 'max_depth': 14, 'min_samples_split': 8.8105084689311e-05, 'min_samples_leaf': 9.942620420492948e-05, 'criterion': 'entropy'}. Best is trial 179 with value: 0.8696483630451844.\n",
      "[I 2024-05-26 17:53:24,205] Trial 294 finished with value: 0.8266185250588631 and parameters: {'n_estimators': 100, 'max_depth': 14, 'min_samples_split': 8.229364292418448e-06, 'min_samples_leaf': 0.0018978268935721872, 'criterion': 'entropy'}. Best is trial 179 with value: 0.8696483630451844.\n",
      "[I 2024-05-26 17:54:09,061] Trial 295 finished with value: 0.8683999747729566 and parameters: {'n_estimators': 100, 'max_depth': 14, 'min_samples_split': 5.812384513666853e-05, 'min_samples_leaf': 9.33603476368849e-06, 'criterion': 'entropy'}. Best is trial 179 with value: 0.8696483630451844.\n",
      "[I 2024-05-26 17:54:38,163] Trial 296 finished with value: 0.783051245935643 and parameters: {'n_estimators': 100, 'max_depth': 14, 'min_samples_split': 0.0034981723336508655, 'min_samples_leaf': 0.005158294274512792, 'criterion': 'entropy'}. Best is trial 179 with value: 0.8696483630451844.\n",
      "[I 2024-05-26 17:55:10,300] Trial 297 finished with value: 0.8030241268639982 and parameters: {'n_estimators': 100, 'max_depth': 14, 'min_samples_split': 0.002105691370302855, 'min_samples_leaf': 0.0032289722060643332, 'criterion': 'entropy'}. Best is trial 179 with value: 0.8696483630451844.\n",
      "[I 2024-05-26 17:55:36,362] Trial 298 finished with value: 0.7621139211234443 and parameters: {'n_estimators': 100, 'max_depth': 14, 'min_samples_split': 1.28361701369292e-05, 'min_samples_leaf': 0.009618314567292723, 'criterion': 'entropy'}. Best is trial 179 with value: 0.8696483630451844.\n",
      "[I 2024-05-26 17:56:08,741] Trial 299 finished with value: 0.8030613717905595 and parameters: {'n_estimators': 100, 'max_depth': 15, 'min_samples_split': 0.008132932852643805, 'min_samples_leaf': 0.0019416057888450064, 'criterion': 'entropy'}. Best is trial 179 with value: 0.8696483630451844.\n"
     ]
    },
    {
     "name": "stdout",
     "output_type": "stream",
     "text": [
      "Number of finished trials: 300\n",
      "Best trial parameters: {'n_estimators': 100, 'max_depth': 16, 'min_samples_split': 0.00025356666026683707, 'min_samples_leaf': 0.0002289280013731268, 'criterion': 'entropy'}\n",
      "Best score: 0.8696483630451844\n"
     ]
    }
   ],
   "source": [
    "study.optimize(objective, n_trials=100)\n",
    "\n",
    "# Showing optimization results\n",
    "print('Number of finished trials:', len(study.trials))\n",
    "print('Best trial parameters:', study.best_trial.params)\n",
    "print('Best score:', study.best_value)"
   ]
  },
  {
   "cell_type": "code",
   "execution_count": 31,
   "metadata": {},
   "outputs": [
    {
     "data": {
      "application/vnd.plotly.v1+json": {
       "config": {
        "plotlyServerURL": "https://plot.ly"
       },
       "data": [
        {
         "cliponaxis": false,
         "hovertemplate": [
          "criterion (CategoricalDistribution): 1.0<extra></extra>"
         ],
         "name": "Objective Value",
         "orientation": "h",
         "text": [
          "1.00"
         ],
         "textposition": "outside",
         "type": "bar",
         "x": [
          1
         ],
         "y": [
          "criterion"
         ]
        }
       ],
       "layout": {
        "template": {
         "data": {
          "bar": [
           {
            "error_x": {
             "color": "#2a3f5f"
            },
            "error_y": {
             "color": "#2a3f5f"
            },
            "marker": {
             "line": {
              "color": "#E5ECF6",
              "width": 0.5
             },
             "pattern": {
              "fillmode": "overlay",
              "size": 10,
              "solidity": 0.2
             }
            },
            "type": "bar"
           }
          ],
          "barpolar": [
           {
            "marker": {
             "line": {
              "color": "#E5ECF6",
              "width": 0.5
             },
             "pattern": {
              "fillmode": "overlay",
              "size": 10,
              "solidity": 0.2
             }
            },
            "type": "barpolar"
           }
          ],
          "carpet": [
           {
            "aaxis": {
             "endlinecolor": "#2a3f5f",
             "gridcolor": "white",
             "linecolor": "white",
             "minorgridcolor": "white",
             "startlinecolor": "#2a3f5f"
            },
            "baxis": {
             "endlinecolor": "#2a3f5f",
             "gridcolor": "white",
             "linecolor": "white",
             "minorgridcolor": "white",
             "startlinecolor": "#2a3f5f"
            },
            "type": "carpet"
           }
          ],
          "choropleth": [
           {
            "colorbar": {
             "outlinewidth": 0,
             "ticks": ""
            },
            "type": "choropleth"
           }
          ],
          "contour": [
           {
            "colorbar": {
             "outlinewidth": 0,
             "ticks": ""
            },
            "colorscale": [
             [
              0,
              "#0d0887"
             ],
             [
              0.1111111111111111,
              "#46039f"
             ],
             [
              0.2222222222222222,
              "#7201a8"
             ],
             [
              0.3333333333333333,
              "#9c179e"
             ],
             [
              0.4444444444444444,
              "#bd3786"
             ],
             [
              0.5555555555555556,
              "#d8576b"
             ],
             [
              0.6666666666666666,
              "#ed7953"
             ],
             [
              0.7777777777777778,
              "#fb9f3a"
             ],
             [
              0.8888888888888888,
              "#fdca26"
             ],
             [
              1,
              "#f0f921"
             ]
            ],
            "type": "contour"
           }
          ],
          "contourcarpet": [
           {
            "colorbar": {
             "outlinewidth": 0,
             "ticks": ""
            },
            "type": "contourcarpet"
           }
          ],
          "heatmap": [
           {
            "colorbar": {
             "outlinewidth": 0,
             "ticks": ""
            },
            "colorscale": [
             [
              0,
              "#0d0887"
             ],
             [
              0.1111111111111111,
              "#46039f"
             ],
             [
              0.2222222222222222,
              "#7201a8"
             ],
             [
              0.3333333333333333,
              "#9c179e"
             ],
             [
              0.4444444444444444,
              "#bd3786"
             ],
             [
              0.5555555555555556,
              "#d8576b"
             ],
             [
              0.6666666666666666,
              "#ed7953"
             ],
             [
              0.7777777777777778,
              "#fb9f3a"
             ],
             [
              0.8888888888888888,
              "#fdca26"
             ],
             [
              1,
              "#f0f921"
             ]
            ],
            "type": "heatmap"
           }
          ],
          "heatmapgl": [
           {
            "colorbar": {
             "outlinewidth": 0,
             "ticks": ""
            },
            "colorscale": [
             [
              0,
              "#0d0887"
             ],
             [
              0.1111111111111111,
              "#46039f"
             ],
             [
              0.2222222222222222,
              "#7201a8"
             ],
             [
              0.3333333333333333,
              "#9c179e"
             ],
             [
              0.4444444444444444,
              "#bd3786"
             ],
             [
              0.5555555555555556,
              "#d8576b"
             ],
             [
              0.6666666666666666,
              "#ed7953"
             ],
             [
              0.7777777777777778,
              "#fb9f3a"
             ],
             [
              0.8888888888888888,
              "#fdca26"
             ],
             [
              1,
              "#f0f921"
             ]
            ],
            "type": "heatmapgl"
           }
          ],
          "histogram": [
           {
            "marker": {
             "pattern": {
              "fillmode": "overlay",
              "size": 10,
              "solidity": 0.2
             }
            },
            "type": "histogram"
           }
          ],
          "histogram2d": [
           {
            "colorbar": {
             "outlinewidth": 0,
             "ticks": ""
            },
            "colorscale": [
             [
              0,
              "#0d0887"
             ],
             [
              0.1111111111111111,
              "#46039f"
             ],
             [
              0.2222222222222222,
              "#7201a8"
             ],
             [
              0.3333333333333333,
              "#9c179e"
             ],
             [
              0.4444444444444444,
              "#bd3786"
             ],
             [
              0.5555555555555556,
              "#d8576b"
             ],
             [
              0.6666666666666666,
              "#ed7953"
             ],
             [
              0.7777777777777778,
              "#fb9f3a"
             ],
             [
              0.8888888888888888,
              "#fdca26"
             ],
             [
              1,
              "#f0f921"
             ]
            ],
            "type": "histogram2d"
           }
          ],
          "histogram2dcontour": [
           {
            "colorbar": {
             "outlinewidth": 0,
             "ticks": ""
            },
            "colorscale": [
             [
              0,
              "#0d0887"
             ],
             [
              0.1111111111111111,
              "#46039f"
             ],
             [
              0.2222222222222222,
              "#7201a8"
             ],
             [
              0.3333333333333333,
              "#9c179e"
             ],
             [
              0.4444444444444444,
              "#bd3786"
             ],
             [
              0.5555555555555556,
              "#d8576b"
             ],
             [
              0.6666666666666666,
              "#ed7953"
             ],
             [
              0.7777777777777778,
              "#fb9f3a"
             ],
             [
              0.8888888888888888,
              "#fdca26"
             ],
             [
              1,
              "#f0f921"
             ]
            ],
            "type": "histogram2dcontour"
           }
          ],
          "mesh3d": [
           {
            "colorbar": {
             "outlinewidth": 0,
             "ticks": ""
            },
            "type": "mesh3d"
           }
          ],
          "parcoords": [
           {
            "line": {
             "colorbar": {
              "outlinewidth": 0,
              "ticks": ""
             }
            },
            "type": "parcoords"
           }
          ],
          "pie": [
           {
            "automargin": true,
            "type": "pie"
           }
          ],
          "scatter": [
           {
            "fillpattern": {
             "fillmode": "overlay",
             "size": 10,
             "solidity": 0.2
            },
            "type": "scatter"
           }
          ],
          "scatter3d": [
           {
            "line": {
             "colorbar": {
              "outlinewidth": 0,
              "ticks": ""
             }
            },
            "marker": {
             "colorbar": {
              "outlinewidth": 0,
              "ticks": ""
             }
            },
            "type": "scatter3d"
           }
          ],
          "scattercarpet": [
           {
            "marker": {
             "colorbar": {
              "outlinewidth": 0,
              "ticks": ""
             }
            },
            "type": "scattercarpet"
           }
          ],
          "scattergeo": [
           {
            "marker": {
             "colorbar": {
              "outlinewidth": 0,
              "ticks": ""
             }
            },
            "type": "scattergeo"
           }
          ],
          "scattergl": [
           {
            "marker": {
             "colorbar": {
              "outlinewidth": 0,
              "ticks": ""
             }
            },
            "type": "scattergl"
           }
          ],
          "scattermapbox": [
           {
            "marker": {
             "colorbar": {
              "outlinewidth": 0,
              "ticks": ""
             }
            },
            "type": "scattermapbox"
           }
          ],
          "scatterpolar": [
           {
            "marker": {
             "colorbar": {
              "outlinewidth": 0,
              "ticks": ""
             }
            },
            "type": "scatterpolar"
           }
          ],
          "scatterpolargl": [
           {
            "marker": {
             "colorbar": {
              "outlinewidth": 0,
              "ticks": ""
             }
            },
            "type": "scatterpolargl"
           }
          ],
          "scatterternary": [
           {
            "marker": {
             "colorbar": {
              "outlinewidth": 0,
              "ticks": ""
             }
            },
            "type": "scatterternary"
           }
          ],
          "surface": [
           {
            "colorbar": {
             "outlinewidth": 0,
             "ticks": ""
            },
            "colorscale": [
             [
              0,
              "#0d0887"
             ],
             [
              0.1111111111111111,
              "#46039f"
             ],
             [
              0.2222222222222222,
              "#7201a8"
             ],
             [
              0.3333333333333333,
              "#9c179e"
             ],
             [
              0.4444444444444444,
              "#bd3786"
             ],
             [
              0.5555555555555556,
              "#d8576b"
             ],
             [
              0.6666666666666666,
              "#ed7953"
             ],
             [
              0.7777777777777778,
              "#fb9f3a"
             ],
             [
              0.8888888888888888,
              "#fdca26"
             ],
             [
              1,
              "#f0f921"
             ]
            ],
            "type": "surface"
           }
          ],
          "table": [
           {
            "cells": {
             "fill": {
              "color": "#EBF0F8"
             },
             "line": {
              "color": "white"
             }
            },
            "header": {
             "fill": {
              "color": "#C8D4E3"
             },
             "line": {
              "color": "white"
             }
            },
            "type": "table"
           }
          ]
         },
         "layout": {
          "annotationdefaults": {
           "arrowcolor": "#2a3f5f",
           "arrowhead": 0,
           "arrowwidth": 1
          },
          "autotypenumbers": "strict",
          "coloraxis": {
           "colorbar": {
            "outlinewidth": 0,
            "ticks": ""
           }
          },
          "colorscale": {
           "diverging": [
            [
             0,
             "#8e0152"
            ],
            [
             0.1,
             "#c51b7d"
            ],
            [
             0.2,
             "#de77ae"
            ],
            [
             0.3,
             "#f1b6da"
            ],
            [
             0.4,
             "#fde0ef"
            ],
            [
             0.5,
             "#f7f7f7"
            ],
            [
             0.6,
             "#e6f5d0"
            ],
            [
             0.7,
             "#b8e186"
            ],
            [
             0.8,
             "#7fbc41"
            ],
            [
             0.9,
             "#4d9221"
            ],
            [
             1,
             "#276419"
            ]
           ],
           "sequential": [
            [
             0,
             "#0d0887"
            ],
            [
             0.1111111111111111,
             "#46039f"
            ],
            [
             0.2222222222222222,
             "#7201a8"
            ],
            [
             0.3333333333333333,
             "#9c179e"
            ],
            [
             0.4444444444444444,
             "#bd3786"
            ],
            [
             0.5555555555555556,
             "#d8576b"
            ],
            [
             0.6666666666666666,
             "#ed7953"
            ],
            [
             0.7777777777777778,
             "#fb9f3a"
            ],
            [
             0.8888888888888888,
             "#fdca26"
            ],
            [
             1,
             "#f0f921"
            ]
           ],
           "sequentialminus": [
            [
             0,
             "#0d0887"
            ],
            [
             0.1111111111111111,
             "#46039f"
            ],
            [
             0.2222222222222222,
             "#7201a8"
            ],
            [
             0.3333333333333333,
             "#9c179e"
            ],
            [
             0.4444444444444444,
             "#bd3786"
            ],
            [
             0.5555555555555556,
             "#d8576b"
            ],
            [
             0.6666666666666666,
             "#ed7953"
            ],
            [
             0.7777777777777778,
             "#fb9f3a"
            ],
            [
             0.8888888888888888,
             "#fdca26"
            ],
            [
             1,
             "#f0f921"
            ]
           ]
          },
          "colorway": [
           "#636efa",
           "#EF553B",
           "#00cc96",
           "#ab63fa",
           "#FFA15A",
           "#19d3f3",
           "#FF6692",
           "#B6E880",
           "#FF97FF",
           "#FECB52"
          ],
          "font": {
           "color": "#2a3f5f"
          },
          "geo": {
           "bgcolor": "white",
           "lakecolor": "white",
           "landcolor": "#E5ECF6",
           "showlakes": true,
           "showland": true,
           "subunitcolor": "white"
          },
          "hoverlabel": {
           "align": "left"
          },
          "hovermode": "closest",
          "mapbox": {
           "style": "light"
          },
          "paper_bgcolor": "white",
          "plot_bgcolor": "#E5ECF6",
          "polar": {
           "angularaxis": {
            "gridcolor": "white",
            "linecolor": "white",
            "ticks": ""
           },
           "bgcolor": "#E5ECF6",
           "radialaxis": {
            "gridcolor": "white",
            "linecolor": "white",
            "ticks": ""
           }
          },
          "scene": {
           "xaxis": {
            "backgroundcolor": "#E5ECF6",
            "gridcolor": "white",
            "gridwidth": 2,
            "linecolor": "white",
            "showbackground": true,
            "ticks": "",
            "zerolinecolor": "white"
           },
           "yaxis": {
            "backgroundcolor": "#E5ECF6",
            "gridcolor": "white",
            "gridwidth": 2,
            "linecolor": "white",
            "showbackground": true,
            "ticks": "",
            "zerolinecolor": "white"
           },
           "zaxis": {
            "backgroundcolor": "#E5ECF6",
            "gridcolor": "white",
            "gridwidth": 2,
            "linecolor": "white",
            "showbackground": true,
            "ticks": "",
            "zerolinecolor": "white"
           }
          },
          "shapedefaults": {
           "line": {
            "color": "#2a3f5f"
           }
          },
          "ternary": {
           "aaxis": {
            "gridcolor": "white",
            "linecolor": "white",
            "ticks": ""
           },
           "baxis": {
            "gridcolor": "white",
            "linecolor": "white",
            "ticks": ""
           },
           "bgcolor": "#E5ECF6",
           "caxis": {
            "gridcolor": "white",
            "linecolor": "white",
            "ticks": ""
           }
          },
          "title": {
           "x": 0.05
          },
          "xaxis": {
           "automargin": true,
           "gridcolor": "white",
           "linecolor": "white",
           "ticks": "",
           "title": {
            "standoff": 15
           },
           "zerolinecolor": "white",
           "zerolinewidth": 2
          },
          "yaxis": {
           "automargin": true,
           "gridcolor": "white",
           "linecolor": "white",
           "ticks": "",
           "title": {
            "standoff": 15
           },
           "zerolinecolor": "white",
           "zerolinewidth": 2
          }
         }
        },
        "title": {
         "text": "Hyperparameter Importances"
        },
        "xaxis": {
         "title": {
          "text": "Hyperparameter Importance"
         }
        },
        "yaxis": {
         "title": {
          "text": "Hyperparameter"
         }
        }
       }
      }
     },
     "metadata": {},
     "output_type": "display_data"
    }
   ],
   "source": [
    "evaluator = MeanDecreaseImpurityImportanceEvaluator()\n",
    "plot_param_importances(study, evaluator=evaluator)"
   ]
  },
  {
   "cell_type": "code",
   "execution_count": 34,
   "metadata": {},
   "outputs": [
    {
     "data": {
      "application/vnd.plotly.v1+json": {
       "config": {
        "plotlyServerURL": "https://plot.ly"
       },
       "data": [
        {
         "mode": "markers",
         "name": "Objective Value",
         "type": "scatter",
         "x": [
          0,
          1,
          2,
          3,
          4,
          5,
          6,
          7,
          8,
          9,
          10,
          11,
          12,
          13,
          14,
          15,
          16,
          17,
          18,
          19,
          20,
          21,
          22,
          23,
          24,
          25,
          26,
          27,
          28,
          29,
          30,
          31,
          32,
          33,
          34,
          35,
          36,
          37,
          38,
          39,
          40,
          41,
          42,
          43,
          44,
          45,
          46,
          47,
          48,
          49,
          50,
          51,
          52,
          53,
          54,
          55,
          56,
          57,
          58,
          59,
          60,
          61,
          62,
          63,
          64,
          65,
          66,
          67,
          68,
          69,
          70,
          71,
          72,
          73,
          74,
          75,
          76,
          77,
          78,
          79,
          80,
          81,
          82,
          83,
          84,
          85,
          86,
          87,
          88,
          89,
          90,
          91,
          92,
          93,
          94,
          95,
          96,
          97,
          98,
          99,
          100,
          101,
          102,
          103,
          104,
          105,
          106,
          107,
          108,
          109,
          110,
          111,
          112,
          113,
          114,
          115,
          116,
          117,
          118,
          119,
          120,
          121,
          122,
          123,
          124,
          125,
          126,
          127,
          128,
          129,
          130,
          131,
          132,
          133,
          134,
          135,
          136,
          137,
          138,
          139,
          140,
          141,
          142,
          143,
          144,
          145,
          146,
          147,
          148,
          149,
          150,
          151,
          152,
          153,
          154,
          155,
          156,
          157,
          158,
          159,
          160,
          161,
          162,
          163,
          164,
          165,
          166,
          167,
          168,
          169,
          170,
          171,
          172,
          173,
          174,
          175,
          176,
          177,
          178,
          179,
          180,
          181,
          182,
          183,
          184,
          185,
          186,
          187,
          188,
          189,
          190,
          191,
          192,
          193,
          194,
          195,
          196,
          197,
          198,
          199,
          200,
          201,
          202,
          203,
          204,
          205,
          206,
          207,
          208,
          209,
          210,
          211,
          212,
          213,
          214,
          215,
          216,
          217,
          218,
          219,
          220,
          221,
          222,
          223,
          224,
          225,
          226,
          227,
          228,
          229,
          230,
          231,
          232,
          233,
          234,
          235,
          236,
          237,
          238,
          239,
          240,
          241,
          242,
          243,
          244,
          245,
          246,
          247,
          248,
          249,
          250,
          251,
          252,
          253,
          254,
          255,
          256,
          257,
          258,
          259,
          260,
          261,
          262,
          263,
          264,
          265,
          266,
          267,
          268,
          269,
          270,
          271,
          272,
          273,
          274,
          275,
          276,
          277,
          278,
          279,
          280,
          281,
          282,
          283,
          284,
          285,
          286,
          287,
          288,
          289,
          290,
          291,
          292,
          293,
          294,
          295,
          296,
          297,
          298,
          299
         ],
         "y": [
          0.6932463701087566,
          0.5017547510931719,
          0.5029589920394664,
          0.5003440688417984,
          0.7071750616661061,
          0.5002408481892588,
          0.5023052612400494,
          0.5063652735732705,
          0.5004816963785178,
          0.5075007007512053,
          0.5028557713869268,
          0.7206264365399708,
          0.7135468171880256,
          0.7065048281758044,
          0.6988519943379302,
          0.7076608574391747,
          0.7308457015921067,
          0.5009633927570355,
          0.717627256418881,
          0.5009977996412154,
          0.7172478697163359,
          0.7151192328175804,
          0.7360702222782823,
          0.7371328764435475,
          0.7030496692454311,
          0.7415207001906043,
          0.7211795044287477,
          0.6865850992263707,
          0.5025117025451284,
          0.7053372715551071,
          0.5030278058078259,
          0.7391992515977127,
          0.7215449812198678,
          0.7137877354524049,
          0.7254264771835408,
          0.78324682559704,
          0.7006379989348581,
          0.7182929700639085,
          0.7236498276152035,
          0.7102917227267631,
          0.5017891579773517,
          0.7412105126695818,
          0.7405795562843368,
          0.7274041021975557,
          0.720935117445902,
          0.7060847979033524,
          0.5010322065253952,
          0.7246654613745935,
          0.7136772620248907,
          0.7142971115035318,
          0.7137580936764212,
          0.7452395517995292,
          0.8416678229061554,
          0.7375177990806144,
          0.7211430653660724,
          0.7320582814777441,
          0.7401749775759614,
          0.7167188025563404,
          0.7292883521134657,
          0.7187068337257541,
          0.5004816963785178,
          0.7394921305639646,
          0.7284037938670255,
          0.7235747421235564,
          0.7372815408117501,
          0.7013921473819935,
          0.7513135931718803,
          0.7474769102477856,
          0.7170879232537279,
          0.7261290503419666,
          0.7179356219867699,
          0.7517004078372015,
          0.7508662336024219,
          0.7272429294203386,
          0.7502235045969279,
          0.7363424991590986,
          0.7490466980603206,
          0.7415423183652876,
          0.7332732789550398,
          0.7237428523377061,
          0.7498308386590424,
          0.7475263482453189,
          0.7263300608252046,
          0.7372614642897186,
          0.7350843354075569,
          0.7342834468550286,
          0.7365346101020294,
          0.5027181438502074,
          0.7463713350711964,
          0.726157185502859,
          0.5019267855140711,
          0.7425217933624846,
          0.762689483125911,
          0.7546889365399709,
          0.7402904263370333,
          0.7307349478641103,
          0.7514643948312592,
          0.7411827979594126,
          0.7242618286803453,
          0.7156265766902119,
          0.7574233027805808,
          0.7558280776992936,
          0.7603002718914676,
          0.7553647760399148,
          0.7603069290279179,
          0.7555549949545913,
          0.7610393892252494,
          0.7560088014351385,
          0.7583133268864223,
          0.7483415671599956,
          0.747001065141832,
          0.7603244828456105,
          0.7651587201479986,
          0.7629695733826662,
          0.76509004652988,
          0.7638942846731697,
          0.7628147073662968,
          0.7627516747953806,
          0.7796480126695817,
          0.7740946995178832,
          0.7680775241058415,
          0.7699068000896961,
          0.7743413289045857,
          0.7758321770938446,
          0.7571730294876107,
          0.7823831146989573,
          0.776994302892701,
          0.755729482004709,
          0.7761511590424935,
          0.7514741002354524,
          0.7345461935194528,
          0.7702313179728668,
          0.781186056452517,
          0.7814856275927795,
          0.7805130900325148,
          0.7677681424487051,
          0.7679340102589977,
          0.7851052878685951,
          0.7850579521246777,
          0.779851826157641,
          0.7776487694808836,
          0.7828329969727548,
          0.7790641818028927,
          0.7762940422132526,
          0.79193193603543,
          0.7768160668236349,
          0.7859433512725642,
          0.784765493609149,
          0.773983980827447,
          0.7788669553761632,
          0.785089240665994,
          0.7754535612176252,
          0.7844398545240499,
          0.7742316263033973,
          0.782588189539186,
          0.7819806382441978,
          0.7828221353290727,
          0.780980806424487,
          0.7909042843928692,
          0.8658223315394102,
          0.8358952096647606,
          0.8673857425159771,
          0.8677577012557462,
          0.8687042759838547,
          0.8622062801323018,
          0.8644369113689876,
          0.8673697653884964,
          0.8689336318533467,
          0.8654690828568226,
          0.8668907669021191,
          0.868557608756587,
          0.8677874831819711,
          0.8692237078147775,
          0.8691685236573607,
          0.8682729986545576,
          0.8686372491310685,
          0.8680003363605786,
          0.8679881783271668,
          0.8688905706917815,
          0.8696483630451844,
          0.8686806606682363,
          0.8687048015472587,
          0.8678254288597377,
          0.8018723021078596,
          0.7822542815898643,
          0.8003631643121426,
          0.7676613830025787,
          0.8485860942930822,
          0.7848778240273573,
          0.8089384670366633,
          0.7333752732929701,
          0.8690996748514408,
          0.8101607172889338,
          0.8415239586837089,
          0.786583942986882,
          0.8153461710954143,
          0.8438499621594349,
          0.8052269733153941,
          0.784879891243413,
          0.8257507498037897,
          0.811865995347012,
          0.8682181298351833,
          0.8635517925215832,
          0.8171631138580558,
          0.7906013846843817,
          0.8223259334006054,
          0.8674124060993385,
          0.7881534855364951,
          0.8223038597376388,
          0.7738500672721158,
          0.7942732158874313,
          0.8679721311245655,
          0.8667372323130396,
          0.815358188978585,
          0.8248044904137235,
          0.8568628069290278,
          0.7832799711290503,
          0.8182753812086556,
          0.8329586767014239,
          0.7950676925664313,
          0.778601160443996,
          0.863370368034533,
          0.8216307882049557,
          0.8688544119295885,
          0.8227829983742572,
          0.7938866464850319,
          0.8194329170871174,
          0.8297172819262248,
          0.8608335085211347,
          0.7863496117838322,
          0.8037246328063684,
          0.869121678439287,
          0.8672912111783833,
          0.8683580698508802,
          0.8237193771723288,
          0.8203751471577532,
          0.8642147381993497,
          0.7972096787756475,
          0.81964247673506,
          0.7776356303957843,
          0.8215129919273461,
          0.8691273194864895,
          0.8649221115035317,
          0.8673606205852674,
          0.800784561049445,
          0.8518522606233883,
          0.8197032669021191,
          0.7944989628882162,
          0.8260925061666106,
          0.8395465088574952,
          0.7939800916582577,
          0.8271615722054042,
          0.7760702222782823,
          0.8190682461598834,
          0.7413228080502299,
          0.8670013454423142,
          0.7900716167731809,
          0.8121671431774863,
          0.8239301631348805,
          0.7986571504652988,
          0.7778866745150801,
          0.8207040447359569,
          0.7659175636282094,
          0.8201135917703779,
          0.7890188431999103,
          0.8518367039466308,
          0.82576536046642,
          0.8408720498374257,
          0.7838974380535935,
          0.827868384908622,
          0.8013683568785739,
          0.8259383759390067,
          0.7793813768359681,
          0.7989091055611616,
          0.8333099983181971,
          0.8676851384684382,
          0.8285361657697051,
          0.8517262655566769,
          0.8670132582128041,
          0.7411853206637515,
          0.7733016593788542,
          0.7937179406323579,
          0.7814466307882049,
          0.7992471129050343,
          0.8265480995627312,
          0.8366826788317077,
          0.7983713140486601,
          0.8293302219979819,
          0.8676340537055724,
          0.7853527581567441,
          0.8285028800874538,
          0.7461280692902792,
          0.7724503517771051,
          0.8683122056844939,
          0.8266185250588631,
          0.8683999747729566,
          0.783051245935643,
          0.8030241268639982,
          0.7621139211234443,
          0.8030613717905595
         ]
        },
        {
         "mode": "lines",
         "name": "Best Value",
         "type": "scatter",
         "x": [
          0,
          1,
          2,
          3,
          4,
          5,
          6,
          7,
          8,
          9,
          10,
          11,
          12,
          13,
          14,
          15,
          16,
          17,
          18,
          19,
          20,
          21,
          22,
          23,
          24,
          25,
          26,
          27,
          28,
          29,
          30,
          31,
          32,
          33,
          34,
          35,
          36,
          37,
          38,
          39,
          40,
          41,
          42,
          43,
          44,
          45,
          46,
          47,
          48,
          49,
          50,
          51,
          52,
          53,
          54,
          55,
          56,
          57,
          58,
          59,
          60,
          61,
          62,
          63,
          64,
          65,
          66,
          67,
          68,
          69,
          70,
          71,
          72,
          73,
          74,
          75,
          76,
          77,
          78,
          79,
          80,
          81,
          82,
          83,
          84,
          85,
          86,
          87,
          88,
          89,
          90,
          91,
          92,
          93,
          94,
          95,
          96,
          97,
          98,
          99,
          100,
          101,
          102,
          103,
          104,
          105,
          106,
          107,
          108,
          109,
          110,
          111,
          112,
          113,
          114,
          115,
          116,
          117,
          118,
          119,
          120,
          121,
          122,
          123,
          124,
          125,
          126,
          127,
          128,
          129,
          130,
          131,
          132,
          133,
          134,
          135,
          136,
          137,
          138,
          139,
          140,
          141,
          142,
          143,
          144,
          145,
          146,
          147,
          148,
          149,
          150,
          151,
          152,
          153,
          154,
          155,
          156,
          157,
          158,
          159,
          160,
          161,
          162,
          163,
          164,
          165,
          166,
          167,
          168,
          169,
          170,
          171,
          172,
          173,
          174,
          175,
          176,
          177,
          178,
          179,
          180,
          181,
          182,
          183,
          184,
          185,
          186,
          187,
          188,
          189,
          190,
          191,
          192,
          193,
          194,
          195,
          196,
          197,
          198,
          199,
          200,
          201,
          202,
          203,
          204,
          205,
          206,
          207,
          208,
          209,
          210,
          211,
          212,
          213,
          214,
          215,
          216,
          217,
          218,
          219,
          220,
          221,
          222,
          223,
          224,
          225,
          226,
          227,
          228,
          229,
          230,
          231,
          232,
          233,
          234,
          235,
          236,
          237,
          238,
          239,
          240,
          241,
          242,
          243,
          244,
          245,
          246,
          247,
          248,
          249,
          250,
          251,
          252,
          253,
          254,
          255,
          256,
          257,
          258,
          259,
          260,
          261,
          262,
          263,
          264,
          265,
          266,
          267,
          268,
          269,
          270,
          271,
          272,
          273,
          274,
          275,
          276,
          277,
          278,
          279,
          280,
          281,
          282,
          283,
          284,
          285,
          286,
          287,
          288,
          289,
          290,
          291,
          292,
          293,
          294,
          295,
          296,
          297,
          298,
          299
         ],
         "y": [
          0.6932463701087566,
          0.6932463701087566,
          0.6932463701087566,
          0.6932463701087566,
          0.7071750616661061,
          0.7071750616661061,
          0.7071750616661061,
          0.7071750616661061,
          0.7071750616661061,
          0.7071750616661061,
          0.7071750616661061,
          0.7206264365399708,
          0.7206264365399708,
          0.7206264365399708,
          0.7206264365399708,
          0.7206264365399708,
          0.7308457015921067,
          0.7308457015921067,
          0.7308457015921067,
          0.7308457015921067,
          0.7308457015921067,
          0.7308457015921067,
          0.7360702222782823,
          0.7371328764435475,
          0.7371328764435475,
          0.7415207001906043,
          0.7415207001906043,
          0.7415207001906043,
          0.7415207001906043,
          0.7415207001906043,
          0.7415207001906043,
          0.7415207001906043,
          0.7415207001906043,
          0.7415207001906043,
          0.7415207001906043,
          0.78324682559704,
          0.78324682559704,
          0.78324682559704,
          0.78324682559704,
          0.78324682559704,
          0.78324682559704,
          0.78324682559704,
          0.78324682559704,
          0.78324682559704,
          0.78324682559704,
          0.78324682559704,
          0.78324682559704,
          0.78324682559704,
          0.78324682559704,
          0.78324682559704,
          0.78324682559704,
          0.78324682559704,
          0.8416678229061554,
          0.8416678229061554,
          0.8416678229061554,
          0.8416678229061554,
          0.8416678229061554,
          0.8416678229061554,
          0.8416678229061554,
          0.8416678229061554,
          0.8416678229061554,
          0.8416678229061554,
          0.8416678229061554,
          0.8416678229061554,
          0.8416678229061554,
          0.8416678229061554,
          0.8416678229061554,
          0.8416678229061554,
          0.8416678229061554,
          0.8416678229061554,
          0.8416678229061554,
          0.8416678229061554,
          0.8416678229061554,
          0.8416678229061554,
          0.8416678229061554,
          0.8416678229061554,
          0.8416678229061554,
          0.8416678229061554,
          0.8416678229061554,
          0.8416678229061554,
          0.8416678229061554,
          0.8416678229061554,
          0.8416678229061554,
          0.8416678229061554,
          0.8416678229061554,
          0.8416678229061554,
          0.8416678229061554,
          0.8416678229061554,
          0.8416678229061554,
          0.8416678229061554,
          0.8416678229061554,
          0.8416678229061554,
          0.8416678229061554,
          0.8416678229061554,
          0.8416678229061554,
          0.8416678229061554,
          0.8416678229061554,
          0.8416678229061554,
          0.8416678229061554,
          0.8416678229061554,
          0.8416678229061554,
          0.8416678229061554,
          0.8416678229061554,
          0.8416678229061554,
          0.8416678229061554,
          0.8416678229061554,
          0.8416678229061554,
          0.8416678229061554,
          0.8416678229061554,
          0.8416678229061554,
          0.8416678229061554,
          0.8416678229061554,
          0.8416678229061554,
          0.8416678229061554,
          0.8416678229061554,
          0.8416678229061554,
          0.8416678229061554,
          0.8416678229061554,
          0.8416678229061554,
          0.8416678229061554,
          0.8416678229061554,
          0.8416678229061554,
          0.8416678229061554,
          0.8416678229061554,
          0.8416678229061554,
          0.8416678229061554,
          0.8416678229061554,
          0.8416678229061554,
          0.8416678229061554,
          0.8416678229061554,
          0.8416678229061554,
          0.8416678229061554,
          0.8416678229061554,
          0.8416678229061554,
          0.8416678229061554,
          0.8416678229061554,
          0.8416678229061554,
          0.8416678229061554,
          0.8416678229061554,
          0.8416678229061554,
          0.8416678229061554,
          0.8416678229061554,
          0.8416678229061554,
          0.8416678229061554,
          0.8416678229061554,
          0.8416678229061554,
          0.8416678229061554,
          0.8416678229061554,
          0.8416678229061554,
          0.8416678229061554,
          0.8416678229061554,
          0.8416678229061554,
          0.8416678229061554,
          0.8416678229061554,
          0.8416678229061554,
          0.8416678229061554,
          0.8416678229061554,
          0.8416678229061554,
          0.8416678229061554,
          0.8658223315394102,
          0.8658223315394102,
          0.8673857425159771,
          0.8677577012557462,
          0.8687042759838547,
          0.8687042759838547,
          0.8687042759838547,
          0.8687042759838547,
          0.8689336318533467,
          0.8689336318533467,
          0.8689336318533467,
          0.8689336318533467,
          0.8689336318533467,
          0.8692237078147775,
          0.8692237078147775,
          0.8692237078147775,
          0.8692237078147775,
          0.8692237078147775,
          0.8692237078147775,
          0.8692237078147775,
          0.8696483630451844,
          0.8696483630451844,
          0.8696483630451844,
          0.8696483630451844,
          0.8696483630451844,
          0.8696483630451844,
          0.8696483630451844,
          0.8696483630451844,
          0.8696483630451844,
          0.8696483630451844,
          0.8696483630451844,
          0.8696483630451844,
          0.8696483630451844,
          0.8696483630451844,
          0.8696483630451844,
          0.8696483630451844,
          0.8696483630451844,
          0.8696483630451844,
          0.8696483630451844,
          0.8696483630451844,
          0.8696483630451844,
          0.8696483630451844,
          0.8696483630451844,
          0.8696483630451844,
          0.8696483630451844,
          0.8696483630451844,
          0.8696483630451844,
          0.8696483630451844,
          0.8696483630451844,
          0.8696483630451844,
          0.8696483630451844,
          0.8696483630451844,
          0.8696483630451844,
          0.8696483630451844,
          0.8696483630451844,
          0.8696483630451844,
          0.8696483630451844,
          0.8696483630451844,
          0.8696483630451844,
          0.8696483630451844,
          0.8696483630451844,
          0.8696483630451844,
          0.8696483630451844,
          0.8696483630451844,
          0.8696483630451844,
          0.8696483630451844,
          0.8696483630451844,
          0.8696483630451844,
          0.8696483630451844,
          0.8696483630451844,
          0.8696483630451844,
          0.8696483630451844,
          0.8696483630451844,
          0.8696483630451844,
          0.8696483630451844,
          0.8696483630451844,
          0.8696483630451844,
          0.8696483630451844,
          0.8696483630451844,
          0.8696483630451844,
          0.8696483630451844,
          0.8696483630451844,
          0.8696483630451844,
          0.8696483630451844,
          0.8696483630451844,
          0.8696483630451844,
          0.8696483630451844,
          0.8696483630451844,
          0.8696483630451844,
          0.8696483630451844,
          0.8696483630451844,
          0.8696483630451844,
          0.8696483630451844,
          0.8696483630451844,
          0.8696483630451844,
          0.8696483630451844,
          0.8696483630451844,
          0.8696483630451844,
          0.8696483630451844,
          0.8696483630451844,
          0.8696483630451844,
          0.8696483630451844,
          0.8696483630451844,
          0.8696483630451844,
          0.8696483630451844,
          0.8696483630451844,
          0.8696483630451844,
          0.8696483630451844,
          0.8696483630451844,
          0.8696483630451844,
          0.8696483630451844,
          0.8696483630451844,
          0.8696483630451844,
          0.8696483630451844,
          0.8696483630451844,
          0.8696483630451844,
          0.8696483630451844,
          0.8696483630451844,
          0.8696483630451844,
          0.8696483630451844,
          0.8696483630451844,
          0.8696483630451844,
          0.8696483630451844,
          0.8696483630451844,
          0.8696483630451844,
          0.8696483630451844,
          0.8696483630451844,
          0.8696483630451844,
          0.8696483630451844,
          0.8696483630451844,
          0.8696483630451844,
          0.8696483630451844,
          0.8696483630451844,
          0.8696483630451844,
          0.8696483630451844,
          0.8696483630451844,
          0.8696483630451844,
          0.8696483630451844,
          0.8696483630451844,
          0.8696483630451844,
          0.8696483630451844
         ]
        },
        {
         "marker": {
          "color": "#cccccc"
         },
         "mode": "markers",
         "name": "Infeasible Trial",
         "showlegend": false,
         "type": "scatter",
         "x": [],
         "y": []
        }
       ],
       "layout": {
        "template": {
         "data": {
          "bar": [
           {
            "error_x": {
             "color": "#2a3f5f"
            },
            "error_y": {
             "color": "#2a3f5f"
            },
            "marker": {
             "line": {
              "color": "#E5ECF6",
              "width": 0.5
             },
             "pattern": {
              "fillmode": "overlay",
              "size": 10,
              "solidity": 0.2
             }
            },
            "type": "bar"
           }
          ],
          "barpolar": [
           {
            "marker": {
             "line": {
              "color": "#E5ECF6",
              "width": 0.5
             },
             "pattern": {
              "fillmode": "overlay",
              "size": 10,
              "solidity": 0.2
             }
            },
            "type": "barpolar"
           }
          ],
          "carpet": [
           {
            "aaxis": {
             "endlinecolor": "#2a3f5f",
             "gridcolor": "white",
             "linecolor": "white",
             "minorgridcolor": "white",
             "startlinecolor": "#2a3f5f"
            },
            "baxis": {
             "endlinecolor": "#2a3f5f",
             "gridcolor": "white",
             "linecolor": "white",
             "minorgridcolor": "white",
             "startlinecolor": "#2a3f5f"
            },
            "type": "carpet"
           }
          ],
          "choropleth": [
           {
            "colorbar": {
             "outlinewidth": 0,
             "ticks": ""
            },
            "type": "choropleth"
           }
          ],
          "contour": [
           {
            "colorbar": {
             "outlinewidth": 0,
             "ticks": ""
            },
            "colorscale": [
             [
              0,
              "#0d0887"
             ],
             [
              0.1111111111111111,
              "#46039f"
             ],
             [
              0.2222222222222222,
              "#7201a8"
             ],
             [
              0.3333333333333333,
              "#9c179e"
             ],
             [
              0.4444444444444444,
              "#bd3786"
             ],
             [
              0.5555555555555556,
              "#d8576b"
             ],
             [
              0.6666666666666666,
              "#ed7953"
             ],
             [
              0.7777777777777778,
              "#fb9f3a"
             ],
             [
              0.8888888888888888,
              "#fdca26"
             ],
             [
              1,
              "#f0f921"
             ]
            ],
            "type": "contour"
           }
          ],
          "contourcarpet": [
           {
            "colorbar": {
             "outlinewidth": 0,
             "ticks": ""
            },
            "type": "contourcarpet"
           }
          ],
          "heatmap": [
           {
            "colorbar": {
             "outlinewidth": 0,
             "ticks": ""
            },
            "colorscale": [
             [
              0,
              "#0d0887"
             ],
             [
              0.1111111111111111,
              "#46039f"
             ],
             [
              0.2222222222222222,
              "#7201a8"
             ],
             [
              0.3333333333333333,
              "#9c179e"
             ],
             [
              0.4444444444444444,
              "#bd3786"
             ],
             [
              0.5555555555555556,
              "#d8576b"
             ],
             [
              0.6666666666666666,
              "#ed7953"
             ],
             [
              0.7777777777777778,
              "#fb9f3a"
             ],
             [
              0.8888888888888888,
              "#fdca26"
             ],
             [
              1,
              "#f0f921"
             ]
            ],
            "type": "heatmap"
           }
          ],
          "heatmapgl": [
           {
            "colorbar": {
             "outlinewidth": 0,
             "ticks": ""
            },
            "colorscale": [
             [
              0,
              "#0d0887"
             ],
             [
              0.1111111111111111,
              "#46039f"
             ],
             [
              0.2222222222222222,
              "#7201a8"
             ],
             [
              0.3333333333333333,
              "#9c179e"
             ],
             [
              0.4444444444444444,
              "#bd3786"
             ],
             [
              0.5555555555555556,
              "#d8576b"
             ],
             [
              0.6666666666666666,
              "#ed7953"
             ],
             [
              0.7777777777777778,
              "#fb9f3a"
             ],
             [
              0.8888888888888888,
              "#fdca26"
             ],
             [
              1,
              "#f0f921"
             ]
            ],
            "type": "heatmapgl"
           }
          ],
          "histogram": [
           {
            "marker": {
             "pattern": {
              "fillmode": "overlay",
              "size": 10,
              "solidity": 0.2
             }
            },
            "type": "histogram"
           }
          ],
          "histogram2d": [
           {
            "colorbar": {
             "outlinewidth": 0,
             "ticks": ""
            },
            "colorscale": [
             [
              0,
              "#0d0887"
             ],
             [
              0.1111111111111111,
              "#46039f"
             ],
             [
              0.2222222222222222,
              "#7201a8"
             ],
             [
              0.3333333333333333,
              "#9c179e"
             ],
             [
              0.4444444444444444,
              "#bd3786"
             ],
             [
              0.5555555555555556,
              "#d8576b"
             ],
             [
              0.6666666666666666,
              "#ed7953"
             ],
             [
              0.7777777777777778,
              "#fb9f3a"
             ],
             [
              0.8888888888888888,
              "#fdca26"
             ],
             [
              1,
              "#f0f921"
             ]
            ],
            "type": "histogram2d"
           }
          ],
          "histogram2dcontour": [
           {
            "colorbar": {
             "outlinewidth": 0,
             "ticks": ""
            },
            "colorscale": [
             [
              0,
              "#0d0887"
             ],
             [
              0.1111111111111111,
              "#46039f"
             ],
             [
              0.2222222222222222,
              "#7201a8"
             ],
             [
              0.3333333333333333,
              "#9c179e"
             ],
             [
              0.4444444444444444,
              "#bd3786"
             ],
             [
              0.5555555555555556,
              "#d8576b"
             ],
             [
              0.6666666666666666,
              "#ed7953"
             ],
             [
              0.7777777777777778,
              "#fb9f3a"
             ],
             [
              0.8888888888888888,
              "#fdca26"
             ],
             [
              1,
              "#f0f921"
             ]
            ],
            "type": "histogram2dcontour"
           }
          ],
          "mesh3d": [
           {
            "colorbar": {
             "outlinewidth": 0,
             "ticks": ""
            },
            "type": "mesh3d"
           }
          ],
          "parcoords": [
           {
            "line": {
             "colorbar": {
              "outlinewidth": 0,
              "ticks": ""
             }
            },
            "type": "parcoords"
           }
          ],
          "pie": [
           {
            "automargin": true,
            "type": "pie"
           }
          ],
          "scatter": [
           {
            "fillpattern": {
             "fillmode": "overlay",
             "size": 10,
             "solidity": 0.2
            },
            "type": "scatter"
           }
          ],
          "scatter3d": [
           {
            "line": {
             "colorbar": {
              "outlinewidth": 0,
              "ticks": ""
             }
            },
            "marker": {
             "colorbar": {
              "outlinewidth": 0,
              "ticks": ""
             }
            },
            "type": "scatter3d"
           }
          ],
          "scattercarpet": [
           {
            "marker": {
             "colorbar": {
              "outlinewidth": 0,
              "ticks": ""
             }
            },
            "type": "scattercarpet"
           }
          ],
          "scattergeo": [
           {
            "marker": {
             "colorbar": {
              "outlinewidth": 0,
              "ticks": ""
             }
            },
            "type": "scattergeo"
           }
          ],
          "scattergl": [
           {
            "marker": {
             "colorbar": {
              "outlinewidth": 0,
              "ticks": ""
             }
            },
            "type": "scattergl"
           }
          ],
          "scattermapbox": [
           {
            "marker": {
             "colorbar": {
              "outlinewidth": 0,
              "ticks": ""
             }
            },
            "type": "scattermapbox"
           }
          ],
          "scatterpolar": [
           {
            "marker": {
             "colorbar": {
              "outlinewidth": 0,
              "ticks": ""
             }
            },
            "type": "scatterpolar"
           }
          ],
          "scatterpolargl": [
           {
            "marker": {
             "colorbar": {
              "outlinewidth": 0,
              "ticks": ""
             }
            },
            "type": "scatterpolargl"
           }
          ],
          "scatterternary": [
           {
            "marker": {
             "colorbar": {
              "outlinewidth": 0,
              "ticks": ""
             }
            },
            "type": "scatterternary"
           }
          ],
          "surface": [
           {
            "colorbar": {
             "outlinewidth": 0,
             "ticks": ""
            },
            "colorscale": [
             [
              0,
              "#0d0887"
             ],
             [
              0.1111111111111111,
              "#46039f"
             ],
             [
              0.2222222222222222,
              "#7201a8"
             ],
             [
              0.3333333333333333,
              "#9c179e"
             ],
             [
              0.4444444444444444,
              "#bd3786"
             ],
             [
              0.5555555555555556,
              "#d8576b"
             ],
             [
              0.6666666666666666,
              "#ed7953"
             ],
             [
              0.7777777777777778,
              "#fb9f3a"
             ],
             [
              0.8888888888888888,
              "#fdca26"
             ],
             [
              1,
              "#f0f921"
             ]
            ],
            "type": "surface"
           }
          ],
          "table": [
           {
            "cells": {
             "fill": {
              "color": "#EBF0F8"
             },
             "line": {
              "color": "white"
             }
            },
            "header": {
             "fill": {
              "color": "#C8D4E3"
             },
             "line": {
              "color": "white"
             }
            },
            "type": "table"
           }
          ]
         },
         "layout": {
          "annotationdefaults": {
           "arrowcolor": "#2a3f5f",
           "arrowhead": 0,
           "arrowwidth": 1
          },
          "autotypenumbers": "strict",
          "coloraxis": {
           "colorbar": {
            "outlinewidth": 0,
            "ticks": ""
           }
          },
          "colorscale": {
           "diverging": [
            [
             0,
             "#8e0152"
            ],
            [
             0.1,
             "#c51b7d"
            ],
            [
             0.2,
             "#de77ae"
            ],
            [
             0.3,
             "#f1b6da"
            ],
            [
             0.4,
             "#fde0ef"
            ],
            [
             0.5,
             "#f7f7f7"
            ],
            [
             0.6,
             "#e6f5d0"
            ],
            [
             0.7,
             "#b8e186"
            ],
            [
             0.8,
             "#7fbc41"
            ],
            [
             0.9,
             "#4d9221"
            ],
            [
             1,
             "#276419"
            ]
           ],
           "sequential": [
            [
             0,
             "#0d0887"
            ],
            [
             0.1111111111111111,
             "#46039f"
            ],
            [
             0.2222222222222222,
             "#7201a8"
            ],
            [
             0.3333333333333333,
             "#9c179e"
            ],
            [
             0.4444444444444444,
             "#bd3786"
            ],
            [
             0.5555555555555556,
             "#d8576b"
            ],
            [
             0.6666666666666666,
             "#ed7953"
            ],
            [
             0.7777777777777778,
             "#fb9f3a"
            ],
            [
             0.8888888888888888,
             "#fdca26"
            ],
            [
             1,
             "#f0f921"
            ]
           ],
           "sequentialminus": [
            [
             0,
             "#0d0887"
            ],
            [
             0.1111111111111111,
             "#46039f"
            ],
            [
             0.2222222222222222,
             "#7201a8"
            ],
            [
             0.3333333333333333,
             "#9c179e"
            ],
            [
             0.4444444444444444,
             "#bd3786"
            ],
            [
             0.5555555555555556,
             "#d8576b"
            ],
            [
             0.6666666666666666,
             "#ed7953"
            ],
            [
             0.7777777777777778,
             "#fb9f3a"
            ],
            [
             0.8888888888888888,
             "#fdca26"
            ],
            [
             1,
             "#f0f921"
            ]
           ]
          },
          "colorway": [
           "#636efa",
           "#EF553B",
           "#00cc96",
           "#ab63fa",
           "#FFA15A",
           "#19d3f3",
           "#FF6692",
           "#B6E880",
           "#FF97FF",
           "#FECB52"
          ],
          "font": {
           "color": "#2a3f5f"
          },
          "geo": {
           "bgcolor": "white",
           "lakecolor": "white",
           "landcolor": "#E5ECF6",
           "showlakes": true,
           "showland": true,
           "subunitcolor": "white"
          },
          "hoverlabel": {
           "align": "left"
          },
          "hovermode": "closest",
          "mapbox": {
           "style": "light"
          },
          "paper_bgcolor": "white",
          "plot_bgcolor": "#E5ECF6",
          "polar": {
           "angularaxis": {
            "gridcolor": "white",
            "linecolor": "white",
            "ticks": ""
           },
           "bgcolor": "#E5ECF6",
           "radialaxis": {
            "gridcolor": "white",
            "linecolor": "white",
            "ticks": ""
           }
          },
          "scene": {
           "xaxis": {
            "backgroundcolor": "#E5ECF6",
            "gridcolor": "white",
            "gridwidth": 2,
            "linecolor": "white",
            "showbackground": true,
            "ticks": "",
            "zerolinecolor": "white"
           },
           "yaxis": {
            "backgroundcolor": "#E5ECF6",
            "gridcolor": "white",
            "gridwidth": 2,
            "linecolor": "white",
            "showbackground": true,
            "ticks": "",
            "zerolinecolor": "white"
           },
           "zaxis": {
            "backgroundcolor": "#E5ECF6",
            "gridcolor": "white",
            "gridwidth": 2,
            "linecolor": "white",
            "showbackground": true,
            "ticks": "",
            "zerolinecolor": "white"
           }
          },
          "shapedefaults": {
           "line": {
            "color": "#2a3f5f"
           }
          },
          "ternary": {
           "aaxis": {
            "gridcolor": "white",
            "linecolor": "white",
            "ticks": ""
           },
           "baxis": {
            "gridcolor": "white",
            "linecolor": "white",
            "ticks": ""
           },
           "bgcolor": "#E5ECF6",
           "caxis": {
            "gridcolor": "white",
            "linecolor": "white",
            "ticks": ""
           }
          },
          "title": {
           "x": 0.05
          },
          "xaxis": {
           "automargin": true,
           "gridcolor": "white",
           "linecolor": "white",
           "ticks": "",
           "title": {
            "standoff": 15
           },
           "zerolinecolor": "white",
           "zerolinewidth": 2
          },
          "yaxis": {
           "automargin": true,
           "gridcolor": "white",
           "linecolor": "white",
           "ticks": "",
           "title": {
            "standoff": 15
           },
           "zerolinecolor": "white",
           "zerolinewidth": 2
          }
         }
        },
        "title": {
         "text": "Optimization History Plot"
        },
        "xaxis": {
         "title": {
          "text": "Trial"
         }
        },
        "yaxis": {
         "title": {
          "text": "Objective Value"
         }
        }
       }
      }
     },
     "metadata": {},
     "output_type": "display_data"
    }
   ],
   "source": [
    "plot_optimization_history(study)"
   ]
  },
  {
   "cell_type": "code",
   "execution_count": 35,
   "metadata": {},
   "outputs": [
    {
     "name": "stdout",
     "output_type": "stream",
     "text": [
      "RandomForestClassifier\n",
      "training time: 24.523168802261353\n",
      "train acc: 0.9990972222222222\n",
      "test acc: 0.7390249747729566\n",
      "eval time: 20.546581745147705\n"
     ]
    },
    {
     "data": {
      "text/plain": [
       "(0.9990972222222222, 0.7390249747729566)"
      ]
     },
     "execution_count": 35,
     "metadata": {},
     "output_type": "execute_result"
    }
   ],
   "source": [
    "rfc = RandomForestClassifier(**study.best_params)\n",
    "train(rfc, verbose=True, test_ratio=0.991)"
   ]
  },
  {
   "cell_type": "code",
   "execution_count": 36,
   "metadata": {},
   "outputs": [],
   "source": [
    "import pickle\n",
    "pickle.dump(study, open('rfc_study.pickle', 'wb'))"
   ]
  },
  {
   "cell_type": "code",
   "execution_count": 83,
   "metadata": {},
   "outputs": [],
   "source": [
    "def objective(trial: optuna.trial.Trial):\n",
    "    params = {\n",
    "        'ccp_alpha': trial.suggest_float('ccp_alpha', 0, 0.3),\n",
    "        'n_estimators': trial.suggest_int('n_estimators', 100, 200, step=5),\n",
    "        'max_depth': trial.suggest_int('max_depth', 500, 600),\n",
    "        \"min_samples_split\": trial.suggest_float(\"min_samples_split\", 0, 0.2),\n",
    "        'min_samples_leaf': trial.suggest_int(\"min_samples_leaf\", 300, 600),\n",
    "        'criterion': trial.suggest_categorical('criterion', ['gini', 'entropy', 'log_loss']),\n",
    "        'bootstrap': trial.suggest_categorical('bootstrap', [True, False]),\n",
    "        'max_bins': trial.suggest_int('max_bins', 250, 300),\n",
    "        'max_features': trial.suggest_categorical('max_features', ['log2', 'sqrt'])\n",
    "    }\n",
    "    etc_model = ExtraTreesClassifier(**params)\n",
    "    return np.array(train(etc_model, test_ratio=0.991)).mean()"
   ]
  },
  {
   "cell_type": "code",
   "execution_count": 64,
   "metadata": {},
   "outputs": [
    {
     "name": "stderr",
     "output_type": "stream",
     "text": [
      "[I 2024-05-26 22:32:13,609] A new study created in memory with name: no-name-2fb752e3-d701-4803-a4ff-430a2d363089\n"
     ]
    }
   ],
   "source": [
    "study = optuna.create_study(direction='maximize')"
   ]
  },
  {
   "cell_type": "code",
   "execution_count": 87,
   "metadata": {},
   "outputs": [
    {
     "name": "stdout",
     "output_type": "stream",
     "text": [
      "Best trial parameters: {'ccp_alpha': 0.0002478288667819229, 'n_estimators': 175, 'max_depth': 559, 'min_samples_split': 0.11783786182405333, 'min_samples_leaf': 408, 'criterion': 'entropy', 'bootstrap': False, 'max_bins': 272, 'max_features': 'sqrt'}\n",
      "Best score: 0.7478363605785402\n"
     ]
    }
   ],
   "source": [
    "print('Best trial parameters:', study.best_trial.params)\n",
    "print('Best score:', study.best_value)"
   ]
  },
  {
   "cell_type": "code",
   "execution_count": 84,
   "metadata": {},
   "outputs": [
    {
     "name": "stderr",
     "output_type": "stream",
     "text": [
      "[I 2024-05-26 23:46:26,979] Trial 300 finished with value: 0.6722950653100124 and parameters: {'ccp_alpha': 0.010086083510842307, 'n_estimators': 170, 'max_depth': 515, 'min_samples_split': 0.11065434780125864, 'min_samples_leaf': 428, 'criterion': 'entropy', 'bootstrap': False, 'max_bins': 251, 'max_features': 'sqrt'}. Best is trial 266 with value: 0.7478363605785402.\n",
      "[I 2024-05-26 23:46:45,984] Trial 301 finished with value: 0.7446515865007288 and parameters: {'ccp_alpha': 0.00017782387995331152, 'n_estimators': 160, 'max_depth': 527, 'min_samples_split': 0.10604190380361564, 'min_samples_leaf': 438, 'criterion': 'entropy', 'bootstrap': False, 'max_bins': 251, 'max_features': 'sqrt'}. Best is trial 266 with value: 0.7478363605785402.\n",
      "[I 2024-05-26 23:46:51,389] Trial 302 finished with value: 0.559011660500056 and parameters: {'ccp_alpha': 0.009119011722219676, 'n_estimators': 160, 'max_depth': 525, 'min_samples_split': 0.10532227108147459, 'min_samples_leaf': 416, 'criterion': 'entropy', 'bootstrap': False, 'max_bins': 251, 'max_features': 'sqrt'}. Best is trial 266 with value: 0.7478363605785402.\n",
      "[I 2024-05-26 23:46:58,650] Trial 303 finished with value: 0.6945807755914339 and parameters: {'ccp_alpha': 0.005524604498800055, 'n_estimators': 160, 'max_depth': 520, 'min_samples_split': 0.10246591505179148, 'min_samples_leaf': 431, 'criterion': 'entropy', 'bootstrap': True, 'max_bins': 252, 'max_features': 'sqrt'}. Best is trial 266 with value: 0.7478363605785402.\n",
      "[I 2024-05-26 23:47:16,555] Trial 304 finished with value: 0.7346685446798968 and parameters: {'ccp_alpha': 0.0002476881153805854, 'n_estimators': 155, 'max_depth': 517, 'min_samples_split': 0.1083615459866247, 'min_samples_leaf': 424, 'criterion': 'entropy', 'bootstrap': False, 'max_bins': 251, 'max_features': 'sqrt'}. Best is trial 266 with value: 0.7478363605785402.\n",
      "[I 2024-05-26 23:47:21,384] Trial 305 finished with value: 0.5013762753671936 and parameters: {'ccp_alpha': 0.015631971785681868, 'n_estimators': 175, 'max_depth': 520, 'min_samples_split': 0.10566090571021927, 'min_samples_leaf': 437, 'criterion': 'entropy', 'bootstrap': False, 'max_bins': 253, 'max_features': 'sqrt'}. Best is trial 266 with value: 0.7478363605785402.\n",
      "[I 2024-05-26 23:47:26,704] Trial 306 finished with value: 0.7045397115708039 and parameters: {'ccp_alpha': 0.005591163845247332, 'n_estimators': 110, 'max_depth': 528, 'min_samples_split': 0.11123908871829956, 'min_samples_leaf': 410, 'criterion': 'entropy', 'bootstrap': False, 'max_bins': 251, 'max_features': 'sqrt'}. Best is trial 266 with value: 0.7478363605785402.\n",
      "[I 2024-05-26 23:47:32,835] Trial 307 finished with value: 0.6113961416638636 and parameters: {'ccp_alpha': 0.010268149976327126, 'n_estimators': 195, 'max_depth': 526, 'min_samples_split': 0.10290674233578932, 'min_samples_leaf': 419, 'criterion': 'entropy', 'bootstrap': False, 'max_bins': 251, 'max_features': 'sqrt'}. Best is trial 266 with value: 0.7478363605785402.\n",
      "[I 2024-05-26 23:47:40,549] Trial 308 finished with value: 0.704465431943043 and parameters: {'ccp_alpha': 0.006429919612845006, 'n_estimators': 175, 'max_depth': 522, 'min_samples_split': 0.09717742107858733, 'min_samples_leaf': 451, 'criterion': 'entropy', 'bootstrap': False, 'max_bins': 251, 'max_features': 'sqrt'}. Best is trial 266 with value: 0.7478363605785402.\n",
      "[I 2024-05-26 23:47:47,836] Trial 309 finished with value: 0.6977078077699294 and parameters: {'ccp_alpha': 0.0056216523331419355, 'n_estimators': 155, 'max_depth': 527, 'min_samples_split': 0.12109741794314066, 'min_samples_leaf': 439, 'criterion': 'entropy', 'bootstrap': False, 'max_bins': 252, 'max_features': 'sqrt'}. Best is trial 266 with value: 0.7478363605785402.\n",
      "[I 2024-05-26 23:48:05,122] Trial 310 finished with value: 0.7442550664312142 and parameters: {'ccp_alpha': 7.59785055619792e-05, 'n_estimators': 140, 'max_depth': 521, 'min_samples_split': 0.11243938858040187, 'min_samples_leaf': 426, 'criterion': 'entropy', 'bootstrap': False, 'max_bins': 251, 'max_features': 'sqrt'}. Best is trial 266 with value: 0.7478363605785402.\n",
      "[I 2024-05-26 23:48:11,103] Trial 311 finished with value: 0.6587494393990359 and parameters: {'ccp_alpha': 0.012809275741209443, 'n_estimators': 180, 'max_depth': 523, 'min_samples_split': 0.10970062047100189, 'min_samples_leaf': 432, 'criterion': 'entropy', 'bootstrap': False, 'max_bins': 253, 'max_features': 'sqrt'}. Best is trial 266 with value: 0.7478363605785402.\n",
      "[I 2024-05-26 23:48:27,552] Trial 312 finished with value: 0.7373884754456778 and parameters: {'ccp_alpha': 1.647676969796603e-05, 'n_estimators': 140, 'max_depth': 516, 'min_samples_split': 0.11335001599392255, 'min_samples_leaf': 431, 'criterion': 'entropy', 'bootstrap': False, 'max_bins': 251, 'max_features': 'sqrt'}. Best is trial 266 with value: 0.7478363605785402.\n",
      "[I 2024-05-26 23:48:33,900] Trial 313 finished with value: 0.6930861083081064 and parameters: {'ccp_alpha': 0.00637784729548217, 'n_estimators': 145, 'max_depth': 520, 'min_samples_split': 0.10283416628003655, 'min_samples_leaf': 442, 'criterion': 'entropy', 'bootstrap': False, 'max_bins': 254, 'max_features': 'sqrt'}. Best is trial 266 with value: 0.7478363605785402.\n",
      "[I 2024-05-26 23:48:38,034] Trial 314 finished with value: 0.5851390991142504 and parameters: {'ccp_alpha': 0.011678380569441026, 'n_estimators': 135, 'max_depth': 513, 'min_samples_split': 0.10751627859767833, 'min_samples_leaf': 426, 'criterion': 'entropy', 'bootstrap': False, 'max_bins': 252, 'max_features': 'sqrt'}. Best is trial 266 with value: 0.7478363605785402.\n",
      "[I 2024-05-26 23:48:52,451] Trial 315 finished with value: 0.7425616661060657 and parameters: {'ccp_alpha': 0.00011935976086844345, 'n_estimators': 125, 'max_depth': 521, 'min_samples_split': 0.11400327547494488, 'min_samples_leaf': 436, 'criterion': 'entropy', 'bootstrap': False, 'max_bins': 251, 'max_features': 'sqrt'}. Best is trial 266 with value: 0.7478363605785402.\n",
      "[I 2024-05-26 23:48:55,600] Trial 316 finished with value: 0.5003096619576186 and parameters: {'ccp_alpha': 0.017212912288599835, 'n_estimators': 110, 'max_depth': 532, 'min_samples_split': 0.11075368859116788, 'min_samples_leaf': 449, 'criterion': 'entropy', 'bootstrap': False, 'max_bins': 251, 'max_features': 'sqrt'}. Best is trial 266 with value: 0.7478363605785402.\n",
      "[I 2024-05-26 23:49:03,710] Trial 317 finished with value: 0.7099788022760398 and parameters: {'ccp_alpha': 0.0049240281516482725, 'n_estimators': 160, 'max_depth': 522, 'min_samples_split': 0.1143368531296034, 'min_samples_leaf': 440, 'criterion': 'entropy', 'bootstrap': False, 'max_bins': 252, 'max_features': 'sqrt'}. Best is trial 266 with value: 0.7478363605785402.\n",
      "[I 2024-05-26 23:49:18,984] Trial 318 finished with value: 0.7395138538513286 and parameters: {'ccp_alpha': 1.1655348519241308e-05, 'n_estimators': 130, 'max_depth': 520, 'min_samples_split': 0.10521993679391409, 'min_samples_leaf': 434, 'criterion': 'entropy', 'bootstrap': False, 'max_bins': 251, 'max_features': 'sqrt'}. Best is trial 266 with value: 0.7478363605785402.\n",
      "[I 2024-05-26 23:49:22,834] Trial 319 finished with value: 0.6307678481331989 and parameters: {'ccp_alpha': 0.010468412776764802, 'n_estimators': 120, 'max_depth': 525, 'min_samples_split': 0.11336088313252776, 'min_samples_leaf': 422, 'criterion': 'entropy', 'bootstrap': False, 'max_bins': 266, 'max_features': 'sqrt'}. Best is trial 266 with value: 0.7478363605785402.\n",
      "[I 2024-05-26 23:49:40,673] Trial 320 finished with value: 0.7420231037672385 and parameters: {'ccp_alpha': 0.00012557313151821673, 'n_estimators': 150, 'max_depth': 517, 'min_samples_split': 0.10059983756197775, 'min_samples_leaf': 401, 'criterion': 'entropy', 'bootstrap': False, 'max_bins': 251, 'max_features': 'sqrt'}. Best is trial 266 with value: 0.7478363605785402.\n",
      "[I 2024-05-26 23:49:47,370] Trial 321 finished with value: 0.7103266902119072 and parameters: {'ccp_alpha': 0.006154466995648709, 'n_estimators': 150, 'max_depth': 518, 'min_samples_split': 0.0982826283919906, 'min_samples_leaf': 403, 'criterion': 'entropy', 'bootstrap': False, 'max_bins': 251, 'max_features': 'sqrt'}. Best is trial 266 with value: 0.7478363605785402.\n",
      "[I 2024-05-26 23:49:51,333] Trial 322 finished with value: 0.6224751934073327 and parameters: {'ccp_alpha': 0.011367390609543754, 'n_estimators': 125, 'max_depth': 515, 'min_samples_split': 0.09992609911786846, 'min_samples_leaf': 413, 'criterion': 'entropy', 'bootstrap': False, 'max_bins': 253, 'max_features': 'sqrt'}. Best is trial 266 with value: 0.7478363605785402.\n",
      "[I 2024-05-26 23:49:55,431] Trial 323 finished with value: 0.5025117025451284 and parameters: {'ccp_alpha': 0.01727062136113449, 'n_estimators': 135, 'max_depth': 517, 'min_samples_split': 0.10249117044755139, 'min_samples_leaf': 410, 'criterion': 'entropy', 'bootstrap': False, 'max_bins': 251, 'max_features': 'sqrt'}. Best is trial 266 with value: 0.7478363605785402.\n",
      "[I 2024-05-26 23:50:01,858] Trial 324 finished with value: 0.6920032024330083 and parameters: {'ccp_alpha': 0.006381256152566159, 'n_estimators': 155, 'max_depth': 519, 'min_samples_split': 0.10861081892208595, 'min_samples_leaf': 424, 'criterion': 'entropy', 'bootstrap': False, 'max_bins': 252, 'max_features': 'sqrt'}. Best is trial 266 with value: 0.7478363605785402.\n",
      "[I 2024-05-26 23:50:08,991] Trial 325 finished with value: 0.6932458795829128 and parameters: {'ccp_alpha': 0.006420939277108655, 'n_estimators': 160, 'max_depth': 523, 'min_samples_split': 0.09492065598014462, 'min_samples_leaf': 352, 'criterion': 'entropy', 'bootstrap': False, 'max_bins': 251, 'max_features': 'sqrt'}. Best is trial 266 with value: 0.7478363605785402.\n",
      "[I 2024-05-26 23:50:12,659] Trial 326 finished with value: 0.5002064413050791 and parameters: {'ccp_alpha': 0.25098391387299035, 'n_estimators': 150, 'max_depth': 521, 'min_samples_split': 0.10753977871285371, 'min_samples_leaf': 399, 'criterion': 'gini', 'bootstrap': True, 'max_bins': 254, 'max_features': 'sqrt'}. Best is trial 266 with value: 0.7478363605785402.\n",
      "[I 2024-05-26 23:50:29,292] Trial 327 finished with value: 0.7421977660051575 and parameters: {'ccp_alpha': 1.8930229100882345e-05, 'n_estimators': 140, 'max_depth': 513, 'min_samples_split': 0.10405443905388467, 'min_samples_leaf': 415, 'criterion': 'entropy', 'bootstrap': False, 'max_bins': 272, 'max_features': 'sqrt'}. Best is trial 266 with value: 0.7478363605785402.\n",
      "[I 2024-05-26 23:50:44,856] Trial 328 finished with value: 0.7398939763426393 and parameters: {'ccp_alpha': 2.9499894843506717e-05, 'n_estimators': 130, 'max_depth': 508, 'min_samples_split': 0.10432229751892708, 'min_samples_leaf': 360, 'criterion': 'entropy', 'bootstrap': False, 'max_bins': 251, 'max_features': 'sqrt'}. Best is trial 266 with value: 0.7478363605785402.\n",
      "[I 2024-05-26 23:50:48,807] Trial 329 finished with value: 0.5238781323578876 and parameters: {'ccp_alpha': 0.015286157980029623, 'n_estimators': 140, 'max_depth': 512, 'min_samples_split': 0.10003146134838774, 'min_samples_leaf': 445, 'criterion': 'entropy', 'bootstrap': False, 'max_bins': 251, 'max_features': 'sqrt'}. Best is trial 266 with value: 0.7478363605785402.\n",
      "[I 2024-05-26 23:50:55,240] Trial 330 finished with value: 0.6909809465747281 and parameters: {'ccp_alpha': 0.006539942345859311, 'n_estimators': 150, 'max_depth': 515, 'min_samples_split': 0.11066353968958303, 'min_samples_leaf': 393, 'criterion': 'entropy', 'bootstrap': False, 'max_bins': 272, 'max_features': 'sqrt'}. Best is trial 266 with value: 0.7478363605785402.\n",
      "[I 2024-05-26 23:50:59,350] Trial 331 finished with value: 0.5000688137683597 and parameters: {'ccp_alpha': 0.1424618343028374, 'n_estimators': 145, 'max_depth': 513, 'min_samples_split': 0.0969637302539407, 'min_samples_leaf': 438, 'criterion': 'entropy', 'bootstrap': False, 'max_bins': 252, 'max_features': 'sqrt'}. Best is trial 266 with value: 0.7478363605785402.\n",
      "[I 2024-05-26 23:51:03,469] Trial 332 finished with value: 0.6316608504316628 and parameters: {'ccp_alpha': 0.010437421852437422, 'n_estimators': 125, 'max_depth': 516, 'min_samples_split': 0.11517960221556332, 'min_samples_leaf': 406, 'criterion': 'entropy', 'bootstrap': False, 'max_bins': 253, 'max_features': 'sqrt'}. Best is trial 266 with value: 0.7478363605785402.\n",
      "[I 2024-05-26 23:51:08,734] Trial 333 finished with value: 0.7012332870837539 and parameters: {'ccp_alpha': 0.0057717971218821905, 'n_estimators': 115, 'max_depth': 519, 'min_samples_split': 0.10745925864547354, 'min_samples_leaf': 343, 'criterion': 'entropy', 'bootstrap': False, 'max_bins': 266, 'max_features': 'sqrt'}. Best is trial 266 with value: 0.7478363605785402.\n",
      "[I 2024-05-26 23:51:12,770] Trial 334 finished with value: 0.5016171235564525 and parameters: {'ccp_alpha': 0.01707521145364425, 'n_estimators': 140, 'max_depth': 509, 'min_samples_split': 0.10483333900338669, 'min_samples_leaf': 399, 'criterion': 'entropy', 'bootstrap': False, 'max_bins': 251, 'max_features': 'sqrt'}. Best is trial 266 with value: 0.7478363605785402.\n",
      "[I 2024-05-26 23:51:28,059] Trial 335 finished with value: 0.7388275731584258 and parameters: {'ccp_alpha': 0.0004016118864757277, 'n_estimators': 135, 'max_depth': 524, 'min_samples_split': 0.11393523682098411, 'min_samples_leaf': 412, 'criterion': 'entropy', 'bootstrap': False, 'max_bins': 268, 'max_features': 'sqrt'}. Best is trial 266 with value: 0.7478363605785402.\n",
      "[I 2024-05-26 23:51:32,340] Trial 336 finished with value: 0.5029245851552865 and parameters: {'ccp_alpha': 0.15622605432069697, 'n_estimators': 145, 'max_depth': 518, 'min_samples_split': 0.10186353545618994, 'min_samples_leaf': 429, 'criterion': 'entropy', 'bootstrap': False, 'max_bins': 251, 'max_features': 'sqrt'}. Best is trial 266 with value: 0.7478363605785402.\n",
      "[I 2024-05-26 23:51:50,242] Trial 337 finished with value: 0.7363540615539859 and parameters: {'ccp_alpha': 4.463395597771732e-06, 'n_estimators': 155, 'max_depth': 551, 'min_samples_split': 0.11804076580033558, 'min_samples_leaf': 460, 'criterion': 'entropy', 'bootstrap': False, 'max_bins': 272, 'max_features': 'sqrt'}. Best is trial 266 with value: 0.7478363605785402.\n",
      "[I 2024-05-26 23:51:55,065] Trial 338 finished with value: 0.6643637529431551 and parameters: {'ccp_alpha': 0.010820968766222025, 'n_estimators': 150, 'max_depth': 514, 'min_samples_split': 0.11105367780660452, 'min_samples_leaf': 434, 'criterion': 'entropy', 'bootstrap': False, 'max_bins': 255, 'max_features': 'sqrt'}. Best is trial 266 with value: 0.7478363605785402.\n",
      "[I 2024-05-26 23:52:02,722] Trial 339 finished with value: 0.7165661088687072 and parameters: {'ccp_alpha': 0.005316229136020204, 'n_estimators': 155, 'max_depth': 531, 'min_samples_split': 0.09334993875761897, 'min_samples_leaf': 426, 'criterion': 'entropy', 'bootstrap': False, 'max_bins': 253, 'max_features': 'sqrt'}. Best is trial 266 with value: 0.7478363605785402.\n",
      "[I 2024-05-26 23:52:18,451] Trial 340 finished with value: 0.740029256362821 and parameters: {'ccp_alpha': 1.0760824198220481e-05, 'n_estimators': 140, 'max_depth': 521, 'min_samples_split': 0.13033760151837487, 'min_samples_leaf': 416, 'criterion': 'entropy', 'bootstrap': False, 'max_bins': 271, 'max_features': 'sqrt'}. Best is trial 266 with value: 0.7478363605785402.\n",
      "[I 2024-05-26 23:52:22,963] Trial 341 finished with value: 0.5918468298015472 and parameters: {'ccp_alpha': 0.011255920752569018, 'n_estimators': 145, 'max_depth': 517, 'min_samples_split': 0.10757836209166685, 'min_samples_leaf': 423, 'criterion': 'entropy', 'bootstrap': False, 'max_bins': 252, 'max_features': 'sqrt'}. Best is trial 266 with value: 0.7478363605785402.\n",
      "[I 2024-05-26 23:52:28,278] Trial 342 finished with value: 0.6137396288821617 and parameters: {'ccp_alpha': 0.006506993984365966, 'n_estimators': 130, 'max_depth': 571, 'min_samples_split': 0.12620989954634856, 'min_samples_leaf': 439, 'criterion': 'entropy', 'bootstrap': False, 'max_bins': 266, 'max_features': 'sqrt'}. Best is trial 266 with value: 0.7478363605785402.\n",
      "[I 2024-05-26 23:52:31,661] Trial 343 finished with value: 0.5029245851552865 and parameters: {'ccp_alpha': 0.016728406270003982, 'n_estimators': 105, 'max_depth': 511, 'min_samples_split': 0.11640090646541476, 'min_samples_leaf': 407, 'criterion': 'entropy', 'bootstrap': False, 'max_bins': 265, 'max_features': 'sqrt'}. Best is trial 266 with value: 0.7478363605785402.\n",
      "[I 2024-05-26 23:52:47,656] Trial 344 finished with value: 0.745639435474829 and parameters: {'ccp_alpha': 1.0401964177903402e-05, 'n_estimators': 135, 'max_depth': 526, 'min_samples_split': 0.11124415616292398, 'min_samples_leaf': 433, 'criterion': 'entropy', 'bootstrap': False, 'max_bins': 251, 'max_features': 'sqrt'}. Best is trial 266 with value: 0.7478363605785402.\n",
      "[I 2024-05-26 23:52:53,869] Trial 345 finished with value: 0.699703266902119 and parameters: {'ccp_alpha': 0.005445938719303668, 'n_estimators': 140, 'max_depth': 574, 'min_samples_split': 0.11165503384661582, 'min_samples_leaf': 433, 'criterion': 'entropy', 'bootstrap': True, 'max_bins': 251, 'max_features': 'sqrt'}. Best is trial 266 with value: 0.7478363605785402.\n",
      "[I 2024-05-26 23:52:57,511] Trial 346 finished with value: 0.6113570397466084 and parameters: {'ccp_alpha': 0.00992059558699762, 'n_estimators': 125, 'max_depth': 526, 'min_samples_split': 0.10417047952107962, 'min_samples_leaf': 427, 'criterion': 'gini', 'bootstrap': False, 'max_bins': 251, 'max_features': 'sqrt'}. Best is trial 266 with value: 0.7478363605785402.\n",
      "[I 2024-05-26 23:53:13,221] Trial 347 finished with value: 0.7443821126247336 and parameters: {'ccp_alpha': 1.7681940102371677e-05, 'n_estimators': 135, 'max_depth': 523, 'min_samples_split': 0.11032145763821302, 'min_samples_leaf': 419, 'criterion': 'entropy', 'bootstrap': False, 'max_bins': 254, 'max_features': 'sqrt'}. Best is trial 266 with value: 0.7478363605785402.\n",
      "[I 2024-05-26 23:53:17,290] Trial 348 finished with value: 0.598903990077363 and parameters: {'ccp_alpha': 0.012602111051568374, 'n_estimators': 130, 'max_depth': 524, 'min_samples_split': 0.11541761885817556, 'min_samples_leaf': 414, 'criterion': 'entropy', 'bootstrap': False, 'max_bins': 254, 'max_features': 'sqrt'}. Best is trial 266 with value: 0.7478363605785402.\n",
      "[I 2024-05-26 23:53:23,447] Trial 349 finished with value: 0.699175846507456 and parameters: {'ccp_alpha': 0.006381343694706462, 'n_estimators': 135, 'max_depth': 530, 'min_samples_split': 0.11098469392154245, 'min_samples_leaf': 381, 'criterion': 'entropy', 'bootstrap': False, 'max_bins': 252, 'max_features': 'sqrt'}. Best is trial 266 with value: 0.7478363605785402.\n",
      "[I 2024-05-26 23:53:27,241] Trial 350 finished with value: 0.5946179154053145 and parameters: {'ccp_alpha': 0.01834036389632522, 'n_estimators': 135, 'max_depth': 524, 'min_samples_split': 0.12328356134102508, 'min_samples_leaf': 420, 'criterion': 'entropy', 'bootstrap': False, 'max_bins': 253, 'max_features': 'sqrt'}. Best is trial 266 with value: 0.7478363605785402.\n",
      "[I 2024-05-26 23:53:32,451] Trial 351 finished with value: 0.684204332043951 and parameters: {'ccp_alpha': 0.006674670212323128, 'n_estimators': 120, 'max_depth': 528, 'min_samples_split': 0.11892584390819803, 'min_samples_leaf': 412, 'criterion': 'entropy', 'bootstrap': False, 'max_bins': 254, 'max_features': 'sqrt'}. Best is trial 266 with value: 0.7478363605785402.\n",
      "[I 2024-05-26 23:53:39,604] Trial 352 finished with value: 0.7062402595582464 and parameters: {'ccp_alpha': 0.004995036849345954, 'n_estimators': 140, 'max_depth': 527, 'min_samples_split': 0.1134213652353993, 'min_samples_leaf': 423, 'criterion': 'entropy', 'bootstrap': False, 'max_bins': 251, 'max_features': 'sqrt'}. Best is trial 266 with value: 0.7478363605785402.\n",
      "[I 2024-05-26 23:53:43,773] Trial 353 finished with value: 0.5179223077138693 and parameters: {'ccp_alpha': 0.012439378498510753, 'n_estimators': 135, 'max_depth': 526, 'min_samples_split': 0.10998244489404346, 'min_samples_leaf': 402, 'criterion': 'entropy', 'bootstrap': False, 'max_bins': 252, 'max_features': 'sqrt'}. Best is trial 266 with value: 0.7478363605785402.\n",
      "[I 2024-05-26 23:53:58,920] Trial 354 finished with value: 0.7426730855477071 and parameters: {'ccp_alpha': 0.00025442196388052906, 'n_estimators': 135, 'max_depth': 552, 'min_samples_split': 0.11861156081384652, 'min_samples_leaf': 419, 'criterion': 'entropy', 'bootstrap': False, 'max_bins': 253, 'max_features': 'sqrt'}. Best is trial 266 with value: 0.7478363605785402.\n",
      "[I 2024-05-26 23:54:02,631] Trial 355 finished with value: 0.5034750953021639 and parameters: {'ccp_alpha': 0.18732053867234605, 'n_estimators': 135, 'max_depth': 535, 'min_samples_split': 0.11919198910496372, 'min_samples_leaf': 417, 'criterion': 'entropy', 'bootstrap': False, 'max_bins': 255, 'max_features': 'sqrt'}. Best is trial 266 with value: 0.7478363605785402.\n",
      "[I 2024-05-26 23:54:06,553] Trial 356 finished with value: 0.5024772956609486 and parameters: {'ccp_alpha': 0.11164246611269454, 'n_estimators': 135, 'max_depth': 577, 'min_samples_split': 0.04552759411614481, 'min_samples_leaf': 407, 'criterion': 'entropy', 'bootstrap': False, 'max_bins': 253, 'max_features': 'sqrt'}. Best is trial 266 with value: 0.7478363605785402.\n",
      "[I 2024-05-26 23:54:12,628] Trial 357 finished with value: 0.6981336192398251 and parameters: {'ccp_alpha': 0.005877097809203806, 'n_estimators': 130, 'max_depth': 521, 'min_samples_split': 0.1163634949394684, 'min_samples_leaf': 425, 'criterion': 'entropy', 'bootstrap': False, 'max_bins': 253, 'max_features': 'sqrt'}. Best is trial 266 with value: 0.7478363605785402.\n",
      "[I 2024-05-26 23:54:27,912] Trial 358 finished with value: 0.735122070859962 and parameters: {'ccp_alpha': 4.768921035566069e-05, 'n_estimators': 135, 'max_depth': 554, 'min_samples_split': 0.12350543282898811, 'min_samples_leaf': 417, 'criterion': 'entropy', 'bootstrap': False, 'max_bins': 251, 'max_features': 'sqrt'}. Best is trial 266 with value: 0.7478363605785402.\n",
      "[I 2024-05-26 23:54:31,935] Trial 359 finished with value: 0.5419324966363942 and parameters: {'ccp_alpha': 0.011735101109609052, 'n_estimators': 135, 'max_depth': 523, 'min_samples_split': 0.10764366500906061, 'min_samples_leaf': 430, 'criterion': 'entropy', 'bootstrap': False, 'max_bins': 255, 'max_features': 'sqrt'}. Best is trial 266 with value: 0.7478363605785402.\n",
      "[I 2024-05-26 23:54:38,126] Trial 360 finished with value: 0.6889208081062899 and parameters: {'ccp_alpha': 0.005515942479367533, 'n_estimators': 140, 'max_depth': 526, 'min_samples_split': 0.11287193359152556, 'min_samples_leaf': 411, 'criterion': 'entropy', 'bootstrap': False, 'max_bins': 272, 'max_features': 'sqrt'}. Best is trial 266 with value: 0.7478363605785402.\n",
      "[I 2024-05-26 23:54:54,403] Trial 361 finished with value: 0.7388258212804126 and parameters: {'ccp_alpha': 0.0001934889917955019, 'n_estimators': 140, 'max_depth': 530, 'min_samples_split': 0.10031713056747368, 'min_samples_leaf': 421, 'criterion': 'entropy', 'bootstrap': False, 'max_bins': 254, 'max_features': 'sqrt'}. Best is trial 266 with value: 0.7478363605785402.\n",
      "[I 2024-05-26 23:54:58,117] Trial 362 finished with value: 0.5023052612400494 and parameters: {'ccp_alpha': 0.017002637309605814, 'n_estimators': 130, 'max_depth': 556, 'min_samples_split': 0.11822700746490726, 'min_samples_leaf': 443, 'criterion': 'entropy', 'bootstrap': False, 'max_bins': 251, 'max_features': 'sqrt'}. Best is trial 266 with value: 0.7478363605785402.\n",
      "[I 2024-05-26 23:55:03,857] Trial 363 finished with value: 0.7043281197443659 and parameters: {'ccp_alpha': 0.0060511333172451635, 'n_estimators': 140, 'max_depth': 552, 'min_samples_split': 0.11486251112175325, 'min_samples_leaf': 399, 'criterion': 'entropy', 'bootstrap': True, 'max_bins': 252, 'max_features': 'sqrt'}. Best is trial 266 with value: 0.7478363605785402.\n",
      "[I 2024-05-26 23:55:17,829] Trial 364 finished with value: 0.7378337677990807 and parameters: {'ccp_alpha': 2.7386773621305375e-05, 'n_estimators': 120, 'max_depth': 522, 'min_samples_split': 0.10922438692007988, 'min_samples_leaf': 437, 'criterion': 'entropy', 'bootstrap': False, 'max_bins': 252, 'max_features': 'sqrt'}. Best is trial 266 with value: 0.7478363605785402.\n",
      "[I 2024-05-26 23:55:22,313] Trial 365 finished with value: 0.6474742473932056 and parameters: {'ccp_alpha': 0.011208126882808875, 'n_estimators': 145, 'max_depth': 533, 'min_samples_split': 0.12108408246328978, 'min_samples_leaf': 426, 'criterion': 'entropy', 'bootstrap': False, 'max_bins': 270, 'max_features': 'sqrt'}. Best is trial 266 with value: 0.7478363605785402.\n",
      "[I 2024-05-26 23:55:26,522] Trial 366 finished with value: 0.5028557713869268 and parameters: {'ccp_alpha': 0.02445292369484406, 'n_estimators': 160, 'max_depth': 557, 'min_samples_split': 0.12760002158362016, 'min_samples_leaf': 415, 'criterion': 'entropy', 'bootstrap': False, 'max_bins': 251, 'max_features': 'sqrt'}. Best is trial 266 with value: 0.7478363605785402.\n",
      "[I 2024-05-26 23:55:34,027] Trial 367 finished with value: 0.7096841363942146 and parameters: {'ccp_alpha': 0.005450431612507576, 'n_estimators': 150, 'max_depth': 524, 'min_samples_split': 0.10382777372668768, 'min_samples_leaf': 434, 'criterion': 'entropy', 'bootstrap': False, 'max_bins': 253, 'max_features': 'sqrt'}. Best is trial 266 with value: 0.7478363605785402.\n",
      "[I 2024-05-26 23:55:37,764] Trial 368 finished with value: 0.6212456553425272 and parameters: {'ccp_alpha': 0.01061751791162482, 'n_estimators': 130, 'max_depth': 554, 'min_samples_split': 0.11210816660980134, 'min_samples_leaf': 420, 'criterion': 'gini', 'bootstrap': False, 'max_bins': 251, 'max_features': 'sqrt'}. Best is trial 266 with value: 0.7478363605785402.\n",
      "[I 2024-05-26 23:55:46,999] Trial 369 finished with value: 0.7196232761520349 and parameters: {'ccp_alpha': 0.005471557161691728, 'n_estimators': 190, 'max_depth': 550, 'min_samples_split': 0.09841521157604535, 'min_samples_leaf': 394, 'criterion': 'entropy', 'bootstrap': False, 'max_bins': 250, 'max_features': 'sqrt'}. Best is trial 266 with value: 0.7478363605785402.\n",
      "[I 2024-05-26 23:55:51,098] Trial 370 finished with value: 0.6076594909743245 and parameters: {'ccp_alpha': 0.01641683330816339, 'n_estimators': 145, 'max_depth': 558, 'min_samples_split': 0.10688130309191977, 'min_samples_leaf': 408, 'criterion': 'entropy', 'bootstrap': False, 'max_bins': 271, 'max_features': 'sqrt'}. Best is trial 266 with value: 0.7478363605785402.\n",
      "[I 2024-05-26 23:56:12,708] Trial 371 finished with value: 0.7451485242179616 and parameters: {'ccp_alpha': 4.972092513261135e-05, 'n_estimators': 190, 'max_depth': 525, 'min_samples_split': 0.11567936239246937, 'min_samples_leaf': 429, 'criterion': 'entropy', 'bootstrap': False, 'max_bins': 277, 'max_features': 'sqrt'}. Best is trial 266 with value: 0.7478363605785402.\n",
      "[I 2024-05-26 23:56:34,043] Trial 372 finished with value: 0.7382925145756252 and parameters: {'ccp_alpha': 7.777288012501428e-05, 'n_estimators': 190, 'max_depth': 528, 'min_samples_split': 0.11901775186511496, 'min_samples_leaf': 368, 'criterion': 'entropy', 'bootstrap': False, 'max_bins': 279, 'max_features': 'sqrt'}. Best is trial 266 with value: 0.7478363605785402.\n",
      "[I 2024-05-26 23:56:39,952] Trial 373 finished with value: 0.6853190169862092 and parameters: {'ccp_alpha': 0.009549353164230535, 'n_estimators': 190, 'max_depth': 524, 'min_samples_split': 0.11641499301819788, 'min_samples_leaf': 427, 'criterion': 'entropy', 'bootstrap': False, 'max_bins': 278, 'max_features': 'sqrt'}. Best is trial 266 with value: 0.7478363605785402.\n",
      "[I 2024-05-26 23:56:44,325] Trial 374 finished with value: 0.6633910752326494 and parameters: {'ccp_alpha': 0.010813150623612836, 'n_estimators': 140, 'max_depth': 529, 'min_samples_split': 0.1236052855629608, 'min_samples_leaf': 419, 'criterion': 'entropy', 'bootstrap': False, 'max_bins': 277, 'max_features': 'sqrt'}. Best is trial 266 with value: 0.7478363605785402.\n",
      "[I 2024-05-26 23:56:50,272] Trial 375 finished with value: 0.7045454577306873 and parameters: {'ccp_alpha': 0.0062132186989125515, 'n_estimators': 135, 'max_depth': 526, 'min_samples_split': 0.11373145372260586, 'min_samples_leaf': 404, 'criterion': 'entropy', 'bootstrap': False, 'max_bins': 277, 'max_features': 'sqrt'}. Best is trial 266 with value: 0.7478363605785402.\n",
      "[I 2024-05-26 23:57:12,201] Trial 376 finished with value: 0.7408534448929252 and parameters: {'ccp_alpha': 0.00010619288816227357, 'n_estimators': 195, 'max_depth': 555, 'min_samples_split': 0.12081063231963028, 'min_samples_leaf': 426, 'criterion': 'entropy', 'bootstrap': False, 'max_bins': 276, 'max_features': 'sqrt'}. Best is trial 266 with value: 0.7478363605785402.\n",
      "[I 2024-05-26 23:57:17,365] Trial 377 finished with value: 0.5029245851552865 and parameters: {'ccp_alpha': 0.015239721103131536, 'n_estimators': 190, 'max_depth': 561, 'min_samples_split': 0.11697241624838878, 'min_samples_leaf': 413, 'criterion': 'entropy', 'bootstrap': False, 'max_bins': 280, 'max_features': 'sqrt'}. Best is trial 266 with value: 0.7478363605785402.\n",
      "[I 2024-05-26 23:57:33,274] Trial 378 finished with value: 0.7367382834398475 and parameters: {'ccp_alpha': 3.8275627678552304e-05, 'n_estimators': 135, 'max_depth': 552, 'min_samples_split': 0.11026040121396395, 'min_samples_leaf': 389, 'criterion': 'entropy', 'bootstrap': False, 'max_bins': 274, 'max_features': 'sqrt'}. Best is trial 266 with value: 0.7478363605785402.\n",
      "[I 2024-05-26 23:57:41,474] Trial 379 finished with value: 0.6915238886085884 and parameters: {'ccp_alpha': 0.00611989494881731, 'n_estimators': 190, 'max_depth': 531, 'min_samples_split': 0.1142996568790715, 'min_samples_leaf': 439, 'criterion': 'entropy', 'bootstrap': False, 'max_bins': 275, 'max_features': 'sqrt'}. Best is trial 266 with value: 0.7478363605785402.\n",
      "[I 2024-05-26 23:57:45,997] Trial 380 finished with value: 0.6166602898306985 and parameters: {'ccp_alpha': 0.010469130782834318, 'n_estimators': 140, 'max_depth': 559, 'min_samples_split': 0.12407674091233557, 'min_samples_leaf': 444, 'criterion': 'entropy', 'bootstrap': False, 'max_bins': 254, 'max_features': 'sqrt'}. Best is trial 266 with value: 0.7478363605785402.\n",
      "[I 2024-05-26 23:57:50,381] Trial 381 finished with value: 0.5058835771947527 and parameters: {'ccp_alpha': 0.020327306868445607, 'n_estimators': 165, 'max_depth': 536, 'min_samples_split': 0.11960565303473154, 'min_samples_leaf': 430, 'criterion': 'entropy', 'bootstrap': False, 'max_bins': 272, 'max_features': 'sqrt'}. Best is trial 266 with value: 0.7478363605785402.\n",
      "[I 2024-05-26 23:57:58,187] Trial 382 finished with value: 0.6963738577755354 and parameters: {'ccp_alpha': 0.0061004587828485226, 'n_estimators': 195, 'max_depth': 526, 'min_samples_split': 0.10910741947625792, 'min_samples_leaf': 420, 'criterion': 'entropy', 'bootstrap': True, 'max_bins': 252, 'max_features': 'sqrt'}. Best is trial 266 with value: 0.7478363605785402.\n",
      "[I 2024-05-26 23:58:03,499] Trial 383 finished with value: 0.700746019733154 and parameters: {'ccp_alpha': 0.005699971698716737, 'n_estimators': 115, 'max_depth': 557, 'min_samples_split': 0.11375015260641498, 'min_samples_leaf': 409, 'criterion': 'entropy', 'bootstrap': False, 'max_bins': 273, 'max_features': 'sqrt'}. Best is trial 266 with value: 0.7478363605785402.\n",
      "[I 2024-05-26 23:58:18,105] Trial 384 finished with value: 0.7360476230519117 and parameters: {'ccp_alpha': 2.6868361399748426e-05, 'n_estimators': 130, 'max_depth': 554, 'min_samples_split': 0.12797359977762526, 'min_samples_leaf': 435, 'criterion': 'entropy', 'bootstrap': False, 'max_bins': 253, 'max_features': 'sqrt'}. Best is trial 266 with value: 0.7478363605785402.\n",
      "[I 2024-05-26 23:58:21,974] Trial 385 finished with value: 0.5561049445005045 and parameters: {'ccp_alpha': 0.013435964716658888, 'n_estimators': 125, 'max_depth': 523, 'min_samples_split': 0.10806368547852745, 'min_samples_leaf': 424, 'criterion': 'entropy', 'bootstrap': False, 'max_bins': 256, 'max_features': 'sqrt'}. Best is trial 266 with value: 0.7478363605785402.\n",
      "[I 2024-05-26 23:58:39,064] Trial 386 finished with value: 0.7432601749075008 and parameters: {'ccp_alpha': 6.811865862903533e-05, 'n_estimators': 150, 'max_depth': 529, 'min_samples_split': 0.11637644224460668, 'min_samples_leaf': 415, 'criterion': 'entropy', 'bootstrap': False, 'max_bins': 270, 'max_features': 'sqrt'}. Best is trial 266 with value: 0.7478363605785402.\n",
      "[I 2024-05-26 23:58:45,416] Trial 387 finished with value: 0.7082836150353178 and parameters: {'ccp_alpha': 0.005667535914791053, 'n_estimators': 150, 'max_depth': 528, 'min_samples_split': 0.11684411674101314, 'min_samples_leaf': 414, 'criterion': 'entropy', 'bootstrap': False, 'max_bins': 271, 'max_features': 'sqrt'}. Best is trial 266 with value: 0.7478363605785402.\n",
      "[I 2024-05-26 23:58:49,436] Trial 388 finished with value: 0.501066613409575 and parameters: {'ccp_alpha': 0.01988414441147004, 'n_estimators': 150, 'max_depth': 530, 'min_samples_split': 0.11190201242600402, 'min_samples_leaf': 400, 'criterion': 'gini', 'bootstrap': False, 'max_bins': 268, 'max_features': 'sqrt'}. Best is trial 266 with value: 0.7478363605785402.\n",
      "[I 2024-05-26 23:58:53,980] Trial 389 finished with value: 0.6358735914900773 and parameters: {'ccp_alpha': 0.011053910391981156, 'n_estimators': 150, 'max_depth': 532, 'min_samples_split': 0.12234260697823876, 'min_samples_leaf': 417, 'criterion': 'entropy', 'bootstrap': False, 'max_bins': 270, 'max_features': 'sqrt'}. Best is trial 266 with value: 0.7478363605785402.\n",
      "[I 2024-05-26 23:59:00,968] Trial 390 finished with value: 0.6738235438389955 and parameters: {'ccp_alpha': 0.005493783635135722, 'n_estimators': 145, 'max_depth': 526, 'min_samples_split': 0.11814269483928533, 'min_samples_leaf': 407, 'criterion': 'entropy', 'bootstrap': False, 'max_bins': 270, 'max_features': 'sqrt'}. Best is trial 266 with value: 0.7478363605785402.\n",
      "[I 2024-05-26 23:59:18,050] Trial 391 finished with value: 0.7409474506671152 and parameters: {'ccp_alpha': 0.00024190742152110152, 'n_estimators': 155, 'max_depth': 529, 'min_samples_split': 0.1261657496971064, 'min_samples_leaf': 430, 'criterion': 'entropy', 'bootstrap': False, 'max_bins': 276, 'max_features': 'sqrt'}. Best is trial 266 with value: 0.7478363605785402.\n",
      "[I 2024-05-26 23:59:22,676] Trial 392 finished with value: 0.5263031169413611 and parameters: {'ccp_alpha': 0.011332062042664248, 'n_estimators': 155, 'max_depth': 529, 'min_samples_split': 0.13188436961799685, 'min_samples_leaf': 422, 'criterion': 'entropy', 'bootstrap': False, 'max_bins': 277, 'max_features': 'sqrt'}. Best is trial 266 with value: 0.7478363605785402.\n",
      "[I 2024-05-26 23:59:30,149] Trial 393 finished with value: 0.7096719082856822 and parameters: {'ccp_alpha': 0.005377215540299734, 'n_estimators': 155, 'max_depth': 534, 'min_samples_split': 0.12462095733861807, 'min_samples_leaf': 428, 'criterion': 'entropy', 'bootstrap': False, 'max_bins': 276, 'max_features': 'sqrt'}. Best is trial 266 with value: 0.7478363605785402.\n",
      "[I 2024-05-26 23:59:34,400] Trial 394 finished with value: 0.5008945789886758 and parameters: {'ccp_alpha': 0.027714151712715573, 'n_estimators': 160, 'max_depth': 527, 'min_samples_split': 0.12651676779681048, 'min_samples_leaf': 414, 'criterion': 'entropy', 'bootstrap': False, 'max_bins': 276, 'max_features': 'sqrt'}. Best is trial 266 with value: 0.7478363605785402.\n",
      "[I 2024-05-26 23:59:38,555] Trial 395 finished with value: 0.5011010202937549 and parameters: {'ccp_alpha': 0.017564953720837183, 'n_estimators': 150, 'max_depth': 530, 'min_samples_split': 0.10632476898717617, 'min_samples_leaf': 421, 'criterion': 'entropy', 'bootstrap': False, 'max_bins': 278, 'max_features': 'sqrt'}. Best is trial 266 with value: 0.7478363605785402.\n",
      "[I 2024-05-26 23:59:46,985] Trial 396 finished with value: 0.7138601931270322 and parameters: {'ccp_alpha': 0.005054747262638112, 'n_estimators': 155, 'max_depth': 533, 'min_samples_split': 0.112591438783805, 'min_samples_leaf': 429, 'criterion': 'entropy', 'bootstrap': False, 'max_bins': 274, 'max_features': 'sqrt'}. Best is trial 266 with value: 0.7478363605785402.\n",
      "[I 2024-05-27 00:00:03,901] Trial 397 finished with value: 0.7365892686960421 and parameters: {'ccp_alpha': 0.00031243686666767147, 'n_estimators': 155, 'max_depth': 525, 'min_samples_split': 0.13238993912699834, 'min_samples_leaf': 410, 'criterion': 'entropy', 'bootstrap': False, 'max_bins': 275, 'max_features': 'sqrt'}. Best is trial 266 with value: 0.7478363605785402.\n",
      "[I 2024-05-27 00:00:08,525] Trial 398 finished with value: 0.5450019621033748 and parameters: {'ccp_alpha': 0.011322577454790782, 'n_estimators': 160, 'max_depth': 529, 'min_samples_split': 0.12145930415745117, 'min_samples_leaf': 376, 'criterion': 'entropy', 'bootstrap': False, 'max_bins': 251, 'max_features': 'sqrt'}. Best is trial 266 with value: 0.7478363605785402.\n",
      "[I 2024-05-27 00:00:25,837] Trial 399 finished with value: 0.7413287994730351 and parameters: {'ccp_alpha': 1.0478197223607417e-06, 'n_estimators': 150, 'max_depth': 532, 'min_samples_split': 0.11490600249516929, 'min_samples_leaf': 440, 'criterion': 'entropy', 'bootstrap': False, 'max_bins': 277, 'max_features': 'sqrt'}. Best is trial 266 with value: 0.7478363605785402.\n"
     ]
    },
    {
     "name": "stdout",
     "output_type": "stream",
     "text": [
      "Number of finished trials: 400\n",
      "Best trial parameters: {'ccp_alpha': 0.0002478288667819229, 'n_estimators': 175, 'max_depth': 559, 'min_samples_split': 0.11783786182405333, 'min_samples_leaf': 408, 'criterion': 'entropy', 'bootstrap': False, 'max_bins': 272, 'max_features': 'sqrt'}\n",
      "Best score: 0.7478363605785402\n"
     ]
    }
   ],
   "source": [
    "study.optimize(objective, n_trials=100)\n",
    "\n",
    "# Showing optimization results\n",
    "print('Number of finished trials:', len(study.trials))\n",
    "print('Best trial parameters:', study.best_trial.params)\n",
    "print('Best score:', study.best_value)"
   ]
  },
  {
   "cell_type": "code",
   "execution_count": 85,
   "metadata": {},
   "outputs": [
    {
     "data": {
      "application/vnd.plotly.v1+json": {
       "config": {
        "plotlyServerURL": "https://plot.ly"
       },
       "data": [
        {
         "cliponaxis": false,
         "hovertemplate": [
          "bootstrap (CategoricalDistribution): 0.07081706185873612<extra></extra>",
          "max_features (CategoricalDistribution): 0.19026867207402054<extra></extra>",
          "criterion (CategoricalDistribution): 0.7389142660672433<extra></extra>"
         ],
         "name": "Objective Value",
         "orientation": "h",
         "text": [
          "0.07",
          "0.19",
          "0.74"
         ],
         "textposition": "outside",
         "type": "bar",
         "x": [
          0.07081706185873612,
          0.19026867207402054,
          0.7389142660672433
         ],
         "y": [
          "bootstrap",
          "max_features",
          "criterion"
         ]
        }
       ],
       "layout": {
        "template": {
         "data": {
          "bar": [
           {
            "error_x": {
             "color": "#2a3f5f"
            },
            "error_y": {
             "color": "#2a3f5f"
            },
            "marker": {
             "line": {
              "color": "#E5ECF6",
              "width": 0.5
             },
             "pattern": {
              "fillmode": "overlay",
              "size": 10,
              "solidity": 0.2
             }
            },
            "type": "bar"
           }
          ],
          "barpolar": [
           {
            "marker": {
             "line": {
              "color": "#E5ECF6",
              "width": 0.5
             },
             "pattern": {
              "fillmode": "overlay",
              "size": 10,
              "solidity": 0.2
             }
            },
            "type": "barpolar"
           }
          ],
          "carpet": [
           {
            "aaxis": {
             "endlinecolor": "#2a3f5f",
             "gridcolor": "white",
             "linecolor": "white",
             "minorgridcolor": "white",
             "startlinecolor": "#2a3f5f"
            },
            "baxis": {
             "endlinecolor": "#2a3f5f",
             "gridcolor": "white",
             "linecolor": "white",
             "minorgridcolor": "white",
             "startlinecolor": "#2a3f5f"
            },
            "type": "carpet"
           }
          ],
          "choropleth": [
           {
            "colorbar": {
             "outlinewidth": 0,
             "ticks": ""
            },
            "type": "choropleth"
           }
          ],
          "contour": [
           {
            "colorbar": {
             "outlinewidth": 0,
             "ticks": ""
            },
            "colorscale": [
             [
              0,
              "#0d0887"
             ],
             [
              0.1111111111111111,
              "#46039f"
             ],
             [
              0.2222222222222222,
              "#7201a8"
             ],
             [
              0.3333333333333333,
              "#9c179e"
             ],
             [
              0.4444444444444444,
              "#bd3786"
             ],
             [
              0.5555555555555556,
              "#d8576b"
             ],
             [
              0.6666666666666666,
              "#ed7953"
             ],
             [
              0.7777777777777778,
              "#fb9f3a"
             ],
             [
              0.8888888888888888,
              "#fdca26"
             ],
             [
              1,
              "#f0f921"
             ]
            ],
            "type": "contour"
           }
          ],
          "contourcarpet": [
           {
            "colorbar": {
             "outlinewidth": 0,
             "ticks": ""
            },
            "type": "contourcarpet"
           }
          ],
          "heatmap": [
           {
            "colorbar": {
             "outlinewidth": 0,
             "ticks": ""
            },
            "colorscale": [
             [
              0,
              "#0d0887"
             ],
             [
              0.1111111111111111,
              "#46039f"
             ],
             [
              0.2222222222222222,
              "#7201a8"
             ],
             [
              0.3333333333333333,
              "#9c179e"
             ],
             [
              0.4444444444444444,
              "#bd3786"
             ],
             [
              0.5555555555555556,
              "#d8576b"
             ],
             [
              0.6666666666666666,
              "#ed7953"
             ],
             [
              0.7777777777777778,
              "#fb9f3a"
             ],
             [
              0.8888888888888888,
              "#fdca26"
             ],
             [
              1,
              "#f0f921"
             ]
            ],
            "type": "heatmap"
           }
          ],
          "heatmapgl": [
           {
            "colorbar": {
             "outlinewidth": 0,
             "ticks": ""
            },
            "colorscale": [
             [
              0,
              "#0d0887"
             ],
             [
              0.1111111111111111,
              "#46039f"
             ],
             [
              0.2222222222222222,
              "#7201a8"
             ],
             [
              0.3333333333333333,
              "#9c179e"
             ],
             [
              0.4444444444444444,
              "#bd3786"
             ],
             [
              0.5555555555555556,
              "#d8576b"
             ],
             [
              0.6666666666666666,
              "#ed7953"
             ],
             [
              0.7777777777777778,
              "#fb9f3a"
             ],
             [
              0.8888888888888888,
              "#fdca26"
             ],
             [
              1,
              "#f0f921"
             ]
            ],
            "type": "heatmapgl"
           }
          ],
          "histogram": [
           {
            "marker": {
             "pattern": {
              "fillmode": "overlay",
              "size": 10,
              "solidity": 0.2
             }
            },
            "type": "histogram"
           }
          ],
          "histogram2d": [
           {
            "colorbar": {
             "outlinewidth": 0,
             "ticks": ""
            },
            "colorscale": [
             [
              0,
              "#0d0887"
             ],
             [
              0.1111111111111111,
              "#46039f"
             ],
             [
              0.2222222222222222,
              "#7201a8"
             ],
             [
              0.3333333333333333,
              "#9c179e"
             ],
             [
              0.4444444444444444,
              "#bd3786"
             ],
             [
              0.5555555555555556,
              "#d8576b"
             ],
             [
              0.6666666666666666,
              "#ed7953"
             ],
             [
              0.7777777777777778,
              "#fb9f3a"
             ],
             [
              0.8888888888888888,
              "#fdca26"
             ],
             [
              1,
              "#f0f921"
             ]
            ],
            "type": "histogram2d"
           }
          ],
          "histogram2dcontour": [
           {
            "colorbar": {
             "outlinewidth": 0,
             "ticks": ""
            },
            "colorscale": [
             [
              0,
              "#0d0887"
             ],
             [
              0.1111111111111111,
              "#46039f"
             ],
             [
              0.2222222222222222,
              "#7201a8"
             ],
             [
              0.3333333333333333,
              "#9c179e"
             ],
             [
              0.4444444444444444,
              "#bd3786"
             ],
             [
              0.5555555555555556,
              "#d8576b"
             ],
             [
              0.6666666666666666,
              "#ed7953"
             ],
             [
              0.7777777777777778,
              "#fb9f3a"
             ],
             [
              0.8888888888888888,
              "#fdca26"
             ],
             [
              1,
              "#f0f921"
             ]
            ],
            "type": "histogram2dcontour"
           }
          ],
          "mesh3d": [
           {
            "colorbar": {
             "outlinewidth": 0,
             "ticks": ""
            },
            "type": "mesh3d"
           }
          ],
          "parcoords": [
           {
            "line": {
             "colorbar": {
              "outlinewidth": 0,
              "ticks": ""
             }
            },
            "type": "parcoords"
           }
          ],
          "pie": [
           {
            "automargin": true,
            "type": "pie"
           }
          ],
          "scatter": [
           {
            "fillpattern": {
             "fillmode": "overlay",
             "size": 10,
             "solidity": 0.2
            },
            "type": "scatter"
           }
          ],
          "scatter3d": [
           {
            "line": {
             "colorbar": {
              "outlinewidth": 0,
              "ticks": ""
             }
            },
            "marker": {
             "colorbar": {
              "outlinewidth": 0,
              "ticks": ""
             }
            },
            "type": "scatter3d"
           }
          ],
          "scattercarpet": [
           {
            "marker": {
             "colorbar": {
              "outlinewidth": 0,
              "ticks": ""
             }
            },
            "type": "scattercarpet"
           }
          ],
          "scattergeo": [
           {
            "marker": {
             "colorbar": {
              "outlinewidth": 0,
              "ticks": ""
             }
            },
            "type": "scattergeo"
           }
          ],
          "scattergl": [
           {
            "marker": {
             "colorbar": {
              "outlinewidth": 0,
              "ticks": ""
             }
            },
            "type": "scattergl"
           }
          ],
          "scattermapbox": [
           {
            "marker": {
             "colorbar": {
              "outlinewidth": 0,
              "ticks": ""
             }
            },
            "type": "scattermapbox"
           }
          ],
          "scatterpolar": [
           {
            "marker": {
             "colorbar": {
              "outlinewidth": 0,
              "ticks": ""
             }
            },
            "type": "scatterpolar"
           }
          ],
          "scatterpolargl": [
           {
            "marker": {
             "colorbar": {
              "outlinewidth": 0,
              "ticks": ""
             }
            },
            "type": "scatterpolargl"
           }
          ],
          "scatterternary": [
           {
            "marker": {
             "colorbar": {
              "outlinewidth": 0,
              "ticks": ""
             }
            },
            "type": "scatterternary"
           }
          ],
          "surface": [
           {
            "colorbar": {
             "outlinewidth": 0,
             "ticks": ""
            },
            "colorscale": [
             [
              0,
              "#0d0887"
             ],
             [
              0.1111111111111111,
              "#46039f"
             ],
             [
              0.2222222222222222,
              "#7201a8"
             ],
             [
              0.3333333333333333,
              "#9c179e"
             ],
             [
              0.4444444444444444,
              "#bd3786"
             ],
             [
              0.5555555555555556,
              "#d8576b"
             ],
             [
              0.6666666666666666,
              "#ed7953"
             ],
             [
              0.7777777777777778,
              "#fb9f3a"
             ],
             [
              0.8888888888888888,
              "#fdca26"
             ],
             [
              1,
              "#f0f921"
             ]
            ],
            "type": "surface"
           }
          ],
          "table": [
           {
            "cells": {
             "fill": {
              "color": "#EBF0F8"
             },
             "line": {
              "color": "white"
             }
            },
            "header": {
             "fill": {
              "color": "#C8D4E3"
             },
             "line": {
              "color": "white"
             }
            },
            "type": "table"
           }
          ]
         },
         "layout": {
          "annotationdefaults": {
           "arrowcolor": "#2a3f5f",
           "arrowhead": 0,
           "arrowwidth": 1
          },
          "autotypenumbers": "strict",
          "coloraxis": {
           "colorbar": {
            "outlinewidth": 0,
            "ticks": ""
           }
          },
          "colorscale": {
           "diverging": [
            [
             0,
             "#8e0152"
            ],
            [
             0.1,
             "#c51b7d"
            ],
            [
             0.2,
             "#de77ae"
            ],
            [
             0.3,
             "#f1b6da"
            ],
            [
             0.4,
             "#fde0ef"
            ],
            [
             0.5,
             "#f7f7f7"
            ],
            [
             0.6,
             "#e6f5d0"
            ],
            [
             0.7,
             "#b8e186"
            ],
            [
             0.8,
             "#7fbc41"
            ],
            [
             0.9,
             "#4d9221"
            ],
            [
             1,
             "#276419"
            ]
           ],
           "sequential": [
            [
             0,
             "#0d0887"
            ],
            [
             0.1111111111111111,
             "#46039f"
            ],
            [
             0.2222222222222222,
             "#7201a8"
            ],
            [
             0.3333333333333333,
             "#9c179e"
            ],
            [
             0.4444444444444444,
             "#bd3786"
            ],
            [
             0.5555555555555556,
             "#d8576b"
            ],
            [
             0.6666666666666666,
             "#ed7953"
            ],
            [
             0.7777777777777778,
             "#fb9f3a"
            ],
            [
             0.8888888888888888,
             "#fdca26"
            ],
            [
             1,
             "#f0f921"
            ]
           ],
           "sequentialminus": [
            [
             0,
             "#0d0887"
            ],
            [
             0.1111111111111111,
             "#46039f"
            ],
            [
             0.2222222222222222,
             "#7201a8"
            ],
            [
             0.3333333333333333,
             "#9c179e"
            ],
            [
             0.4444444444444444,
             "#bd3786"
            ],
            [
             0.5555555555555556,
             "#d8576b"
            ],
            [
             0.6666666666666666,
             "#ed7953"
            ],
            [
             0.7777777777777778,
             "#fb9f3a"
            ],
            [
             0.8888888888888888,
             "#fdca26"
            ],
            [
             1,
             "#f0f921"
            ]
           ]
          },
          "colorway": [
           "#636efa",
           "#EF553B",
           "#00cc96",
           "#ab63fa",
           "#FFA15A",
           "#19d3f3",
           "#FF6692",
           "#B6E880",
           "#FF97FF",
           "#FECB52"
          ],
          "font": {
           "color": "#2a3f5f"
          },
          "geo": {
           "bgcolor": "white",
           "lakecolor": "white",
           "landcolor": "#E5ECF6",
           "showlakes": true,
           "showland": true,
           "subunitcolor": "white"
          },
          "hoverlabel": {
           "align": "left"
          },
          "hovermode": "closest",
          "mapbox": {
           "style": "light"
          },
          "paper_bgcolor": "white",
          "plot_bgcolor": "#E5ECF6",
          "polar": {
           "angularaxis": {
            "gridcolor": "white",
            "linecolor": "white",
            "ticks": ""
           },
           "bgcolor": "#E5ECF6",
           "radialaxis": {
            "gridcolor": "white",
            "linecolor": "white",
            "ticks": ""
           }
          },
          "scene": {
           "xaxis": {
            "backgroundcolor": "#E5ECF6",
            "gridcolor": "white",
            "gridwidth": 2,
            "linecolor": "white",
            "showbackground": true,
            "ticks": "",
            "zerolinecolor": "white"
           },
           "yaxis": {
            "backgroundcolor": "#E5ECF6",
            "gridcolor": "white",
            "gridwidth": 2,
            "linecolor": "white",
            "showbackground": true,
            "ticks": "",
            "zerolinecolor": "white"
           },
           "zaxis": {
            "backgroundcolor": "#E5ECF6",
            "gridcolor": "white",
            "gridwidth": 2,
            "linecolor": "white",
            "showbackground": true,
            "ticks": "",
            "zerolinecolor": "white"
           }
          },
          "shapedefaults": {
           "line": {
            "color": "#2a3f5f"
           }
          },
          "ternary": {
           "aaxis": {
            "gridcolor": "white",
            "linecolor": "white",
            "ticks": ""
           },
           "baxis": {
            "gridcolor": "white",
            "linecolor": "white",
            "ticks": ""
           },
           "bgcolor": "#E5ECF6",
           "caxis": {
            "gridcolor": "white",
            "linecolor": "white",
            "ticks": ""
           }
          },
          "title": {
           "x": 0.05
          },
          "xaxis": {
           "automargin": true,
           "gridcolor": "white",
           "linecolor": "white",
           "ticks": "",
           "title": {
            "standoff": 15
           },
           "zerolinecolor": "white",
           "zerolinewidth": 2
          },
          "yaxis": {
           "automargin": true,
           "gridcolor": "white",
           "linecolor": "white",
           "ticks": "",
           "title": {
            "standoff": 15
           },
           "zerolinecolor": "white",
           "zerolinewidth": 2
          }
         }
        },
        "title": {
         "text": "Hyperparameter Importances"
        },
        "xaxis": {
         "title": {
          "text": "Hyperparameter Importance"
         }
        },
        "yaxis": {
         "title": {
          "text": "Hyperparameter"
         }
        }
       }
      }
     },
     "metadata": {},
     "output_type": "display_data"
    }
   ],
   "source": [
    "evaluator = MeanDecreaseImpurityImportanceEvaluator()\n",
    "plot_param_importances(study, evaluator=evaluator)"
   ]
  },
  {
   "cell_type": "code",
   "execution_count": 86,
   "metadata": {},
   "outputs": [
    {
     "data": {
      "application/vnd.plotly.v1+json": {
       "config": {
        "plotlyServerURL": "https://plot.ly"
       },
       "data": [
        {
         "mode": "markers",
         "name": "Objective Value",
         "type": "scatter",
         "x": [
          0,
          1,
          2,
          3,
          4,
          5,
          6,
          7,
          8,
          9,
          10,
          11,
          12,
          13,
          14,
          15,
          16,
          17,
          18,
          19,
          20,
          21,
          22,
          23,
          24,
          25,
          26,
          27,
          28,
          29,
          30,
          31,
          32,
          33,
          34,
          35,
          36,
          37,
          38,
          39,
          40,
          41,
          42,
          43,
          44,
          45,
          46,
          47,
          48,
          49,
          50,
          51,
          52,
          53,
          54,
          55,
          56,
          57,
          58,
          59,
          60,
          61,
          62,
          63,
          64,
          65,
          66,
          67,
          68,
          69,
          70,
          71,
          72,
          73,
          74,
          75,
          76,
          77,
          78,
          79,
          80,
          81,
          82,
          83,
          84,
          85,
          86,
          87,
          88,
          89,
          90,
          91,
          92,
          93,
          94,
          95,
          96,
          97,
          98,
          99,
          100,
          101,
          102,
          103,
          104,
          105,
          106,
          107,
          108,
          109,
          110,
          111,
          112,
          113,
          114,
          115,
          116,
          117,
          118,
          119,
          120,
          121,
          122,
          123,
          124,
          125,
          126,
          127,
          128,
          129,
          130,
          131,
          132,
          133,
          134,
          135,
          136,
          137,
          138,
          139,
          140,
          141,
          142,
          143,
          144,
          145,
          146,
          147,
          148,
          149,
          150,
          151,
          152,
          153,
          154,
          155,
          156,
          157,
          158,
          159,
          160,
          161,
          162,
          163,
          164,
          165,
          166,
          167,
          168,
          169,
          170,
          171,
          172,
          173,
          174,
          175,
          176,
          177,
          178,
          179,
          180,
          181,
          182,
          183,
          184,
          185,
          186,
          187,
          188,
          189,
          190,
          191,
          192,
          193,
          194,
          195,
          196,
          197,
          198,
          199,
          200,
          201,
          202,
          203,
          204,
          205,
          206,
          207,
          208,
          209,
          210,
          211,
          212,
          213,
          214,
          215,
          216,
          217,
          218,
          219,
          220,
          221,
          222,
          223,
          224,
          225,
          226,
          227,
          228,
          229,
          230,
          231,
          232,
          233,
          234,
          235,
          236,
          237,
          238,
          239,
          240,
          241,
          242,
          243,
          244,
          245,
          246,
          247,
          248,
          249,
          250,
          251,
          252,
          253,
          254,
          255,
          256,
          257,
          258,
          259,
          260,
          261,
          262,
          263,
          264,
          265,
          266,
          267,
          268,
          269,
          270,
          271,
          272,
          273,
          274,
          275,
          276,
          277,
          278,
          279,
          280,
          281,
          282,
          283,
          284,
          285,
          286,
          287,
          288,
          289,
          290,
          291,
          292,
          293,
          294,
          295,
          296,
          297,
          298,
          299,
          300,
          301,
          302,
          303,
          304,
          305,
          306,
          307,
          308,
          309,
          310,
          311,
          312,
          313,
          314,
          315,
          316,
          317,
          318,
          319,
          320,
          321,
          322,
          323,
          324,
          325,
          326,
          327,
          328,
          329,
          330,
          331,
          332,
          333,
          334,
          335,
          336,
          337,
          338,
          339,
          340,
          341,
          342,
          343,
          344,
          345,
          346,
          347,
          348,
          349,
          350,
          351,
          352,
          353,
          354,
          355,
          356,
          357,
          358,
          359,
          360,
          361,
          362,
          363,
          364,
          365,
          366,
          367,
          368,
          369,
          370,
          371,
          372,
          373,
          374,
          375,
          376,
          377,
          378,
          379,
          380,
          381,
          382,
          383,
          384,
          385,
          386,
          387,
          388,
          389,
          390,
          391,
          392,
          393,
          394,
          395,
          396,
          397,
          398,
          399
         ],
         "y": [
          0.5013418684830138,
          0.5013418684830138,
          0.5008601721044961,
          0.5015139029039131,
          0.5003784757259783,
          0.5005505101468775,
          0.5017547510931719,
          0.5005849170310572,
          0.5795354369884516,
          0.5000688137683597,
          0.5000344068841799,
          0.5005849170310572,
          0.5022364474716896,
          0.5015827166722727,
          0.5007913583361363,
          0.5031310264603654,
          0.6246249229173675,
          0.5002752550734387,
          0.5007569514519565,
          0.5006881376835968,
          0.7301875560600964,
          0.6937791862877004,
          0.5005161032626977,
          0.6794888370332997,
          0.5018923786298912,
          0.5000688137683597,
          0.5015827166722727,
          0.5009289858728556,
          0.5005849170310572,
          0.7262964598049109,
          0.5002752550734387,
          0.5001032206525395,
          0.5032686539970849,
          0.5016515304406324,
          0.5010322065253952,
          0.5011354271779348,
          0.5048513706693576,
          0.5011010202937549,
          0.500653730799417,
          0.5020644130507904,
          0.5003440688417984,
          0.6738552528310349,
          0.5020988199349703,
          0.5033374677654445,
          0.7327745893597937,
          0.5004128826101581,
          0.5009633927570355,
          0.5014794960197332,
          0.5034406884179841,
          0.5039567916806817,
          0.5016171235564525,
          0.6252174080614419,
          0.5004472894943379,
          0.7329089934409687,
          0.5001376275367194,
          0.5023396681242291,
          0.5031654333445453,
          0.5016171235564525,
          0.5015827166722727,
          0.5006193239152371,
          0.5003096619576186,
          0.6594559718017715,
          0.5014450891355533,
          0.5000344068841799,
          0.7272921221549501,
          0.5015827166722727,
          0.5003096619576186,
          0.5012386478304742,
          0.5015139029039131,
          0.5007913583361363,
          0.5001032206525395,
          0.5174336388608589,
          0.7219007175692342,
          0.5020644130507904,
          0.5029933989236461,
          0.5013762753671936,
          0.5008601721044961,
          0.5023052612400494,
          0.7149281379638973,
          0.5000688137683597,
          0.5001376275367194,
          0.5009977996412154,
          0.5002752550734387,
          0.6593427304069963,
          0.6818332001906042,
          0.5003096619576186,
          0.5001376275367194,
          0.717372743581119,
          0.5028557713869268,
          0.5020644130507904,
          0.5016171235564525,
          0.5020988199349703,
          0.5256205151922861,
          0.5008601721044961,
          0.637544883114699,
          0.5022020405875098,
          0.502614923197668,
          0.5010322065253952,
          0.5014794960197332,
          0.5009289858728556,
          0.502821364502747,
          0.5008257652203162,
          0.7185139869940577,
          0.7314725585828008,
          0.5003440688417984,
          0.5023396681242291,
          0.5002408481892588,
          0.5037847572597824,
          0.7274972670702993,
          0.501307461598834,
          0.5014794960197332,
          0.5020988199349703,
          0.5013418684830138,
          0.7399025255073439,
          0.739202720316179,
          0.5044384880591994,
          0.5033030608812648,
          0.7367764743805358,
          0.5036127228388834,
          0.5003096619576186,
          0.5005161032626977,
          0.5017891579773517,
          0.7337910289830698,
          0.5003440688417984,
          0.5003784757259783,
          0.7359677374145084,
          0.5031998402287252,
          0.5002408481892588,
          0.5031654333445453,
          0.7399283832268191,
          0.5003784757259783,
          0.7371320705796613,
          0.5026837369660275,
          0.5005161032626977,
          0.7203737456553425,
          0.7355329913667452,
          0.5022708543558695,
          0.5001032206525395,
          0.5014106822513735,
          0.5011010202937549,
          0.7331617544007176,
          0.7328110634600291,
          0.7428501653772844,
          0.5027525507343873,
          0.5039911985648615,
          0.7433180919946183,
          0.5010322065253952,
          0.5005161032626977,
          0.7413837033299697,
          0.5,
          0.5023396681242291,
          0.7336942202040587,
          0.5005849170310572,
          0.5012042409462945,
          0.5027525507343873,
          0.738675580221998,
          0.5002408481892588,
          0.7457693897858504,
          0.5062964598049109,
          0.5027181438502074,
          0.5019955992824308,
          0.6691861475501738,
          0.7383958053032851,
          0.7444975613858056,
          0.503234247112905,
          0.5017547510931719,
          0.5013762753671936,
          0.740070986097096,
          0.5003440688417984,
          0.5033374677654445,
          0.5008601721044961,
          0.7356594769593003,
          0.7374118454983742,
          0.5020988199349703,
          0.5034750953021639,
          0.7131340396905483,
          0.5,
          0.5029933989236461,
          0.5036471297230631,
          0.5012042409462945,
          0.7378535289830699,
          0.7377766916134096,
          0.7409199812198677,
          0.5017547510931719,
          0.7407572667899989,
          0.502374075008409,
          0.7434595736629667,
          0.5011698340621146,
          0.502821364502747,
          0.5012042409462945,
          0.5040600123332212,
          0.7359427205964795,
          0.7256609485368315,
          0.7369109835743918,
          0.5009633927570355,
          0.5020644130507904,
          0.5011010202937549,
          0.5020300061666105,
          0.7397921571925103,
          0.5034750953021639,
          0.6242140024105842,
          0.5954053845722616,
          0.6553876555667675,
          0.5818570958067049,
          0.6096507806368427,
          0.6627084034084538,
          0.5040944192174011,
          0.6543745795492768,
          0.6509113269424823,
          0.636328519172553,
          0.6841201367866352,
          0.6943523306985088,
          0.5017891579773517,
          0.7015382189707366,
          0.6904675412041709,
          0.5022708543558695,
          0.7372545268527861,
          0.7391535275815675,
          0.6944523979706245,
          0.6406905903128153,
          0.6030399638412378,
          0.6826763090032515,
          0.742671333669694,
          0.688017995290952,
          0.7426940730463056,
          0.7399421179504428,
          0.5044040811750196,
          0.7399502817019845,
          0.5855239867137572,
          0.7345753447695931,
          0.5192202390963112,
          0.7045081777665658,
          0.7045197401614531,
          0.7373095708599618,
          0.7387233714541989,
          0.7409352575961431,
          0.6287509810516874,
          0.7370234191052809,
          0.6889585785962552,
          0.6966610956945846,
          0.505608322121314,
          0.7011641229397915,
          0.7383784617109541,
          0.7396633591209776,
          0.7354293853010427,
          0.6806079717457114,
          0.7410442594461262,
          0.7343740189483126,
          0.6584390066150914,
          0.7202869926561273,
          0.6393055905931158,
          0.7403240974324476,
          0.6757765024105842,
          0.7372428943827783,
          0.6996146218746496,
          0.5040137977912322,
          0.7008665489404642,
          0.6224619141719924,
          0.6917774203946631,
          0.6946204731472139,
          0.6362117039466308,
          0.740177570355421,
          0.7363913765556677,
          0.7387305191164929,
          0.6636947808050231,
          0.70047006390851,
          0.7478363605785402,
          0.5031654333445453,
          0.68785223259334,
          0.5018579717457115,
          0.6287102323690996,
          0.6848516860073999,
          0.7427399021751317,
          0.5027525507343873,
          0.6759844503307546,
          0.7426041666666667,
          0.62688162209889,
          0.6487830404193295,
          0.5012386478304742,
          0.7401766243412939,
          0.7126791820831933,
          0.7048845162013679,
          0.5419280819038008,
          0.6582661312927458,
          0.7422014799865455,
          0.5048857775535374,
          0.669677689483126,
          0.7398085547707142,
          0.6980952180737751,
          0.5955428719587398,
          0.7426726650969839,
          0.66393009305976,
          0.6611614600852114,
          0.7393056957057966,
          0.5727337005269649,
          0.708316340116605,
          0.7408072653884965,
          0.7406053789662518,
          0.7372325583025003,
          0.5901598763874873,
          0.6722950653100124,
          0.7446515865007288,
          0.559011660500056,
          0.6945807755914339,
          0.7346685446798968,
          0.5013762753671936,
          0.7045397115708039,
          0.6113961416638636,
          0.704465431943043,
          0.6977078077699294,
          0.7442550664312142,
          0.6587494393990359,
          0.7373884754456778,
          0.6930861083081064,
          0.5851390991142504,
          0.7425616661060657,
          0.5003096619576186,
          0.7099788022760398,
          0.7395138538513286,
          0.6307678481331989,
          0.7420231037672385,
          0.7103266902119072,
          0.6224751934073327,
          0.5025117025451284,
          0.6920032024330083,
          0.6932458795829128,
          0.5002064413050791,
          0.7421977660051575,
          0.7398939763426393,
          0.5238781323578876,
          0.6909809465747281,
          0.5000688137683597,
          0.6316608504316628,
          0.7012332870837539,
          0.5016171235564525,
          0.7388275731584258,
          0.5029245851552865,
          0.7363540615539859,
          0.6643637529431551,
          0.7165661088687072,
          0.740029256362821,
          0.5918468298015472,
          0.6137396288821617,
          0.5029245851552865,
          0.745639435474829,
          0.699703266902119,
          0.6113570397466084,
          0.7443821126247336,
          0.598903990077363,
          0.699175846507456,
          0.5946179154053145,
          0.684204332043951,
          0.7062402595582464,
          0.5179223077138693,
          0.7426730855477071,
          0.5034750953021639,
          0.5024772956609486,
          0.6981336192398251,
          0.735122070859962,
          0.5419324966363942,
          0.6889208081062899,
          0.7388258212804126,
          0.5023052612400494,
          0.7043281197443659,
          0.7378337677990807,
          0.6474742473932056,
          0.5028557713869268,
          0.7096841363942146,
          0.6212456553425272,
          0.7196232761520349,
          0.6076594909743245,
          0.7451485242179616,
          0.7382925145756252,
          0.6853190169862092,
          0.6633910752326494,
          0.7045454577306873,
          0.7408534448929252,
          0.5029245851552865,
          0.7367382834398475,
          0.6915238886085884,
          0.6166602898306985,
          0.5058835771947527,
          0.6963738577755354,
          0.700746019733154,
          0.7360476230519117,
          0.5561049445005045,
          0.7432601749075008,
          0.7082836150353178,
          0.501066613409575,
          0.6358735914900773,
          0.6738235438389955,
          0.7409474506671152,
          0.5263031169413611,
          0.7096719082856822,
          0.5008945789886758,
          0.5011010202937549,
          0.7138601931270322,
          0.7365892686960421,
          0.5450019621033748,
          0.7413287994730351
         ]
        },
        {
         "mode": "lines",
         "name": "Best Value",
         "type": "scatter",
         "x": [
          0,
          1,
          2,
          3,
          4,
          5,
          6,
          7,
          8,
          9,
          10,
          11,
          12,
          13,
          14,
          15,
          16,
          17,
          18,
          19,
          20,
          21,
          22,
          23,
          24,
          25,
          26,
          27,
          28,
          29,
          30,
          31,
          32,
          33,
          34,
          35,
          36,
          37,
          38,
          39,
          40,
          41,
          42,
          43,
          44,
          45,
          46,
          47,
          48,
          49,
          50,
          51,
          52,
          53,
          54,
          55,
          56,
          57,
          58,
          59,
          60,
          61,
          62,
          63,
          64,
          65,
          66,
          67,
          68,
          69,
          70,
          71,
          72,
          73,
          74,
          75,
          76,
          77,
          78,
          79,
          80,
          81,
          82,
          83,
          84,
          85,
          86,
          87,
          88,
          89,
          90,
          91,
          92,
          93,
          94,
          95,
          96,
          97,
          98,
          99,
          100,
          101,
          102,
          103,
          104,
          105,
          106,
          107,
          108,
          109,
          110,
          111,
          112,
          113,
          114,
          115,
          116,
          117,
          118,
          119,
          120,
          121,
          122,
          123,
          124,
          125,
          126,
          127,
          128,
          129,
          130,
          131,
          132,
          133,
          134,
          135,
          136,
          137,
          138,
          139,
          140,
          141,
          142,
          143,
          144,
          145,
          146,
          147,
          148,
          149,
          150,
          151,
          152,
          153,
          154,
          155,
          156,
          157,
          158,
          159,
          160,
          161,
          162,
          163,
          164,
          165,
          166,
          167,
          168,
          169,
          170,
          171,
          172,
          173,
          174,
          175,
          176,
          177,
          178,
          179,
          180,
          181,
          182,
          183,
          184,
          185,
          186,
          187,
          188,
          189,
          190,
          191,
          192,
          193,
          194,
          195,
          196,
          197,
          198,
          199,
          200,
          201,
          202,
          203,
          204,
          205,
          206,
          207,
          208,
          209,
          210,
          211,
          212,
          213,
          214,
          215,
          216,
          217,
          218,
          219,
          220,
          221,
          222,
          223,
          224,
          225,
          226,
          227,
          228,
          229,
          230,
          231,
          232,
          233,
          234,
          235,
          236,
          237,
          238,
          239,
          240,
          241,
          242,
          243,
          244,
          245,
          246,
          247,
          248,
          249,
          250,
          251,
          252,
          253,
          254,
          255,
          256,
          257,
          258,
          259,
          260,
          261,
          262,
          263,
          264,
          265,
          266,
          267,
          268,
          269,
          270,
          271,
          272,
          273,
          274,
          275,
          276,
          277,
          278,
          279,
          280,
          281,
          282,
          283,
          284,
          285,
          286,
          287,
          288,
          289,
          290,
          291,
          292,
          293,
          294,
          295,
          296,
          297,
          298,
          299,
          300,
          301,
          302,
          303,
          304,
          305,
          306,
          307,
          308,
          309,
          310,
          311,
          312,
          313,
          314,
          315,
          316,
          317,
          318,
          319,
          320,
          321,
          322,
          323,
          324,
          325,
          326,
          327,
          328,
          329,
          330,
          331,
          332,
          333,
          334,
          335,
          336,
          337,
          338,
          339,
          340,
          341,
          342,
          343,
          344,
          345,
          346,
          347,
          348,
          349,
          350,
          351,
          352,
          353,
          354,
          355,
          356,
          357,
          358,
          359,
          360,
          361,
          362,
          363,
          364,
          365,
          366,
          367,
          368,
          369,
          370,
          371,
          372,
          373,
          374,
          375,
          376,
          377,
          378,
          379,
          380,
          381,
          382,
          383,
          384,
          385,
          386,
          387,
          388,
          389,
          390,
          391,
          392,
          393,
          394,
          395,
          396,
          397,
          398,
          399
         ],
         "y": [
          0.5013418684830138,
          0.5013418684830138,
          0.5013418684830138,
          0.5015139029039131,
          0.5015139029039131,
          0.5015139029039131,
          0.5017547510931719,
          0.5017547510931719,
          0.5795354369884516,
          0.5795354369884516,
          0.5795354369884516,
          0.5795354369884516,
          0.5795354369884516,
          0.5795354369884516,
          0.5795354369884516,
          0.5795354369884516,
          0.6246249229173675,
          0.6246249229173675,
          0.6246249229173675,
          0.6246249229173675,
          0.7301875560600964,
          0.7301875560600964,
          0.7301875560600964,
          0.7301875560600964,
          0.7301875560600964,
          0.7301875560600964,
          0.7301875560600964,
          0.7301875560600964,
          0.7301875560600964,
          0.7301875560600964,
          0.7301875560600964,
          0.7301875560600964,
          0.7301875560600964,
          0.7301875560600964,
          0.7301875560600964,
          0.7301875560600964,
          0.7301875560600964,
          0.7301875560600964,
          0.7301875560600964,
          0.7301875560600964,
          0.7301875560600964,
          0.7301875560600964,
          0.7301875560600964,
          0.7301875560600964,
          0.7327745893597937,
          0.7327745893597937,
          0.7327745893597937,
          0.7327745893597937,
          0.7327745893597937,
          0.7327745893597937,
          0.7327745893597937,
          0.7327745893597937,
          0.7327745893597937,
          0.7329089934409687,
          0.7329089934409687,
          0.7329089934409687,
          0.7329089934409687,
          0.7329089934409687,
          0.7329089934409687,
          0.7329089934409687,
          0.7329089934409687,
          0.7329089934409687,
          0.7329089934409687,
          0.7329089934409687,
          0.7329089934409687,
          0.7329089934409687,
          0.7329089934409687,
          0.7329089934409687,
          0.7329089934409687,
          0.7329089934409687,
          0.7329089934409687,
          0.7329089934409687,
          0.7329089934409687,
          0.7329089934409687,
          0.7329089934409687,
          0.7329089934409687,
          0.7329089934409687,
          0.7329089934409687,
          0.7329089934409687,
          0.7329089934409687,
          0.7329089934409687,
          0.7329089934409687,
          0.7329089934409687,
          0.7329089934409687,
          0.7329089934409687,
          0.7329089934409687,
          0.7329089934409687,
          0.7329089934409687,
          0.7329089934409687,
          0.7329089934409687,
          0.7329089934409687,
          0.7329089934409687,
          0.7329089934409687,
          0.7329089934409687,
          0.7329089934409687,
          0.7329089934409687,
          0.7329089934409687,
          0.7329089934409687,
          0.7329089934409687,
          0.7329089934409687,
          0.7329089934409687,
          0.7329089934409687,
          0.7329089934409687,
          0.7329089934409687,
          0.7329089934409687,
          0.7329089934409687,
          0.7329089934409687,
          0.7329089934409687,
          0.7329089934409687,
          0.7329089934409687,
          0.7329089934409687,
          0.7329089934409687,
          0.7329089934409687,
          0.7399025255073439,
          0.7399025255073439,
          0.7399025255073439,
          0.7399025255073439,
          0.7399025255073439,
          0.7399025255073439,
          0.7399025255073439,
          0.7399025255073439,
          0.7399025255073439,
          0.7399025255073439,
          0.7399025255073439,
          0.7399025255073439,
          0.7399025255073439,
          0.7399025255073439,
          0.7399025255073439,
          0.7399025255073439,
          0.7399283832268191,
          0.7399283832268191,
          0.7399283832268191,
          0.7399283832268191,
          0.7399283832268191,
          0.7399283832268191,
          0.7399283832268191,
          0.7399283832268191,
          0.7399283832268191,
          0.7399283832268191,
          0.7399283832268191,
          0.7399283832268191,
          0.7399283832268191,
          0.7428501653772844,
          0.7428501653772844,
          0.7428501653772844,
          0.7433180919946183,
          0.7433180919946183,
          0.7433180919946183,
          0.7433180919946183,
          0.7433180919946183,
          0.7433180919946183,
          0.7433180919946183,
          0.7433180919946183,
          0.7433180919946183,
          0.7433180919946183,
          0.7433180919946183,
          0.7433180919946183,
          0.7457693897858504,
          0.7457693897858504,
          0.7457693897858504,
          0.7457693897858504,
          0.7457693897858504,
          0.7457693897858504,
          0.7457693897858504,
          0.7457693897858504,
          0.7457693897858504,
          0.7457693897858504,
          0.7457693897858504,
          0.7457693897858504,
          0.7457693897858504,
          0.7457693897858504,
          0.7457693897858504,
          0.7457693897858504,
          0.7457693897858504,
          0.7457693897858504,
          0.7457693897858504,
          0.7457693897858504,
          0.7457693897858504,
          0.7457693897858504,
          0.7457693897858504,
          0.7457693897858504,
          0.7457693897858504,
          0.7457693897858504,
          0.7457693897858504,
          0.7457693897858504,
          0.7457693897858504,
          0.7457693897858504,
          0.7457693897858504,
          0.7457693897858504,
          0.7457693897858504,
          0.7457693897858504,
          0.7457693897858504,
          0.7457693897858504,
          0.7457693897858504,
          0.7457693897858504,
          0.7457693897858504,
          0.7457693897858504,
          0.7457693897858504,
          0.7457693897858504,
          0.7457693897858504,
          0.7457693897858504,
          0.7457693897858504,
          0.7457693897858504,
          0.7457693897858504,
          0.7457693897858504,
          0.7457693897858504,
          0.7457693897858504,
          0.7457693897858504,
          0.7457693897858504,
          0.7457693897858504,
          0.7457693897858504,
          0.7457693897858504,
          0.7457693897858504,
          0.7457693897858504,
          0.7457693897858504,
          0.7457693897858504,
          0.7457693897858504,
          0.7457693897858504,
          0.7457693897858504,
          0.7457693897858504,
          0.7457693897858504,
          0.7457693897858504,
          0.7457693897858504,
          0.7457693897858504,
          0.7457693897858504,
          0.7457693897858504,
          0.7457693897858504,
          0.7457693897858504,
          0.7457693897858504,
          0.7457693897858504,
          0.7457693897858504,
          0.7457693897858504,
          0.7457693897858504,
          0.7457693897858504,
          0.7457693897858504,
          0.7457693897858504,
          0.7457693897858504,
          0.7457693897858504,
          0.7457693897858504,
          0.7457693897858504,
          0.7457693897858504,
          0.7457693897858504,
          0.7457693897858504,
          0.7457693897858504,
          0.7457693897858504,
          0.7457693897858504,
          0.7457693897858504,
          0.7457693897858504,
          0.7457693897858504,
          0.7457693897858504,
          0.7457693897858504,
          0.7457693897858504,
          0.7457693897858504,
          0.7457693897858504,
          0.7457693897858504,
          0.7457693897858504,
          0.7457693897858504,
          0.7457693897858504,
          0.7457693897858504,
          0.7457693897858504,
          0.7457693897858504,
          0.7457693897858504,
          0.7457693897858504,
          0.7457693897858504,
          0.7457693897858504,
          0.7457693897858504,
          0.7478363605785402,
          0.7478363605785402,
          0.7478363605785402,
          0.7478363605785402,
          0.7478363605785402,
          0.7478363605785402,
          0.7478363605785402,
          0.7478363605785402,
          0.7478363605785402,
          0.7478363605785402,
          0.7478363605785402,
          0.7478363605785402,
          0.7478363605785402,
          0.7478363605785402,
          0.7478363605785402,
          0.7478363605785402,
          0.7478363605785402,
          0.7478363605785402,
          0.7478363605785402,
          0.7478363605785402,
          0.7478363605785402,
          0.7478363605785402,
          0.7478363605785402,
          0.7478363605785402,
          0.7478363605785402,
          0.7478363605785402,
          0.7478363605785402,
          0.7478363605785402,
          0.7478363605785402,
          0.7478363605785402,
          0.7478363605785402,
          0.7478363605785402,
          0.7478363605785402,
          0.7478363605785402,
          0.7478363605785402,
          0.7478363605785402,
          0.7478363605785402,
          0.7478363605785402,
          0.7478363605785402,
          0.7478363605785402,
          0.7478363605785402,
          0.7478363605785402,
          0.7478363605785402,
          0.7478363605785402,
          0.7478363605785402,
          0.7478363605785402,
          0.7478363605785402,
          0.7478363605785402,
          0.7478363605785402,
          0.7478363605785402,
          0.7478363605785402,
          0.7478363605785402,
          0.7478363605785402,
          0.7478363605785402,
          0.7478363605785402,
          0.7478363605785402,
          0.7478363605785402,
          0.7478363605785402,
          0.7478363605785402,
          0.7478363605785402,
          0.7478363605785402,
          0.7478363605785402,
          0.7478363605785402,
          0.7478363605785402,
          0.7478363605785402,
          0.7478363605785402,
          0.7478363605785402,
          0.7478363605785402,
          0.7478363605785402,
          0.7478363605785402,
          0.7478363605785402,
          0.7478363605785402,
          0.7478363605785402,
          0.7478363605785402,
          0.7478363605785402,
          0.7478363605785402,
          0.7478363605785402,
          0.7478363605785402,
          0.7478363605785402,
          0.7478363605785402,
          0.7478363605785402,
          0.7478363605785402,
          0.7478363605785402,
          0.7478363605785402,
          0.7478363605785402,
          0.7478363605785402,
          0.7478363605785402,
          0.7478363605785402,
          0.7478363605785402,
          0.7478363605785402,
          0.7478363605785402,
          0.7478363605785402,
          0.7478363605785402,
          0.7478363605785402,
          0.7478363605785402,
          0.7478363605785402,
          0.7478363605785402,
          0.7478363605785402,
          0.7478363605785402,
          0.7478363605785402,
          0.7478363605785402,
          0.7478363605785402,
          0.7478363605785402,
          0.7478363605785402,
          0.7478363605785402,
          0.7478363605785402,
          0.7478363605785402,
          0.7478363605785402,
          0.7478363605785402,
          0.7478363605785402,
          0.7478363605785402,
          0.7478363605785402,
          0.7478363605785402,
          0.7478363605785402,
          0.7478363605785402,
          0.7478363605785402,
          0.7478363605785402,
          0.7478363605785402,
          0.7478363605785402,
          0.7478363605785402,
          0.7478363605785402,
          0.7478363605785402,
          0.7478363605785402,
          0.7478363605785402,
          0.7478363605785402,
          0.7478363605785402,
          0.7478363605785402,
          0.7478363605785402,
          0.7478363605785402,
          0.7478363605785402,
          0.7478363605785402,
          0.7478363605785402,
          0.7478363605785402,
          0.7478363605785402
         ]
        },
        {
         "marker": {
          "color": "#cccccc"
         },
         "mode": "markers",
         "name": "Infeasible Trial",
         "showlegend": false,
         "type": "scatter",
         "x": [],
         "y": []
        }
       ],
       "layout": {
        "template": {
         "data": {
          "bar": [
           {
            "error_x": {
             "color": "#2a3f5f"
            },
            "error_y": {
             "color": "#2a3f5f"
            },
            "marker": {
             "line": {
              "color": "#E5ECF6",
              "width": 0.5
             },
             "pattern": {
              "fillmode": "overlay",
              "size": 10,
              "solidity": 0.2
             }
            },
            "type": "bar"
           }
          ],
          "barpolar": [
           {
            "marker": {
             "line": {
              "color": "#E5ECF6",
              "width": 0.5
             },
             "pattern": {
              "fillmode": "overlay",
              "size": 10,
              "solidity": 0.2
             }
            },
            "type": "barpolar"
           }
          ],
          "carpet": [
           {
            "aaxis": {
             "endlinecolor": "#2a3f5f",
             "gridcolor": "white",
             "linecolor": "white",
             "minorgridcolor": "white",
             "startlinecolor": "#2a3f5f"
            },
            "baxis": {
             "endlinecolor": "#2a3f5f",
             "gridcolor": "white",
             "linecolor": "white",
             "minorgridcolor": "white",
             "startlinecolor": "#2a3f5f"
            },
            "type": "carpet"
           }
          ],
          "choropleth": [
           {
            "colorbar": {
             "outlinewidth": 0,
             "ticks": ""
            },
            "type": "choropleth"
           }
          ],
          "contour": [
           {
            "colorbar": {
             "outlinewidth": 0,
             "ticks": ""
            },
            "colorscale": [
             [
              0,
              "#0d0887"
             ],
             [
              0.1111111111111111,
              "#46039f"
             ],
             [
              0.2222222222222222,
              "#7201a8"
             ],
             [
              0.3333333333333333,
              "#9c179e"
             ],
             [
              0.4444444444444444,
              "#bd3786"
             ],
             [
              0.5555555555555556,
              "#d8576b"
             ],
             [
              0.6666666666666666,
              "#ed7953"
             ],
             [
              0.7777777777777778,
              "#fb9f3a"
             ],
             [
              0.8888888888888888,
              "#fdca26"
             ],
             [
              1,
              "#f0f921"
             ]
            ],
            "type": "contour"
           }
          ],
          "contourcarpet": [
           {
            "colorbar": {
             "outlinewidth": 0,
             "ticks": ""
            },
            "type": "contourcarpet"
           }
          ],
          "heatmap": [
           {
            "colorbar": {
             "outlinewidth": 0,
             "ticks": ""
            },
            "colorscale": [
             [
              0,
              "#0d0887"
             ],
             [
              0.1111111111111111,
              "#46039f"
             ],
             [
              0.2222222222222222,
              "#7201a8"
             ],
             [
              0.3333333333333333,
              "#9c179e"
             ],
             [
              0.4444444444444444,
              "#bd3786"
             ],
             [
              0.5555555555555556,
              "#d8576b"
             ],
             [
              0.6666666666666666,
              "#ed7953"
             ],
             [
              0.7777777777777778,
              "#fb9f3a"
             ],
             [
              0.8888888888888888,
              "#fdca26"
             ],
             [
              1,
              "#f0f921"
             ]
            ],
            "type": "heatmap"
           }
          ],
          "heatmapgl": [
           {
            "colorbar": {
             "outlinewidth": 0,
             "ticks": ""
            },
            "colorscale": [
             [
              0,
              "#0d0887"
             ],
             [
              0.1111111111111111,
              "#46039f"
             ],
             [
              0.2222222222222222,
              "#7201a8"
             ],
             [
              0.3333333333333333,
              "#9c179e"
             ],
             [
              0.4444444444444444,
              "#bd3786"
             ],
             [
              0.5555555555555556,
              "#d8576b"
             ],
             [
              0.6666666666666666,
              "#ed7953"
             ],
             [
              0.7777777777777778,
              "#fb9f3a"
             ],
             [
              0.8888888888888888,
              "#fdca26"
             ],
             [
              1,
              "#f0f921"
             ]
            ],
            "type": "heatmapgl"
           }
          ],
          "histogram": [
           {
            "marker": {
             "pattern": {
              "fillmode": "overlay",
              "size": 10,
              "solidity": 0.2
             }
            },
            "type": "histogram"
           }
          ],
          "histogram2d": [
           {
            "colorbar": {
             "outlinewidth": 0,
             "ticks": ""
            },
            "colorscale": [
             [
              0,
              "#0d0887"
             ],
             [
              0.1111111111111111,
              "#46039f"
             ],
             [
              0.2222222222222222,
              "#7201a8"
             ],
             [
              0.3333333333333333,
              "#9c179e"
             ],
             [
              0.4444444444444444,
              "#bd3786"
             ],
             [
              0.5555555555555556,
              "#d8576b"
             ],
             [
              0.6666666666666666,
              "#ed7953"
             ],
             [
              0.7777777777777778,
              "#fb9f3a"
             ],
             [
              0.8888888888888888,
              "#fdca26"
             ],
             [
              1,
              "#f0f921"
             ]
            ],
            "type": "histogram2d"
           }
          ],
          "histogram2dcontour": [
           {
            "colorbar": {
             "outlinewidth": 0,
             "ticks": ""
            },
            "colorscale": [
             [
              0,
              "#0d0887"
             ],
             [
              0.1111111111111111,
              "#46039f"
             ],
             [
              0.2222222222222222,
              "#7201a8"
             ],
             [
              0.3333333333333333,
              "#9c179e"
             ],
             [
              0.4444444444444444,
              "#bd3786"
             ],
             [
              0.5555555555555556,
              "#d8576b"
             ],
             [
              0.6666666666666666,
              "#ed7953"
             ],
             [
              0.7777777777777778,
              "#fb9f3a"
             ],
             [
              0.8888888888888888,
              "#fdca26"
             ],
             [
              1,
              "#f0f921"
             ]
            ],
            "type": "histogram2dcontour"
           }
          ],
          "mesh3d": [
           {
            "colorbar": {
             "outlinewidth": 0,
             "ticks": ""
            },
            "type": "mesh3d"
           }
          ],
          "parcoords": [
           {
            "line": {
             "colorbar": {
              "outlinewidth": 0,
              "ticks": ""
             }
            },
            "type": "parcoords"
           }
          ],
          "pie": [
           {
            "automargin": true,
            "type": "pie"
           }
          ],
          "scatter": [
           {
            "fillpattern": {
             "fillmode": "overlay",
             "size": 10,
             "solidity": 0.2
            },
            "type": "scatter"
           }
          ],
          "scatter3d": [
           {
            "line": {
             "colorbar": {
              "outlinewidth": 0,
              "ticks": ""
             }
            },
            "marker": {
             "colorbar": {
              "outlinewidth": 0,
              "ticks": ""
             }
            },
            "type": "scatter3d"
           }
          ],
          "scattercarpet": [
           {
            "marker": {
             "colorbar": {
              "outlinewidth": 0,
              "ticks": ""
             }
            },
            "type": "scattercarpet"
           }
          ],
          "scattergeo": [
           {
            "marker": {
             "colorbar": {
              "outlinewidth": 0,
              "ticks": ""
             }
            },
            "type": "scattergeo"
           }
          ],
          "scattergl": [
           {
            "marker": {
             "colorbar": {
              "outlinewidth": 0,
              "ticks": ""
             }
            },
            "type": "scattergl"
           }
          ],
          "scattermapbox": [
           {
            "marker": {
             "colorbar": {
              "outlinewidth": 0,
              "ticks": ""
             }
            },
            "type": "scattermapbox"
           }
          ],
          "scatterpolar": [
           {
            "marker": {
             "colorbar": {
              "outlinewidth": 0,
              "ticks": ""
             }
            },
            "type": "scatterpolar"
           }
          ],
          "scatterpolargl": [
           {
            "marker": {
             "colorbar": {
              "outlinewidth": 0,
              "ticks": ""
             }
            },
            "type": "scatterpolargl"
           }
          ],
          "scatterternary": [
           {
            "marker": {
             "colorbar": {
              "outlinewidth": 0,
              "ticks": ""
             }
            },
            "type": "scatterternary"
           }
          ],
          "surface": [
           {
            "colorbar": {
             "outlinewidth": 0,
             "ticks": ""
            },
            "colorscale": [
             [
              0,
              "#0d0887"
             ],
             [
              0.1111111111111111,
              "#46039f"
             ],
             [
              0.2222222222222222,
              "#7201a8"
             ],
             [
              0.3333333333333333,
              "#9c179e"
             ],
             [
              0.4444444444444444,
              "#bd3786"
             ],
             [
              0.5555555555555556,
              "#d8576b"
             ],
             [
              0.6666666666666666,
              "#ed7953"
             ],
             [
              0.7777777777777778,
              "#fb9f3a"
             ],
             [
              0.8888888888888888,
              "#fdca26"
             ],
             [
              1,
              "#f0f921"
             ]
            ],
            "type": "surface"
           }
          ],
          "table": [
           {
            "cells": {
             "fill": {
              "color": "#EBF0F8"
             },
             "line": {
              "color": "white"
             }
            },
            "header": {
             "fill": {
              "color": "#C8D4E3"
             },
             "line": {
              "color": "white"
             }
            },
            "type": "table"
           }
          ]
         },
         "layout": {
          "annotationdefaults": {
           "arrowcolor": "#2a3f5f",
           "arrowhead": 0,
           "arrowwidth": 1
          },
          "autotypenumbers": "strict",
          "coloraxis": {
           "colorbar": {
            "outlinewidth": 0,
            "ticks": ""
           }
          },
          "colorscale": {
           "diverging": [
            [
             0,
             "#8e0152"
            ],
            [
             0.1,
             "#c51b7d"
            ],
            [
             0.2,
             "#de77ae"
            ],
            [
             0.3,
             "#f1b6da"
            ],
            [
             0.4,
             "#fde0ef"
            ],
            [
             0.5,
             "#f7f7f7"
            ],
            [
             0.6,
             "#e6f5d0"
            ],
            [
             0.7,
             "#b8e186"
            ],
            [
             0.8,
             "#7fbc41"
            ],
            [
             0.9,
             "#4d9221"
            ],
            [
             1,
             "#276419"
            ]
           ],
           "sequential": [
            [
             0,
             "#0d0887"
            ],
            [
             0.1111111111111111,
             "#46039f"
            ],
            [
             0.2222222222222222,
             "#7201a8"
            ],
            [
             0.3333333333333333,
             "#9c179e"
            ],
            [
             0.4444444444444444,
             "#bd3786"
            ],
            [
             0.5555555555555556,
             "#d8576b"
            ],
            [
             0.6666666666666666,
             "#ed7953"
            ],
            [
             0.7777777777777778,
             "#fb9f3a"
            ],
            [
             0.8888888888888888,
             "#fdca26"
            ],
            [
             1,
             "#f0f921"
            ]
           ],
           "sequentialminus": [
            [
             0,
             "#0d0887"
            ],
            [
             0.1111111111111111,
             "#46039f"
            ],
            [
             0.2222222222222222,
             "#7201a8"
            ],
            [
             0.3333333333333333,
             "#9c179e"
            ],
            [
             0.4444444444444444,
             "#bd3786"
            ],
            [
             0.5555555555555556,
             "#d8576b"
            ],
            [
             0.6666666666666666,
             "#ed7953"
            ],
            [
             0.7777777777777778,
             "#fb9f3a"
            ],
            [
             0.8888888888888888,
             "#fdca26"
            ],
            [
             1,
             "#f0f921"
            ]
           ]
          },
          "colorway": [
           "#636efa",
           "#EF553B",
           "#00cc96",
           "#ab63fa",
           "#FFA15A",
           "#19d3f3",
           "#FF6692",
           "#B6E880",
           "#FF97FF",
           "#FECB52"
          ],
          "font": {
           "color": "#2a3f5f"
          },
          "geo": {
           "bgcolor": "white",
           "lakecolor": "white",
           "landcolor": "#E5ECF6",
           "showlakes": true,
           "showland": true,
           "subunitcolor": "white"
          },
          "hoverlabel": {
           "align": "left"
          },
          "hovermode": "closest",
          "mapbox": {
           "style": "light"
          },
          "paper_bgcolor": "white",
          "plot_bgcolor": "#E5ECF6",
          "polar": {
           "angularaxis": {
            "gridcolor": "white",
            "linecolor": "white",
            "ticks": ""
           },
           "bgcolor": "#E5ECF6",
           "radialaxis": {
            "gridcolor": "white",
            "linecolor": "white",
            "ticks": ""
           }
          },
          "scene": {
           "xaxis": {
            "backgroundcolor": "#E5ECF6",
            "gridcolor": "white",
            "gridwidth": 2,
            "linecolor": "white",
            "showbackground": true,
            "ticks": "",
            "zerolinecolor": "white"
           },
           "yaxis": {
            "backgroundcolor": "#E5ECF6",
            "gridcolor": "white",
            "gridwidth": 2,
            "linecolor": "white",
            "showbackground": true,
            "ticks": "",
            "zerolinecolor": "white"
           },
           "zaxis": {
            "backgroundcolor": "#E5ECF6",
            "gridcolor": "white",
            "gridwidth": 2,
            "linecolor": "white",
            "showbackground": true,
            "ticks": "",
            "zerolinecolor": "white"
           }
          },
          "shapedefaults": {
           "line": {
            "color": "#2a3f5f"
           }
          },
          "ternary": {
           "aaxis": {
            "gridcolor": "white",
            "linecolor": "white",
            "ticks": ""
           },
           "baxis": {
            "gridcolor": "white",
            "linecolor": "white",
            "ticks": ""
           },
           "bgcolor": "#E5ECF6",
           "caxis": {
            "gridcolor": "white",
            "linecolor": "white",
            "ticks": ""
           }
          },
          "title": {
           "x": 0.05
          },
          "xaxis": {
           "automargin": true,
           "gridcolor": "white",
           "linecolor": "white",
           "ticks": "",
           "title": {
            "standoff": 15
           },
           "zerolinecolor": "white",
           "zerolinewidth": 2
          },
          "yaxis": {
           "automargin": true,
           "gridcolor": "white",
           "linecolor": "white",
           "ticks": "",
           "title": {
            "standoff": 15
           },
           "zerolinecolor": "white",
           "zerolinewidth": 2
          }
         }
        },
        "title": {
         "text": "Optimization History Plot"
        },
        "xaxis": {
         "title": {
          "text": "Trial"
         }
        },
        "yaxis": {
         "title": {
          "text": "Objective Value"
         }
        }
       }
      }
     },
     "metadata": {},
     "output_type": "display_data"
    }
   ],
   "source": [
    "plot_optimization_history(study)"
   ]
  },
  {
   "cell_type": "code",
   "execution_count": 89,
   "metadata": {},
   "outputs": [
    {
     "name": "stdout",
     "output_type": "stream",
     "text": [
      "ExtraTreesClassifier\n",
      "training time: 2.361729145050049\n",
      "train acc: 0.7414583333333333\n",
      "test acc: 0.7293504036326942\n",
      "eval time: 17.723459720611572\n"
     ]
    },
    {
     "data": {
      "text/plain": [
       "0.7354043684830138"
      ]
     },
     "execution_count": 89,
     "metadata": {},
     "output_type": "execute_result"
    }
   ],
   "source": [
    "etc = ExtraTreesClassifier(**study.best_params)\n",
    "np.array(train(etc, verbose=True, test_ratio=0.991)).mean()"
   ]
  },
  {
   "cell_type": "code",
   "execution_count": 88,
   "metadata": {},
   "outputs": [
    {
     "name": "stdout",
     "output_type": "stream",
     "text": [
      "ExtraTreesClassifier\n",
      "training time: 0.4827249050140381\n",
      "train acc: 0.9988888888888889\n",
      "test acc: 0.7283154641775984\n",
      "eval time: 5.176174163818359\n"
     ]
    },
    {
     "data": {
      "text/plain": [
       "0.8636021765332437"
      ]
     },
     "execution_count": 88,
     "metadata": {},
     "output_type": "execute_result"
    }
   ],
   "source": [
    "etc = ExtraTreesClassifier()\n",
    "np.array(train(etc, verbose=True, test_ratio=0.991)).mean()"
   ]
  }
 ],
 "metadata": {
  "kernelspec": {
   "display_name": "venv",
   "language": "python",
   "name": "python3"
  },
  "language_info": {
   "codemirror_mode": {
    "name": "ipython",
    "version": 3
   },
   "file_extension": ".py",
   "mimetype": "text/x-python",
   "name": "python",
   "nbconvert_exporter": "python",
   "pygments_lexer": "ipython3",
   "version": "3.9.13"
  }
 },
 "nbformat": 4,
 "nbformat_minor": 2
}
